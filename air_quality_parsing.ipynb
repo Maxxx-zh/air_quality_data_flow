{
 "cells": [
  {
   "cell_type": "markdown",
   "id": "f04d5c5e",
   "metadata": {},
   "source": [
    "## <span style='color:#ff5f27'> 📝 Imports"
   ]
  },
  {
   "cell_type": "code",
   "execution_count": 1,
   "id": "cd165941",
   "metadata": {},
   "outputs": [],
   "source": [
    "import requests\n",
    "import json\n",
    "from datetime import datetime\n",
    "\n",
    "import pandas as pd"
   ]
  },
  {
   "cell_type": "markdown",
   "id": "34323812",
   "metadata": {},
   "source": [
    "## <span style='color:#ff5f27'> 👮🏻‍♂️ API Key"
   ]
  },
  {
   "cell_type": "code",
   "execution_count": 2,
   "id": "3c1f9db1",
   "metadata": {},
   "outputs": [],
   "source": [
    "API_KEY = 'YOUR_API_KEY'"
   ]
  },
  {
   "cell_type": "markdown",
   "id": "58c2d0c3",
   "metadata": {},
   "source": [
    "## <span style='color:#ff5f27'> 🧑🏻‍🏫 Functions"
   ]
  },
  {
   "cell_type": "code",
   "execution_count": 3,
   "id": "2b9fd885",
   "metadata": {},
   "outputs": [],
   "source": [
    "def get_json(city_name):\n",
    "    return requests.get(f'https://api.waqi.info/feed/{city_name}/?token={API_KEY}').json()['data']\n",
    "\n",
    "\n",
    "def get_data(city_name):\n",
    "    json = get_json(city_name)\n",
    "    iaqi = json['iaqi']\n",
    "    forecast = json['forecast']['daily']\n",
    "    return [\n",
    "        city_name,\n",
    "        json['aqi'],                 # AQI \n",
    "        json['time']['s'],           # Date\n",
    "        str(json['city']['geo']),    # Location\n",
    "        iaqi['h']['v'],\n",
    "        iaqi['p']['v'],\n",
    "        iaqi['pm10']['v'],\n",
    "        iaqi['t']['v'],\n",
    "        forecast['o3'][0]['avg'],\n",
    "        forecast['o3'][0]['max'],\n",
    "        forecast['o3'][0]['min'],\n",
    "        forecast['pm10'][0]['avg'],\n",
    "        forecast['pm10'][0]['max'],\n",
    "        forecast['pm10'][0]['min'],\n",
    "        forecast['pm25'][0]['avg'],\n",
    "        forecast['pm25'][0]['max'],\n",
    "        forecast['pm25'][0]['min'],\n",
    "        forecast['uvi'][0]['avg'],\n",
    "        forecast['uvi'][0]['avg'],\n",
    "        forecast['uvi'][0]['avg']\n",
    "    ]\n",
    "\n",
    "\n",
    "def timestamp_2_time(x):\n",
    "    dt_obj = datetime.strptime(str(x), '%Y-%m-%d %H:%M:%S')\n",
    "    dt_obj = dt_obj.timestamp() * 1000\n",
    "    return int(dt_obj)"
   ]
  },
  {
   "cell_type": "markdown",
   "id": "8222b34a",
   "metadata": {},
   "source": [
    "## <span style='color:#ff5f27'> 👩🏻‍🔬 Parsing"
   ]
  },
  {
   "cell_type": "code",
   "execution_count": 4,
   "id": "bbdf03ba",
   "metadata": {},
   "outputs": [],
   "source": [
    "cities = ['Kyiv','Lviv','Stockholm','Sundsvall','Malmo']\n",
    "\n",
    "data_parsed = [get_data(city) for city in cities]"
   ]
  },
  {
   "cell_type": "markdown",
   "id": "87e0300b",
   "metadata": {},
   "source": [
    "## <span style='color:#ff5f27'> 🧑🏻‍🏫 Dataset Preparation"
   ]
  },
  {
   "cell_type": "code",
   "execution_count": 5,
   "id": "1abe69b7",
   "metadata": {},
   "outputs": [],
   "source": [
    "col_names = [\n",
    "    'city',\n",
    "    'aqi',\n",
    "    'date',\n",
    "    'location',\n",
    "    'iaqi_h',\n",
    "    'iaqi_p',\n",
    "    'iaqi_pm10',\n",
    "    'iaqi_t',\n",
    "    'o3_avg',\n",
    "    'o3_max',\n",
    "    'o3_min',\n",
    "    'pm10_avg',\n",
    "    'pm10_max',\n",
    "    'pm10_min',\n",
    "    'pm25_avg',\n",
    "    'pm25_max',\n",
    "    'pm25_min',  \n",
    "    'uvi_avg',\n",
    "    'uvi_max',\n",
    "    'uvi_min', \n",
    "]"
   ]
  },
  {
   "cell_type": "code",
   "execution_count": 6,
   "id": "c645d8b3",
   "metadata": {},
   "outputs": [
    {
     "data": {
      "text/html": [
       "<div>\n",
       "<style scoped>\n",
       "    .dataframe tbody tr th:only-of-type {\n",
       "        vertical-align: middle;\n",
       "    }\n",
       "\n",
       "    .dataframe tbody tr th {\n",
       "        vertical-align: top;\n",
       "    }\n",
       "\n",
       "    .dataframe thead th {\n",
       "        text-align: right;\n",
       "    }\n",
       "</style>\n",
       "<table border=\"1\" class=\"dataframe\">\n",
       "  <thead>\n",
       "    <tr style=\"text-align: right;\">\n",
       "      <th></th>\n",
       "      <th>city</th>\n",
       "      <th>aqi</th>\n",
       "      <th>date</th>\n",
       "      <th>location</th>\n",
       "      <th>iaqi_h</th>\n",
       "      <th>iaqi_p</th>\n",
       "      <th>iaqi_pm10</th>\n",
       "      <th>iaqi_t</th>\n",
       "      <th>o3_avg</th>\n",
       "      <th>o3_max</th>\n",
       "      <th>o3_min</th>\n",
       "      <th>pm10_avg</th>\n",
       "      <th>pm10_max</th>\n",
       "      <th>pm10_min</th>\n",
       "      <th>pm25_avg</th>\n",
       "      <th>pm25_max</th>\n",
       "      <th>pm25_min</th>\n",
       "      <th>uvi_avg</th>\n",
       "      <th>uvi_max</th>\n",
       "      <th>uvi_min</th>\n",
       "    </tr>\n",
       "  </thead>\n",
       "  <tbody>\n",
       "    <tr>\n",
       "      <th>0</th>\n",
       "      <td>Kyiv</td>\n",
       "      <td>6</td>\n",
       "      <td>1662487200000</td>\n",
       "      <td>[50.444, 30.54]</td>\n",
       "      <td>98.78</td>\n",
       "      <td>1022.7</td>\n",
       "      <td>2</td>\n",
       "      <td>13.91</td>\n",
       "      <td>19</td>\n",
       "      <td>27</td>\n",
       "      <td>11</td>\n",
       "      <td>7</td>\n",
       "      <td>11</td>\n",
       "      <td>4</td>\n",
       "      <td>23</td>\n",
       "      <td>39</td>\n",
       "      <td>14</td>\n",
       "      <td>0</td>\n",
       "      <td>0</td>\n",
       "      <td>0</td>\n",
       "    </tr>\n",
       "    <tr>\n",
       "      <th>1</th>\n",
       "      <td>Lviv</td>\n",
       "      <td>10</td>\n",
       "      <td>1655830800000</td>\n",
       "      <td>[49.8475, 24.0155]</td>\n",
       "      <td>93.00</td>\n",
       "      <td>97615.0</td>\n",
       "      <td>9</td>\n",
       "      <td>16.30</td>\n",
       "      <td>30</td>\n",
       "      <td>34</td>\n",
       "      <td>29</td>\n",
       "      <td>5</td>\n",
       "      <td>11</td>\n",
       "      <td>5</td>\n",
       "      <td>18</td>\n",
       "      <td>38</td>\n",
       "      <td>15</td>\n",
       "      <td>1</td>\n",
       "      <td>1</td>\n",
       "      <td>1</td>\n",
       "    </tr>\n",
       "    <tr>\n",
       "      <th>2</th>\n",
       "      <td>Stockholm</td>\n",
       "      <td>13</td>\n",
       "      <td>1662476400000</td>\n",
       "      <td>[59.34082695028323, 18.05825368127835]</td>\n",
       "      <td>59.00</td>\n",
       "      <td>1021.0</td>\n",
       "      <td>13</td>\n",
       "      <td>17.00</td>\n",
       "      <td>17</td>\n",
       "      <td>25</td>\n",
       "      <td>6</td>\n",
       "      <td>6</td>\n",
       "      <td>12</td>\n",
       "      <td>3</td>\n",
       "      <td>14</td>\n",
       "      <td>30</td>\n",
       "      <td>9</td>\n",
       "      <td>0</td>\n",
       "      <td>0</td>\n",
       "      <td>0</td>\n",
       "    </tr>\n",
       "    <tr>\n",
       "      <th>3</th>\n",
       "      <td>Sundsvall</td>\n",
       "      <td>11</td>\n",
       "      <td>1662476400000</td>\n",
       "      <td>[62.38855964418764, 17.308889830123555]</td>\n",
       "      <td>34.30</td>\n",
       "      <td>1020.5</td>\n",
       "      <td>10</td>\n",
       "      <td>15.80</td>\n",
       "      <td>19</td>\n",
       "      <td>25</td>\n",
       "      <td>13</td>\n",
       "      <td>3</td>\n",
       "      <td>4</td>\n",
       "      <td>2</td>\n",
       "      <td>7</td>\n",
       "      <td>8</td>\n",
       "      <td>6</td>\n",
       "      <td>0</td>\n",
       "      <td>0</td>\n",
       "      <td>0</td>\n",
       "    </tr>\n",
       "    <tr>\n",
       "      <th>4</th>\n",
       "      <td>Malmo</td>\n",
       "      <td>23</td>\n",
       "      <td>1662476400000</td>\n",
       "      <td>[55.606388092041016, 13.00196361541748]</td>\n",
       "      <td>54.50</td>\n",
       "      <td>1019.0</td>\n",
       "      <td>4</td>\n",
       "      <td>17.30</td>\n",
       "      <td>27</td>\n",
       "      <td>32</td>\n",
       "      <td>24</td>\n",
       "      <td>5</td>\n",
       "      <td>5</td>\n",
       "      <td>3</td>\n",
       "      <td>10</td>\n",
       "      <td>11</td>\n",
       "      <td>8</td>\n",
       "      <td>1</td>\n",
       "      <td>1</td>\n",
       "      <td>1</td>\n",
       "    </tr>\n",
       "  </tbody>\n",
       "</table>\n",
       "</div>"
      ],
      "text/plain": [
       "        city  aqi           date                                 location  \\\n",
       "0       Kyiv    6  1662487200000                          [50.444, 30.54]   \n",
       "1       Lviv   10  1655830800000                       [49.8475, 24.0155]   \n",
       "2  Stockholm   13  1662476400000   [59.34082695028323, 18.05825368127835]   \n",
       "3  Sundsvall   11  1662476400000  [62.38855964418764, 17.308889830123555]   \n",
       "4      Malmo   23  1662476400000  [55.606388092041016, 13.00196361541748]   \n",
       "\n",
       "   iaqi_h   iaqi_p  iaqi_pm10  iaqi_t  o3_avg  o3_max  o3_min  pm10_avg  \\\n",
       "0   98.78   1022.7          2   13.91      19      27      11         7   \n",
       "1   93.00  97615.0          9   16.30      30      34      29         5   \n",
       "2   59.00   1021.0         13   17.00      17      25       6         6   \n",
       "3   34.30   1020.5         10   15.80      19      25      13         3   \n",
       "4   54.50   1019.0          4   17.30      27      32      24         5   \n",
       "\n",
       "   pm10_max  pm10_min  pm25_avg  pm25_max  pm25_min  uvi_avg  uvi_max  uvi_min  \n",
       "0        11         4        23        39        14        0        0        0  \n",
       "1        11         5        18        38        15        1        1        1  \n",
       "2        12         3        14        30         9        0        0        0  \n",
       "3         4         2         7         8         6        0        0        0  \n",
       "4         5         3        10        11         8        1        1        1  "
      ]
     },
     "execution_count": 6,
     "metadata": {},
     "output_type": "execute_result"
    }
   ],
   "source": [
    "new_data = pd.DataFrame(\n",
    "    data_parsed,\n",
    "    columns=col_names\n",
    ")\n",
    "new_data.date = new_data.date.apply(timestamp_2_time)\n",
    "\n",
    "new_data.head()"
   ]
  },
  {
   "cell_type": "markdown",
   "id": "cb6f83ba",
   "metadata": {},
   "source": [
    "## <span style=\"color:#ff5f27;\"> 🔮 Connecting to Hopsworks Feature Store </span>"
   ]
  },
  {
   "cell_type": "code",
   "execution_count": 7,
   "id": "dd068240",
   "metadata": {},
   "outputs": [
    {
     "name": "stdout",
     "output_type": "stream",
     "text": [
      "Connected. Call `.close()` to terminate connection gracefully.\n",
      "\n",
      "Logged in to project, explore it here https://c.app.hopsworks.ai:443/p/167\n",
      "Connected. Call `.close()` to terminate connection gracefully.\n"
     ]
    }
   ],
   "source": [
    "import hopsworks\n",
    "\n",
    "project = hopsworks.login()\n",
    "\n",
    "fs = project.get_feature_store() "
   ]
  },
  {
   "cell_type": "markdown",
   "id": "63d8c3b9",
   "metadata": {},
   "source": [
    "## <span style=\"color:#ff5f27;\">🪄 👩🏻‍🔬 Retrieving or Creating Feature Group</span>"
   ]
  },
  {
   "cell_type": "code",
   "execution_count": 8,
   "id": "7e965534",
   "metadata": {},
   "outputs": [],
   "source": [
    "def get_or_create_feature_group(name='air_quality',fs=fs):\n",
    "    feature_group = fs.get_or_create_feature_group(\n",
    "        name=name,\n",
    "        description = 'Characteristics of each day',\n",
    "        version = 1,\n",
    "        primary_key = ['index'],\n",
    "        online_enabled = True,\n",
    "        event_time = ['date']\n",
    "    )    \n",
    "    return feature_group"
   ]
  },
  {
   "cell_type": "code",
   "execution_count": 9,
   "id": "9d7088a8",
   "metadata": {},
   "outputs": [
    {
     "data": {
      "application/vnd.jupyter.widget-view+json": {
       "model_id": "b6935da25b9f423aa52869c84a50be91",
       "version_major": 2,
       "version_minor": 0
      },
      "text/plain": [
       "Uploading Dataframe: 0.00% |          | Rows 0/5 | Elapsed Time: 00:00 | Remaining Time: ?"
      ]
     },
     "metadata": {},
     "output_type": "display_data"
    },
    {
     "name": "stdout",
     "output_type": "stream",
     "text": [
      "Launching offline feature group backfill job...\n",
      "Backfill Job started successfully, you can follow the progress at \n",
      "https://c.app.hopsworks.ai/p/167/jobs/named/air_quality_1_offline_fg_backfill/executions\n"
     ]
    },
    {
     "data": {
      "text/plain": [
       "(<hsfs.core.job.Job at 0x7f91d3682400>, None)"
      ]
     },
     "execution_count": 9,
     "metadata": {},
     "output_type": "execute_result"
    }
   ],
   "source": [
    "feature_group = get_or_create_feature_group()\n",
    "\n",
    "feature_group.insert(new_data.reset_index())"
   ]
  },
  {
   "cell_type": "markdown",
   "id": "0ded6f81",
   "metadata": {},
   "source": [
    "---"
   ]
  }
 ],
 "metadata": {
  "kernelspec": {
   "display_name": "Python 3 (ipykernel)",
   "language": "python",
   "name": "python3"
  },
  "language_info": {
   "codemirror_mode": {
    "name": "ipython",
    "version": 3
   },
   "file_extension": ".py",
   "mimetype": "text/x-python",
   "name": "python",
   "nbconvert_exporter": "python",
   "pygments_lexer": "ipython3",
   "version": "3.9.12"
  }
 },
 "nbformat": 4,
 "nbformat_minor": 5
}
