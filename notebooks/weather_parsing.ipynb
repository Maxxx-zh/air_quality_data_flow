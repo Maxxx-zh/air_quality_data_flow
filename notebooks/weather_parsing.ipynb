{
 "cells": [
  {
   "cell_type": "markdown",
   "id": "a7dcc328",
   "metadata": {},
   "source": [
    "## <span style='color:#ff5f27'> 📝 Imports"
   ]
  },
  {
   "cell_type": "code",
   "execution_count": 1,
   "id": "364e961e",
   "metadata": {},
   "outputs": [],
   "source": [
    "import pandas as pd\n",
    "from datetime import datetime\n",
    "import time \n",
    "import requests"
   ]
  },
  {
   "cell_type": "markdown",
   "id": "114041a3",
   "metadata": {},
   "source": [
    "## <span style='color:#ff5f27'> 👮🏻‍♂️ API Key"
   ]
  },
  {
   "cell_type": "code",
   "execution_count": 2,
   "id": "010c9b4a",
   "metadata": {},
   "outputs": [],
   "source": [
    "API_KEY = 'YOUR_API_KEY'\n",
    "\n",
    "date_today = datetime.now().strftime(\"%Y-%m-%d\")"
   ]
  },
  {
   "cell_type": "markdown",
   "id": "537e5499",
   "metadata": {},
   "source": [
    "## <span style='color:#ff5f27'> 🧑🏻‍🏫 Functions"
   ]
  },
  {
   "cell_type": "code",
   "execution_count": 3,
   "id": "2423f40f",
   "metadata": {},
   "outputs": [],
   "source": [
    "def get_json(city, date, API_KEY=API_KEY):\n",
    "    return requests.get(f'https://weather.visualcrossing.com/VisualCrossingWebServices/rest/services/timeline/{city.lower()}/{date}?unitGroup=metric&include=days&key={API_KEY}&contentType=json')\\\n",
    "            .json()\n",
    "\n",
    "\n",
    "def get_data(city_name,date=date_today):\n",
    "    json = get_json(city_name,date)\n",
    "    data = json['days'][0]\n",
    "    \n",
    "    return [\n",
    "        json['address'].capitalize(),\n",
    "        [json['latitude'],json['longitude']],\n",
    "        data['datetime'],\n",
    "        data['tempmax'],\n",
    "        data['tempmin'],\n",
    "        data['temp'],\n",
    "        data['feelslikemax'],\n",
    "        data['feelslikemin'],\n",
    "        data['feelslike'],\n",
    "        data['dew'],\n",
    "        data['humidity'],\n",
    "        data['precip'],\n",
    "        data['precipprob'],\n",
    "        data['precipcover'],\n",
    "        data['snow'],\n",
    "        data['snowdepth'],\n",
    "        data['windgust'],\n",
    "        data['windspeed'],\n",
    "        data['winddir'],\n",
    "        data['pressure'],\n",
    "        data['cloudcover'],\n",
    "        data['visibility'],\n",
    "        data['solarradiation'],\n",
    "        data['solarenergy'],\n",
    "        data['uvindex'],\n",
    "        data['conditions']\n",
    "    ]\n",
    "\n",
    "\n",
    "def timestamp_2_time(x):\n",
    "    dt_obj = datetime.strptime(str(x), '%Y-%m-%d')\n",
    "    dt_obj = dt_obj.timestamp() * 1000\n",
    "    return int(dt_obj)"
   ]
  },
  {
   "cell_type": "markdown",
   "id": "5c5be1bc",
   "metadata": {},
   "source": [
    "## <span style='color:#ff5f27'> 🕵🏻‍♂️ Parsing"
   ]
  },
  {
   "cell_type": "code",
   "execution_count": 4,
   "id": "5cc510eb",
   "metadata": {},
   "outputs": [],
   "source": [
    "cities = ['Kyiv','Stockholm','Sundsvall','Malmo']\n",
    "\n",
    "data_parsed = [get_data(city) for city in cities]"
   ]
  },
  {
   "cell_type": "markdown",
   "id": "cca6814a",
   "metadata": {},
   "source": [
    "## <span style='color:#ff5f27'> 🧑🏻‍🏫 Dataset Preparation"
   ]
  },
  {
   "cell_type": "code",
   "execution_count": 5,
   "id": "1bb05eb8",
   "metadata": {},
   "outputs": [],
   "source": [
    "col_names = [\n",
    "    'city',\n",
    "    'location',\n",
    "    'date',\n",
    "    'tempmax',\n",
    "    'tempmin',\n",
    "    'temp',\n",
    "    'feelslikemax',\n",
    "    'feelslikemin',\n",
    "    'feelslike',\n",
    "    'dew',\n",
    "    'humidity',\n",
    "    'precip',\n",
    "    'precipprob',\n",
    "    'precipcover',\n",
    "    'snow',\n",
    "    'snowdepth',\n",
    "    'windgust',\n",
    "    'windspeed',  \n",
    "    'winddir',\n",
    "    'pressure',\n",
    "    'cloudcover', \n",
    "    'visibility',\n",
    "    'solarradiation',\n",
    "    'solarenergy',\n",
    "    'uvindex',\n",
    "    'conditions'\n",
    "]"
   ]
  },
  {
   "cell_type": "code",
   "execution_count": 6,
   "id": "83976b2e",
   "metadata": {},
   "outputs": [
    {
     "data": {
      "text/html": [
       "<div>\n",
       "<style scoped>\n",
       "    .dataframe tbody tr th:only-of-type {\n",
       "        vertical-align: middle;\n",
       "    }\n",
       "\n",
       "    .dataframe tbody tr th {\n",
       "        vertical-align: top;\n",
       "    }\n",
       "\n",
       "    .dataframe thead th {\n",
       "        text-align: right;\n",
       "    }\n",
       "</style>\n",
       "<table border=\"1\" class=\"dataframe\">\n",
       "  <thead>\n",
       "    <tr style=\"text-align: right;\">\n",
       "      <th></th>\n",
       "      <th>city</th>\n",
       "      <th>location</th>\n",
       "      <th>date</th>\n",
       "      <th>tempmax</th>\n",
       "      <th>tempmin</th>\n",
       "      <th>temp</th>\n",
       "      <th>feelslikemax</th>\n",
       "      <th>feelslikemin</th>\n",
       "      <th>feelslike</th>\n",
       "      <th>dew</th>\n",
       "      <th>...</th>\n",
       "      <th>windgust</th>\n",
       "      <th>windspeed</th>\n",
       "      <th>winddir</th>\n",
       "      <th>pressure</th>\n",
       "      <th>cloudcover</th>\n",
       "      <th>visibility</th>\n",
       "      <th>solarradiation</th>\n",
       "      <th>solarenergy</th>\n",
       "      <th>uvindex</th>\n",
       "      <th>conditions</th>\n",
       "    </tr>\n",
       "  </thead>\n",
       "  <tbody>\n",
       "    <tr>\n",
       "      <th>0</th>\n",
       "      <td>Kyiv</td>\n",
       "      <td>[50.4506, 30.5243]</td>\n",
       "      <td>1662498000000</td>\n",
       "      <td>17.7</td>\n",
       "      <td>4.6</td>\n",
       "      <td>11.5</td>\n",
       "      <td>17.7</td>\n",
       "      <td>4.6</td>\n",
       "      <td>11.5</td>\n",
       "      <td>1.8</td>\n",
       "      <td>...</td>\n",
       "      <td>24.5</td>\n",
       "      <td>9.7</td>\n",
       "      <td>267.0</td>\n",
       "      <td>1022.3</td>\n",
       "      <td>34.8</td>\n",
       "      <td>24.1</td>\n",
       "      <td>227.5</td>\n",
       "      <td>19.6</td>\n",
       "      <td>7.0</td>\n",
       "      <td>Partially cloudy</td>\n",
       "    </tr>\n",
       "    <tr>\n",
       "      <th>1</th>\n",
       "      <td>Stockholm</td>\n",
       "      <td>[59.3326, 18.0668]</td>\n",
       "      <td>1662498000000</td>\n",
       "      <td>15.9</td>\n",
       "      <td>7.8</td>\n",
       "      <td>12.0</td>\n",
       "      <td>15.9</td>\n",
       "      <td>7.1</td>\n",
       "      <td>11.8</td>\n",
       "      <td>7.0</td>\n",
       "      <td>...</td>\n",
       "      <td>25.2</td>\n",
       "      <td>13.0</td>\n",
       "      <td>70.7</td>\n",
       "      <td>1022.0</td>\n",
       "      <td>59.5</td>\n",
       "      <td>15.3</td>\n",
       "      <td>132.5</td>\n",
       "      <td>11.6</td>\n",
       "      <td>5.0</td>\n",
       "      <td>Partially cloudy</td>\n",
       "    </tr>\n",
       "    <tr>\n",
       "      <th>2</th>\n",
       "      <td>Sundsvall</td>\n",
       "      <td>[62.3889, 17.3067]</td>\n",
       "      <td>1662498000000</td>\n",
       "      <td>13.0</td>\n",
       "      <td>3.0</td>\n",
       "      <td>8.6</td>\n",
       "      <td>13.0</td>\n",
       "      <td>0.1</td>\n",
       "      <td>7.4</td>\n",
       "      <td>5.5</td>\n",
       "      <td>...</td>\n",
       "      <td>31.0</td>\n",
       "      <td>14.3</td>\n",
       "      <td>192.9</td>\n",
       "      <td>1024.1</td>\n",
       "      <td>90.8</td>\n",
       "      <td>15.3</td>\n",
       "      <td>116.1</td>\n",
       "      <td>10.1</td>\n",
       "      <td>5.0</td>\n",
       "      <td>Overcast</td>\n",
       "    </tr>\n",
       "    <tr>\n",
       "      <th>3</th>\n",
       "      <td>Malmo</td>\n",
       "      <td>[55.5967, 13.0011]</td>\n",
       "      <td>1662498000000</td>\n",
       "      <td>20.6</td>\n",
       "      <td>12.4</td>\n",
       "      <td>15.9</td>\n",
       "      <td>20.6</td>\n",
       "      <td>12.4</td>\n",
       "      <td>15.9</td>\n",
       "      <td>9.3</td>\n",
       "      <td>...</td>\n",
       "      <td>44.6</td>\n",
       "      <td>23.7</td>\n",
       "      <td>97.9</td>\n",
       "      <td>1018.4</td>\n",
       "      <td>69.0</td>\n",
       "      <td>15.2</td>\n",
       "      <td>157.3</td>\n",
       "      <td>13.7</td>\n",
       "      <td>5.0</td>\n",
       "      <td>Partially cloudy</td>\n",
       "    </tr>\n",
       "  </tbody>\n",
       "</table>\n",
       "<p>4 rows × 26 columns</p>\n",
       "</div>"
      ],
      "text/plain": [
       "        city            location           date  tempmax  tempmin  temp  \\\n",
       "0       Kyiv  [50.4506, 30.5243]  1662498000000     17.7      4.6  11.5   \n",
       "1  Stockholm  [59.3326, 18.0668]  1662498000000     15.9      7.8  12.0   \n",
       "2  Sundsvall  [62.3889, 17.3067]  1662498000000     13.0      3.0   8.6   \n",
       "3      Malmo  [55.5967, 13.0011]  1662498000000     20.6     12.4  15.9   \n",
       "\n",
       "   feelslikemax  feelslikemin  feelslike  dew  ...  windgust  windspeed  \\\n",
       "0          17.7           4.6       11.5  1.8  ...      24.5        9.7   \n",
       "1          15.9           7.1       11.8  7.0  ...      25.2       13.0   \n",
       "2          13.0           0.1        7.4  5.5  ...      31.0       14.3   \n",
       "3          20.6          12.4       15.9  9.3  ...      44.6       23.7   \n",
       "\n",
       "   winddir  pressure  cloudcover  visibility  solarradiation  solarenergy  \\\n",
       "0    267.0    1022.3        34.8        24.1           227.5         19.6   \n",
       "1     70.7    1022.0        59.5        15.3           132.5         11.6   \n",
       "2    192.9    1024.1        90.8        15.3           116.1         10.1   \n",
       "3     97.9    1018.4        69.0        15.2           157.3         13.7   \n",
       "\n",
       "   uvindex        conditions  \n",
       "0      7.0  Partially cloudy  \n",
       "1      5.0  Partially cloudy  \n",
       "2      5.0          Overcast  \n",
       "3      5.0  Partially cloudy  \n",
       "\n",
       "[4 rows x 26 columns]"
      ]
     },
     "execution_count": 6,
     "metadata": {},
     "output_type": "execute_result"
    }
   ],
   "source": [
    "new_data = pd.DataFrame(\n",
    "    data_parsed,\n",
    "    columns=col_names\n",
    ")\n",
    "new_data.date = new_data.date.apply(timestamp_2_time)\n",
    "\n",
    "new_data.head()"
   ]
  },
  {
   "cell_type": "markdown",
   "id": "10c2618b",
   "metadata": {},
   "source": [
    "## <span style=\"color:#ff5f27;\"> 🔮 Connecting to Hopsworks Feature Store </span>"
   ]
  },
  {
   "cell_type": "code",
   "execution_count": 7,
   "id": "4530f803",
   "metadata": {},
   "outputs": [
    {
     "name": "stdout",
     "output_type": "stream",
     "text": [
      "Connected. Call `.close()` to terminate connection gracefully.\n",
      "\n",
      "Logged in to project, explore it here https://c.app.hopsworks.ai:443/p/167\n",
      "Connected. Call `.close()` to terminate connection gracefully.\n"
     ]
    }
   ],
   "source": [
    "import hopsworks\n",
    "\n",
    "project = hopsworks.login()\n",
    "\n",
    "fs = project.get_feature_store() "
   ]
  },
  {
   "cell_type": "markdown",
   "id": "5aef353d",
   "metadata": {},
   "source": [
    "## <span style=\"color:#ff5f27;\">🪄 👩🏻‍🔬 Retrieving or Creating Feature Group</span>"
   ]
  },
  {
   "cell_type": "code",
   "execution_count": 8,
   "id": "7978f51b",
   "metadata": {},
   "outputs": [],
   "source": [
    "def get_or_create_feature_group(name='weather_fg',fs=fs):\n",
    "    feature_group = fs.get_or_create_feature_group(\n",
    "        name=name,\n",
    "        description = 'Characteristics of each day',\n",
    "        version = 1,\n",
    "        primary_key = ['index'],\n",
    "        online_enabled = True,\n",
    "        event_time = ['date']\n",
    "    )\n",
    "    return feature_group"
   ]
  },
  {
   "cell_type": "code",
   "execution_count": 9,
   "id": "d275ee07",
   "metadata": {},
   "outputs": [
    {
     "name": "stdout",
     "output_type": "stream",
     "text": [
      "Feature Group created successfully, explore it at \n",
      "https://c.app.hopsworks.ai:443/p/167/fs/109/fg/786\n"
     ]
    },
    {
     "data": {
      "application/vnd.jupyter.widget-view+json": {
       "model_id": "23942df22cd84cb196e33259f57defe7",
       "version_major": 2,
       "version_minor": 0
      },
      "text/plain": [
       "Uploading Dataframe: 0.00% |          | Rows 0/4 | Elapsed Time: 00:00 | Remaining Time: ?"
      ]
     },
     "metadata": {},
     "output_type": "display_data"
    },
    {
     "name": "stdout",
     "output_type": "stream",
     "text": [
      "Launching offline feature group backfill job...\n",
      "Backfill Job started successfully, you can follow the progress at \n",
      "https://c.app.hopsworks.ai/p/167/jobs/named/weather_fg_1_offline_fg_backfill/executions\n"
     ]
    },
    {
     "data": {
      "text/plain": [
       "(<hsfs.core.job.Job at 0x7fc40e7cb2e0>, None)"
      ]
     },
     "execution_count": 9,
     "metadata": {},
     "output_type": "execute_result"
    }
   ],
   "source": [
    "feature_group = get_or_create_feature_group()\n",
    "\n",
    "feature_group.insert(new_data.reset_index())"
   ]
  },
  {
   "cell_type": "markdown",
   "id": "b3b7d4c4",
   "metadata": {},
   "source": [
    "---"
   ]
  }
 ],
 "metadata": {
  "kernelspec": {
   "display_name": "Python 3 (ipykernel)",
   "language": "python",
   "name": "python3"
  },
  "language_info": {
   "codemirror_mode": {
    "name": "ipython",
    "version": 3
   },
   "file_extension": ".py",
   "mimetype": "text/x-python",
   "name": "python",
   "nbconvert_exporter": "python",
   "pygments_lexer": "ipython3",
   "version": "3.9.12"
  }
 },
 "nbformat": 4,
 "nbformat_minor": 5
}
