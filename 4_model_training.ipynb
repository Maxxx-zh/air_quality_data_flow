{
 "cells": [
  {
   "cell_type": "markdown",
   "id": "dbd751f5",
   "metadata": {},
   "source": [
    "# <span style=\"font-width:bold; font-size: 3rem; color:#1EB182;\"><img src=\"images/icon102.png\" width=\"38px\"></img> **Hopsworks Feature Store** </span><span style=\"font-width:bold; font-size: 3rem; color:#333;\">- Part 04: Batch Predictions</span>\n",
    "\n",
    "\n",
    "## 🗒️ In this notebook we will see how to create a training dataset from the feature groups: \n",
    "\n",
    "1. Loading the training data.\n",
    "2. Train the model.\n",
    "3. Register model in Hopsworks model registry.\n",
    "\n",
    "![part3](images/03_model.png) "
   ]
  },
  {
   "cell_type": "markdown",
   "id": "e05af617",
   "metadata": {},
   "source": [
    "## <span style=\"color:#ff5f27;\"> 🔮 Connecting to Hopsworks Feature Store </span>"
   ]
  },
  {
   "cell_type": "code",
   "execution_count": 84,
   "id": "6539d56a",
   "metadata": {},
   "outputs": [
    {
     "name": "stdout",
     "output_type": "stream",
     "text": [
      "Connection closed.\n",
      "Connected. Call `.close()` to terminate connection gracefully.\n",
      "\n",
      "Logged in to project, explore it here https://c.app.hopsworks.ai:443/p/167\n",
      "Connected. Call `.close()` to terminate connection gracefully.\n"
     ]
    }
   ],
   "source": [
    "import hopsworks\n",
    "\n",
    "project = hopsworks.login() \n",
    "\n",
    "fs = project.get_feature_store() "
   ]
  },
  {
   "cell_type": "markdown",
   "id": "f9d64a5d",
   "metadata": {},
   "source": [
    "## <span style=\"color:#ff5f27;\"> 🪝 Feature View and Training Dataset Retrieval </span>"
   ]
  },
  {
   "cell_type": "code",
   "execution_count": 2,
   "id": "360857d2",
   "metadata": {},
   "outputs": [],
   "source": [
    "feature_view = fs.get_feature_view(\n",
    "    name = 'air_quality_fv',\n",
    "    version = 1\n",
    ")"
   ]
  },
  {
   "cell_type": "code",
   "execution_count": 3,
   "id": "b04e30a7",
   "metadata": {},
   "outputs": [
    {
     "data": {
      "text/html": [
       "<div>\n",
       "<style scoped>\n",
       "    .dataframe tbody tr th:only-of-type {\n",
       "        vertical-align: middle;\n",
       "    }\n",
       "\n",
       "    .dataframe tbody tr th {\n",
       "        vertical-align: top;\n",
       "    }\n",
       "\n",
       "    .dataframe thead th {\n",
       "        text-align: right;\n",
       "    }\n",
       "</style>\n",
       "<table border=\"1\" class=\"dataframe\">\n",
       "  <thead>\n",
       "    <tr style=\"text-align: right;\">\n",
       "      <th></th>\n",
       "      <th>city</th>\n",
       "      <th>aqi</th>\n",
       "      <th>date</th>\n",
       "      <th>iaqi_h</th>\n",
       "      <th>iaqi_p</th>\n",
       "      <th>iaqi_pm10</th>\n",
       "      <th>iaqi_t</th>\n",
       "      <th>o3_avg</th>\n",
       "      <th>o3_max</th>\n",
       "      <th>o3_min</th>\n",
       "      <th>...</th>\n",
       "      <th>windgust</th>\n",
       "      <th>windspeed</th>\n",
       "      <th>winddir</th>\n",
       "      <th>pressure</th>\n",
       "      <th>cloudcover</th>\n",
       "      <th>visibility</th>\n",
       "      <th>solarradiation</th>\n",
       "      <th>solarenergy</th>\n",
       "      <th>uvindex</th>\n",
       "      <th>conditions</th>\n",
       "    </tr>\n",
       "  </thead>\n",
       "  <tbody>\n",
       "    <tr>\n",
       "      <th>0</th>\n",
       "      <td>2</td>\n",
       "      <td>16</td>\n",
       "      <td>1663027200000</td>\n",
       "      <td>0.296339</td>\n",
       "      <td>-0.769711</td>\n",
       "      <td>-0.228696</td>\n",
       "      <td>0.174822</td>\n",
       "      <td>-0.262875</td>\n",
       "      <td>-0.295896</td>\n",
       "      <td>-0.095551</td>\n",
       "      <td>...</td>\n",
       "      <td>1.292511</td>\n",
       "      <td>0.49434</td>\n",
       "      <td>-0.629129</td>\n",
       "      <td>-0.94677</td>\n",
       "      <td>1.251215</td>\n",
       "      <td>-1.073768</td>\n",
       "      <td>-1.719523</td>\n",
       "      <td>-1.726476</td>\n",
       "      <td>-1.878691</td>\n",
       "      <td>2</td>\n",
       "    </tr>\n",
       "    <tr>\n",
       "      <th>1</th>\n",
       "      <td>1</td>\n",
       "      <td>4</td>\n",
       "      <td>1662584400000</td>\n",
       "      <td>0.809041</td>\n",
       "      <td>1.236292</td>\n",
       "      <td>-0.41581</td>\n",
       "      <td>-2.566292</td>\n",
       "      <td>-0.047795</td>\n",
       "      <td>0.430394</td>\n",
       "      <td>0.217162</td>\n",
       "      <td>...</td>\n",
       "      <td>-0.875157</td>\n",
       "      <td>-0.986137</td>\n",
       "      <td>-0.688734</td>\n",
       "      <td>1.13537</td>\n",
       "      <td>-1.721077</td>\n",
       "      <td>0.602495</td>\n",
       "      <td>0.423267</td>\n",
       "      <td>0.419426</td>\n",
       "      <td>0.285561</td>\n",
       "      <td>0</td>\n",
       "    </tr>\n",
       "    <tr>\n",
       "      <th>2</th>\n",
       "      <td>1</td>\n",
       "      <td>19</td>\n",
       "      <td>1662940800000</td>\n",
       "      <td>-0.899964</td>\n",
       "      <td>0.344735</td>\n",
       "      <td>2.390909</td>\n",
       "      <td>0.723045</td>\n",
       "      <td>0.167284</td>\n",
       "      <td>-0.295896</td>\n",
       "      <td>0.68623</td>\n",
       "      <td>...</td>\n",
       "      <td>-0.610403</td>\n",
       "      <td>-0.512995</td>\n",
       "      <td>-0.757281</td>\n",
       "      <td>0.284408</td>\n",
       "      <td>-0.321398</td>\n",
       "      <td>-1.937297</td>\n",
       "      <td>-0.079925</td>\n",
       "      <td>-0.04877</td>\n",
       "      <td>0.285561</td>\n",
       "      <td>0</td>\n",
       "    </tr>\n",
       "    <tr>\n",
       "      <th>3</th>\n",
       "      <td>2</td>\n",
       "      <td>8</td>\n",
       "      <td>1662584400000</td>\n",
       "      <td>-0.764249</td>\n",
       "      <td>1.28087</td>\n",
       "      <td>-0.41581</td>\n",
       "      <td>-0.949035</td>\n",
       "      <td>-0.262875</td>\n",
       "      <td>-0.295896</td>\n",
       "      <td>0.373518</td>\n",
       "      <td>...</td>\n",
       "      <td>-0.941345</td>\n",
       "      <td>-1.154026</td>\n",
       "      <td>-0.092678</td>\n",
       "      <td>1.244003</td>\n",
       "      <td>0.402761</td>\n",
       "      <td>0.602495</td>\n",
       "      <td>0.134522</td>\n",
       "      <td>0.107295</td>\n",
       "      <td>0.285561</td>\n",
       "      <td>0</td>\n",
       "    </tr>\n",
       "    <tr>\n",
       "      <th>4</th>\n",
       "      <td>1</td>\n",
       "      <td>16</td>\n",
       "      <td>1662930000000</td>\n",
       "      <td>-1.101023</td>\n",
       "      <td>0.344735</td>\n",
       "      <td>1.829565</td>\n",
       "      <td>0.997157</td>\n",
       "      <td>0.167284</td>\n",
       "      <td>-0.295896</td>\n",
       "      <td>0.68623</td>\n",
       "      <td>...</td>\n",
       "      <td>-0.701412</td>\n",
       "      <td>-0.757197</td>\n",
       "      <td>-0.761751</td>\n",
       "      <td>0.293461</td>\n",
       "      <td>0.073106</td>\n",
       "      <td>-1.327747</td>\n",
       "      <td>0.011257</td>\n",
       "      <td>0.029262</td>\n",
       "      <td>0.285561</td>\n",
       "      <td>0</td>\n",
       "    </tr>\n",
       "  </tbody>\n",
       "</table>\n",
       "<p>5 rows × 42 columns</p>\n",
       "</div>"
      ],
      "text/plain": [
       "  city aqi           date    iaqi_h    iaqi_p iaqi_pm10    iaqi_t    o3_avg  \\\n",
       "0    2  16  1663027200000  0.296339 -0.769711 -0.228696  0.174822 -0.262875   \n",
       "1    1   4  1662584400000  0.809041  1.236292  -0.41581 -2.566292 -0.047795   \n",
       "2    1  19  1662940800000 -0.899964  0.344735  2.390909  0.723045  0.167284   \n",
       "3    2   8  1662584400000 -0.764249   1.28087  -0.41581 -0.949035 -0.262875   \n",
       "4    1  16  1662930000000 -1.101023  0.344735  1.829565  0.997157  0.167284   \n",
       "\n",
       "     o3_max    o3_min  ...  windgust windspeed   winddir  pressure cloudcover  \\\n",
       "0 -0.295896 -0.095551  ...  1.292511   0.49434 -0.629129  -0.94677   1.251215   \n",
       "1  0.430394  0.217162  ... -0.875157 -0.986137 -0.688734   1.13537  -1.721077   \n",
       "2 -0.295896   0.68623  ... -0.610403 -0.512995 -0.757281  0.284408  -0.321398   \n",
       "3 -0.295896  0.373518  ... -0.941345 -1.154026 -0.092678  1.244003   0.402761   \n",
       "4 -0.295896   0.68623  ... -0.701412 -0.757197 -0.761751  0.293461   0.073106   \n",
       "\n",
       "  visibility solarradiation solarenergy   uvindex conditions  \n",
       "0  -1.073768      -1.719523   -1.726476 -1.878691          2  \n",
       "1   0.602495       0.423267    0.419426  0.285561          0  \n",
       "2  -1.937297      -0.079925    -0.04877  0.285561          0  \n",
       "3   0.602495       0.134522    0.107295  0.285561          0  \n",
       "4  -1.327747       0.011257    0.029262  0.285561          0  \n",
       "\n",
       "[5 rows x 42 columns]"
      ]
     },
     "execution_count": 3,
     "metadata": {},
     "output_type": "execute_result"
    }
   ],
   "source": [
    "train_data = feature_view.get_training_data(1)[0]\n",
    "\n",
    "train_data.head()"
   ]
  },
  {
   "cell_type": "markdown",
   "id": "303dea12",
   "metadata": {},
   "source": [
    "_____\n",
    "## PyTorch LSTM"
   ]
  },
  {
   "cell_type": "markdown",
   "id": "d74d0201",
   "metadata": {},
   "source": [
    "---\n",
    "\n",
    "## <span style=\"color:#ff5f27;\"> 🧬 SequenceDataset </span>"
   ]
  },
  {
   "cell_type": "code",
   "execution_count": 85,
   "id": "63bd9532",
   "metadata": {},
   "outputs": [],
   "source": [
    "import numpy as np\n",
    "import pandas as pd\n",
    "\n",
    "import torch\n",
    "import torch.nn as nn\n",
    "from torch.utils.data import Dataset, DataLoader"
   ]
  },
  {
   "cell_type": "code",
   "execution_count": 30,
   "id": "aa920d69",
   "metadata": {},
   "outputs": [],
   "source": [
    "class SequenceDataset(Dataset):\n",
    "    def __init__(self, data, target='aqi', sequence_length=5):\n",
    "        self.features = [column for column in [*data.columns] if column != target]\n",
    "        self.target = target\n",
    "        self.sequence_length = sequence_length\n",
    "        self.X = torch.tensor(data.drop(target, axis = 1).values.astype(np.float32)) \n",
    "        self.y = torch.tensor(data[self.target])\n",
    "        \n",
    "    def __repr__(self):\n",
    "        return f'Features: {self.features}\\nTarget: {self.target}'\n",
    "    \n",
    "    def __len__(self):\n",
    "        return self.X.shape[0]\n",
    "    \n",
    "    def __getitem__(self,i):\n",
    "        if i < self.sequence_length:\n",
    "            dist = self.sequence_length - i+1\n",
    "            X = [*[self.X[0] for i in range(dist-2)],*self.X[:i+1]]\n",
    "            return torch.tensor([[*obs] for obs in X]).float(),self.y[i].float()\n",
    "        return self.X[i+1 - self.sequence_length:i+1].float(),self.y[i].float()"
   ]
  },
  {
   "cell_type": "code",
   "execution_count": 88,
   "id": "453505b4",
   "metadata": {},
   "outputs": [],
   "source": [
    "test_data = train_data.sort_values(by=[\"date\", \"city\"], ascending=[False, True]).head(4)"
   ]
  },
  {
   "cell_type": "code",
   "execution_count": 94,
   "id": "0c33e3b3",
   "metadata": {},
   "outputs": [
    {
     "data": {
      "text/plain": [
       "(4, 42)"
      ]
     },
     "execution_count": 94,
     "metadata": {},
     "output_type": "execute_result"
    }
   ],
   "source": [
    "test_data.shape"
   ]
  },
  {
   "cell_type": "code",
   "execution_count": 120,
   "id": "3ef90b97",
   "metadata": {},
   "outputs": [
    {
     "name": "stdout",
     "output_type": "stream",
     "text": [
      "tensor([ 1.0000e+00,  1.6632e+12,  5.0745e-01, -1.9287e+00, -4.1581e-01,\n",
      "        -1.1957e+00,  1.2427e+00,  6.7249e-01,  9.9894e-01, -3.5798e-01,\n",
      "        -2.9577e-01, -3.1088e-01, -4.0398e-01, -5.2808e-01, -3.0197e-01,\n",
      "        -3.5355e-01, -3.5355e-01, -3.5355e-01, -9.0578e-01, -7.8329e-02,\n",
      "        -6.1143e-01, -9.0578e-01, -3.7831e-01, -6.9183e-01, -1.6421e-01,\n",
      "         2.1185e-01, -5.2007e-01, -3.1363e-01, -6.4840e-01,  0.0000e+00,\n",
      "         0.0000e+00,  4.3206e-02, -1.0090e-01,  1.0175e+00, -2.0874e+00,\n",
      "        -2.9978e-01,  6.0250e-01, -9.3096e-01, -9.4615e-01, -7.9656e-01,\n",
      "         0.0000e+00])\n",
      "tensor(4)\n",
      "tensor([0.0000e+00, 1.6632e+12, 1.0000e+03, 1.0000e+03, 1.0000e+03, 1.0000e+03,\n",
      "        1.0000e+03, 1.0000e+03, 1.0000e+03, 1.0000e+03, 1.0000e+03, 1.0000e+03,\n",
      "        1.0000e+03, 1.0000e+03, 1.0000e+03, 1.0000e+03, 1.0000e+03, 1.0000e+03,\n",
      "        1.0000e+03, 1.0000e+03, 1.0000e+03, 1.0000e+03, 1.0000e+03, 1.0000e+03,\n",
      "        1.0000e+03, 1.0000e+03, 1.0000e+03, 1.0000e+03, 1.0000e+03, 1.0000e+03,\n",
      "        1.0000e+03, 1.0000e+03, 1.0000e+03, 1.0000e+03, 1.0000e+03, 1.0000e+03,\n",
      "        1.0000e+03, 1.0000e+03, 1.0000e+03, 1.0000e+03, 1.0000e+03])\n",
      "tensor(1000)\n"
     ]
    }
   ],
   "source": [
    "df_torch_test = SequenceDataset(\n",
    "    data = test_data,\n",
    "    target = 'aqi',\n",
    "    sequence_length = 1\n",
    ")\n",
    "\n",
    "print(df_torch_test.X[1])\n",
    "print(df_torch_test.y[1])\n",
    "\n",
    "print(df_torch_test.X[0])\n",
    "print(df_torch_test.y[0])"
   ]
  },
  {
   "cell_type": "code",
   "execution_count": 6,
   "id": "9154ae89",
   "metadata": {},
   "outputs": [
    {
     "name": "stdout",
     "output_type": "stream",
     "text": [
      "tensor([ 2.0000e+00,  1.6630e+12,  2.9634e-01, -7.6971e-01, -2.2870e-01,\n",
      "         1.7482e-01, -2.6288e-01, -2.9590e-01, -9.5551e-02, -1.1894e+00,\n",
      "        -1.5127e+00, -1.3768e+00, -9.3865e-01, -1.1514e+00, -7.9609e-01,\n",
      "        -3.5355e-01, -3.5355e-01, -3.5355e-01, -9.8886e-01,  5.5164e-01,\n",
      "        -1.7699e-01, -9.8886e-01,  5.9449e-01, -8.3310e-02,  8.8902e-01,\n",
      "         1.2962e+00,  3.0990e+00,  1.2638e+00,  2.6862e+00,  0.0000e+00,\n",
      "         0.0000e+00,  1.2925e+00,  4.9434e-01, -6.2913e-01, -9.4677e-01,\n",
      "         1.2512e+00, -1.0738e+00, -1.7195e+00, -1.7265e+00, -1.8787e+00,\n",
      "         2.0000e+00])\n",
      "tensor(16)\n"
     ]
    }
   ],
   "source": [
    "df_torch = SequenceDataset(\n",
    "    data = train_data,\n",
    "    target = 'aqi',\n",
    "    sequence_length = 5\n",
    ")\n",
    "\n",
    "print(df_torch.X[0])\n",
    "print(df_torch.y[0])"
   ]
  },
  {
   "cell_type": "code",
   "execution_count": 86,
   "id": "57ab40ca",
   "metadata": {},
   "outputs": [
    {
     "data": {
      "text/plain": [
       "(tensor([[ 0.0000e+00,  1.6632e+12,  2.0586e-01, -1.5008e+00, -2.2870e-01,\n",
       "          -5.9269e-01,  1.6728e+00,  1.3988e+00,  1.6244e+00,  8.8918e-01,\n",
       "           3.1267e-01,  1.8209e+00, -4.0398e-01, -2.9434e-01,  2.7451e-02,\n",
       "          -3.5355e-01, -3.5355e-01, -3.5355e-01, -3.3462e-02,  9.1161e-01,\n",
       "           5.4707e-01, -3.3462e-02,  9.0168e-01,  5.6868e-01, -6.2288e-02,\n",
       "          -6.5562e-01, -5.2007e-01,  1.0392e+00, -6.4840e-01,  0.0000e+00,\n",
       "           0.0000e+00,  2.2771e+00,  1.9290e+00,  1.3423e+00, -1.2998e+00,\n",
       "          -1.2617e+00,  6.0250e-01,  4.5028e-01,  4.3893e-01,  2.8556e-01,\n",
       "           1.0000e+00],\n",
       "         [ 0.0000e+00,  1.6632e+12,  2.0586e-01, -1.5008e+00, -2.2870e-01,\n",
       "          -5.9269e-01,  1.6728e+00,  1.3988e+00,  1.6244e+00,  8.8918e-01,\n",
       "           3.1267e-01,  1.8209e+00, -4.0398e-01, -2.9434e-01,  2.7451e-02,\n",
       "          -3.5355e-01, -3.5355e-01, -3.5355e-01, -3.3462e-02,  9.1161e-01,\n",
       "           5.4707e-01, -3.3462e-02,  9.0168e-01,  5.6868e-01, -6.2288e-02,\n",
       "          -6.5562e-01, -5.2007e-01,  1.0392e+00, -6.4840e-01,  0.0000e+00,\n",
       "           0.0000e+00,  2.2771e+00,  1.9290e+00,  1.3423e+00, -1.2998e+00,\n",
       "          -1.2617e+00,  6.0250e-01,  4.5028e-01,  4.3893e-01,  2.8556e-01,\n",
       "           1.0000e+00],\n",
       "         [ 0.0000e+00,  1.6632e+12,  2.0586e-01, -1.5008e+00, -2.2870e-01,\n",
       "          -5.9269e-01,  1.6728e+00,  1.3988e+00,  1.6244e+00,  8.8918e-01,\n",
       "           3.1267e-01,  1.8209e+00, -4.0398e-01, -2.9434e-01,  2.7451e-02,\n",
       "          -3.5355e-01, -3.5355e-01, -3.5355e-01, -3.3462e-02,  9.1161e-01,\n",
       "           5.4707e-01, -3.3462e-02,  9.0168e-01,  5.6868e-01, -6.2288e-02,\n",
       "          -6.5562e-01, -5.2007e-01,  1.0392e+00, -6.4840e-01,  0.0000e+00,\n",
       "           0.0000e+00,  2.2771e+00,  1.9290e+00,  1.3423e+00, -1.2998e+00,\n",
       "          -1.2617e+00,  6.0250e-01,  4.5028e-01,  4.3893e-01,  2.8556e-01,\n",
       "           1.0000e+00],\n",
       "         [ 1.0000e+00,  1.6632e+12,  5.0745e-01, -1.9287e+00, -4.1581e-01,\n",
       "          -1.1957e+00,  1.2427e+00,  6.7249e-01,  9.9894e-01, -3.5798e-01,\n",
       "          -2.9577e-01, -3.1088e-01, -4.0398e-01, -5.2808e-01, -3.0197e-01,\n",
       "          -3.5355e-01, -3.5355e-01, -3.5355e-01, -9.0578e-01, -7.8329e-02,\n",
       "          -6.1143e-01, -9.0578e-01, -3.7831e-01, -6.9183e-01, -1.6421e-01,\n",
       "           2.1185e-01, -5.2007e-01, -3.1363e-01, -6.4840e-01,  0.0000e+00,\n",
       "           0.0000e+00,  4.3206e-02, -1.0090e-01,  1.0175e+00, -2.0874e+00,\n",
       "          -2.9978e-01,  6.0250e-01, -9.3096e-01, -9.4615e-01, -7.9656e-01,\n",
       "           0.0000e+00],\n",
       "         [ 2.0000e+00,  1.6632e+12,  1.1106e+00, -2.3745e+00, -6.0292e-01,\n",
       "          -1.3054e+00,  1.2427e+00,  1.1567e+00,  8.4259e-01, -1.1894e+00,\n",
       "          -1.2084e+00, -8.4382e-01, -8.3171e-01, -7.6183e-01, -6.3138e-01,\n",
       "          -3.5355e-01, -3.5355e-01, -3.5355e-01, -1.7781e+00,  2.5165e-01,\n",
       "          -8.5279e-01, -1.7781e+00, -9.6711e-02, -9.5263e-01,  3.7939e-01,\n",
       "           1.2691e+00,  1.5549e+00,  1.1503e+00,  1.5747e+00,  0.0000e+00,\n",
       "           0.0000e+00,  5.8099e-01,  6.6986e-02, -4.7117e-01, -2.2232e+00,\n",
       "           9.9722e-01, -9.7218e-01, -1.2282e+00, -1.2193e+00, -1.3376e+00,\n",
       "           2.0000e+00]]),\n",
       " tensor(6.))"
      ]
     },
     "execution_count": 86,
     "metadata": {},
     "output_type": "execute_result"
    }
   ],
   "source": [
    "df_torch[2]"
   ]
  },
  {
   "cell_type": "code",
   "execution_count": 8,
   "id": "40dcb399",
   "metadata": {},
   "outputs": [
    {
     "data": {
      "text/plain": [
       "(tensor([[ 1.0000e+00,  1.6626e+12,  8.0904e-01,  1.2363e+00, -4.1581e-01,\n",
       "          -2.5663e+00, -4.7795e-02,  4.3039e-01,  2.1716e-01, -3.5798e-01,\n",
       "          -2.9577e-01, -8.4382e-01, -5.1091e-01, -4.5017e-01, -3.0197e-01,\n",
       "           2.8284e+00,  2.8284e+00,  2.8284e+00, -2.8270e-01, -1.2183e+00,\n",
       "          -9.4933e-01, -2.8270e-01, -1.1463e+00, -8.6570e-01, -9.4565e-01,\n",
       "          -4.3875e-01, -5.2007e-01, -6.5182e-01, -6.4840e-01,  0.0000e+00,\n",
       "           0.0000e+00, -8.7516e-01, -9.8614e-01, -6.8873e-01,  1.1354e+00,\n",
       "          -1.7211e+00,  6.0250e-01,  4.2327e-01,  4.1943e-01,  2.8556e-01,\n",
       "           0.0000e+00],\n",
       "         [ 1.0000e+00,  1.6629e+12, -8.9996e-01,  3.4474e-01,  2.3909e+00,\n",
       "           7.2305e-01,  1.6728e-01, -2.9590e-01,  6.8623e-01, -3.5798e-01,\n",
       "          -6.0000e-01,  2.2206e-01, -5.1091e-01, -6.8391e-01, -3.0197e-01,\n",
       "          -3.5355e-01, -3.5355e-01, -3.5355e-01,  1.0466e+00, -8.5828e-01,\n",
       "          -1.2872e-01,  1.0466e+00, -6.0871e-01, -8.3310e-02,  3.9638e-02,\n",
       "           2.4799e-01, -5.2007e-01, -1.1012e+00, -6.4840e-01,  0.0000e+00,\n",
       "           0.0000e+00, -6.1040e-01, -5.1299e-01, -7.5728e-01,  2.8441e-01,\n",
       "          -3.2140e-01, -1.9373e+00, -7.9925e-02, -4.8770e-02,  2.8556e-01,\n",
       "           0.0000e+00],\n",
       "         [ 2.0000e+00,  1.6626e+12, -7.6425e-01,  1.2809e+00, -4.1581e-01,\n",
       "          -9.4903e-01, -2.6288e-01, -2.9590e-01,  3.7352e-01, -1.6051e+00,\n",
       "          -1.2084e+00, -1.3768e+00, -1.1525e+00, -1.1514e+00, -1.4549e+00,\n",
       "          -3.5355e-01, -3.5355e-01, -3.5355e-01, -1.4458e+00, -6.4830e-01,\n",
       "          -1.3355e+00, -1.4458e+00, -4.2951e-01, -1.1265e+00, -8.0975e-01,\n",
       "          -1.4056e-02, -5.2007e-01, -1.1012e+00, -6.4840e-01,  0.0000e+00,\n",
       "           0.0000e+00, -9.4134e-01, -1.1540e+00, -9.2678e-02,  1.2440e+00,\n",
       "           4.0276e-01,  6.0250e-01,  1.3452e-01,  1.0730e-01,  2.8556e-01,\n",
       "           0.0000e+00],\n",
       "         [ 1.0000e+00,  1.6629e+12, -1.1010e+00,  3.4474e-01,  1.8296e+00,\n",
       "           9.9716e-01,  1.6728e-01, -2.9590e-01,  6.8623e-01, -3.5798e-01,\n",
       "          -6.0000e-01,  2.2206e-01, -5.1091e-01, -6.8391e-01, -3.0197e-01,\n",
       "          -3.5355e-01, -3.5355e-01, -3.5355e-01,  1.0466e+00, -8.5828e-01,\n",
       "          -1.7699e-01,  1.0466e+00, -6.0871e-01, -1.2678e-01,  7.3613e-02,\n",
       "           3.2028e-01, -5.2007e-01, -1.1012e+00, -6.4840e-01,  0.0000e+00,\n",
       "           0.0000e+00, -7.0141e-01, -7.5720e-01, -7.6175e-01,  2.9346e-01,\n",
       "           7.3106e-02, -1.3277e+00,  1.1257e-02,  2.9262e-02,  2.8556e-01,\n",
       "           0.0000e+00],\n",
       "         [ 2.0000e+00,  1.6631e+12,  1.1106e+00, -1.9198e+00,  3.3265e-01,\n",
       "          -4.5563e-01, -4.7795e-01, -1.0222e+00, -9.5551e-02, -1.1894e+00,\n",
       "          -9.0422e-01, -1.3768e+00, -7.2478e-01, -7.6183e-01, -7.9609e-01,\n",
       "          -3.5355e-01, -3.5355e-01, -3.5355e-01, -1.3212e+00,  5.5164e-01,\n",
       "          -2.2527e-01, -1.3212e+00,  5.9449e-01, -1.2678e-01,  9.2300e-01,\n",
       "           1.4317e+00,  5.1739e-01,  1.2638e+00,  2.1304e+00,  0.0000e+00,\n",
       "           0.0000e+00, -7.9242e-01,  1.1964e+00, -7.2599e-01, -1.9426e+00,\n",
       "           1.2026e+00, -2.1024e-01, -1.3379e+00, -1.3558e+00, -1.3376e+00,\n",
       "           2.0000e+00]]),\n",
       " tensor(16.))"
      ]
     },
     "execution_count": 8,
     "metadata": {},
     "output_type": "execute_result"
    }
   ],
   "source": [
    "df_torch[5]"
   ]
  },
  {
   "cell_type": "markdown",
   "id": "6bd2af0b",
   "metadata": {},
   "source": [
    "---\n",
    "\n",
    "## <span style=\"color:#ff5f27;\">🧑🏻‍🔬 DataLoader </span>"
   ]
  },
  {
   "cell_type": "code",
   "execution_count": 117,
   "id": "a9dccbfb",
   "metadata": {},
   "outputs": [],
   "source": [
    "loader_test = DataLoader(df_torch_test,batch_size = 1)"
   ]
  },
  {
   "cell_type": "code",
   "execution_count": 118,
   "id": "487973e2",
   "metadata": {
    "scrolled": true
   },
   "outputs": [
    {
     "name": "stdout",
     "output_type": "stream",
     "text": [
      "Features shape: torch.Size([3, 5, 41])\n",
      "Target shape: torch.Size([3])\n"
     ]
    }
   ],
   "source": [
    "loader_train = DataLoader(df_torch,batch_size = 3)\n",
    "\n",
    "X, y = next(iter(loader_train))\n",
    "\n",
    "print(\"Features shape:\", X.shape)\n",
    "print(\"Target shape:\", y.shape)"
   ]
  },
  {
   "cell_type": "markdown",
   "id": "37069211",
   "metadata": {},
   "source": [
    "---\n",
    "\n",
    "## <span style=\"color:#ff5f27;\">🤖 Model Building </span>"
   ]
  },
  {
   "cell_type": "code",
   "execution_count": 10,
   "id": "76ee5e11",
   "metadata": {},
   "outputs": [],
   "source": [
    "class LSTMModel(nn.Module):\n",
    "    def __init__(self,n_features,num_layers,hidden_size):\n",
    "        super().__init__()\n",
    "        self.n_features=n_features\n",
    "        self.num_layers=num_layers\n",
    "        self.hidden_size=hidden_size\n",
    "        \n",
    "        self.lstm = nn.LSTM(\n",
    "            input_size=n_features,\n",
    "            hidden_size=hidden_size,\n",
    "            batch_first=True,\n",
    "            num_layers=self.num_layers\n",
    "        )\n",
    "        \n",
    "        self.linear = nn.Linear(\n",
    "            in_features=hidden_size,\n",
    "            out_features=1\n",
    "        )\n",
    "        \n",
    "    def forward(self, x):\n",
    "        batch_size = x.shape[0]\n",
    "        h0 = torch.zeros(self.num_layers, batch_size, self.hidden_size).requires_grad_()\n",
    "        c0 = torch.zeros(self.num_layers, batch_size, self.hidden_size).requires_grad_()\n",
    "        \n",
    "        _, (hn, _) = self.lstm(x, (h0, c0))\n",
    "        out = self.linear(hn[0]).flatten()  \n",
    "\n",
    "        return out"
   ]
  },
  {
   "cell_type": "code",
   "execution_count": 11,
   "id": "1023c0e6",
   "metadata": {},
   "outputs": [],
   "source": [
    "model = LSTMModel(\n",
    "    n_features=len(df_torch.X[0]),\n",
    "    num_layers=32,\n",
    "    hidden_size=16\n",
    ")\n",
    "\n",
    "learning_rate = 0.05\n",
    "optimizer = torch.optim.Adam(model.parameters(), lr=learning_rate)\n",
    "loss_function = nn.MSELoss()"
   ]
  },
  {
   "cell_type": "markdown",
   "id": "9f6939e9",
   "metadata": {},
   "source": [
    "---\n",
    "\n",
    "## <span style=\"color:#ff5f27;\">👨🏻‍⚖️ Model Evaluation </span>"
   ]
  },
  {
   "cell_type": "code",
   "execution_count": 12,
   "id": "19c00f46",
   "metadata": {},
   "outputs": [],
   "source": [
    "def train_model(data_loader, model, loss_function, optimizer):\n",
    "    num_batches = len(data_loader)\n",
    "    total_loss = .0\n",
    "    model.train()\n",
    "\n",
    "    for X, y in data_loader:\n",
    "        output = model(X)\n",
    "\n",
    "        loss = loss_function(output, y)\n",
    "\n",
    "        optimizer.zero_grad()\n",
    "        loss.backward()\n",
    "        optimizer.step()\n",
    "\n",
    "        total_loss += loss.item()\n",
    "\n",
    "    avg_loss = total_loss / num_batches\n",
    "    print(f\"Train loss: {avg_loss}\")\n",
    "\n",
    "def test_model(data_loader, model, loss_function):\n",
    "\n",
    "    num_batches = len(data_loader)\n",
    "    total_loss = 0\n",
    "\n",
    "    model.eval()\n",
    "    with torch.no_grad():\n",
    "        for X, y in data_loader:\n",
    "            output = model(X)\n",
    "            total_loss += loss_function(output, y).item()\n",
    "\n",
    "    avg_loss = total_loss / num_batches\n",
    "    print(f\"Test loss: {avg_loss}\\n\")"
   ]
  },
  {
   "cell_type": "code",
   "execution_count": 13,
   "id": "5e8c0236",
   "metadata": {},
   "outputs": [
    {
     "name": "stdout",
     "output_type": "stream",
     "text": [
      "Epoch 0\n",
      "---------\n",
      "Train loss: 210.8397813240687\n",
      "Epoch 1\n",
      "---------\n",
      "Train loss: 160.9134476284186\n",
      "Epoch 2\n",
      "---------\n",
      "Train loss: 127.02985948324203\n",
      "Epoch 3\n",
      "---------\n",
      "Train loss: 106.54613892237346\n",
      "Epoch 4\n",
      "---------\n",
      "Train loss: 95.56713151931763\n",
      "Epoch 5\n",
      "---------\n",
      "Train loss: 90.36365032196045\n",
      "Epoch 6\n",
      "---------\n",
      "Train loss: 88.19353199005127\n",
      "Epoch 7\n",
      "---------\n",
      "Train loss: 87.40594188372295\n",
      "Epoch 8\n",
      "---------\n",
      "Train loss: 87.1639970143636\n",
      "Epoch 9\n",
      "---------\n",
      "Train loss: 87.10609141985576\n"
     ]
    }
   ],
   "source": [
    "for epoch in range(10):\n",
    "    print(f\"Epoch {epoch}\\n---------\")\n",
    "    train_model(loader_train, model, loss_function, optimizer=optimizer)"
   ]
  },
  {
   "cell_type": "markdown",
   "id": "4c5afe76",
   "metadata": {},
   "source": [
    "## <span style='color:#ff5f27'>👮🏼‍♀️ Model Registry</span>"
   ]
  },
  {
   "cell_type": "code",
   "execution_count": 115,
   "id": "11f567bc",
   "metadata": {},
   "outputs": [
    {
     "name": "stdout",
     "output_type": "stream",
     "text": [
      "Connected. Call `.close()` to terminate connection gracefully.\n"
     ]
    }
   ],
   "source": [
    "mr = project.get_model_registry()"
   ]
  },
  {
   "cell_type": "code",
   "execution_count": 15,
   "id": "10c3663f",
   "metadata": {
    "scrolled": true
   },
   "outputs": [
    {
     "data": {
      "text/plain": [
       "{'input_schema': {'columnar_schema': [{'name': 'city', 'type': 'object'},\n",
       "   {'name': 'date', 'type': 'object'},\n",
       "   {'name': 'iaqi_h', 'type': 'object'},\n",
       "   {'name': 'iaqi_p', 'type': 'object'},\n",
       "   {'name': 'iaqi_pm10', 'type': 'object'},\n",
       "   {'name': 'iaqi_t', 'type': 'object'},\n",
       "   {'name': 'o3_avg', 'type': 'object'},\n",
       "   {'name': 'o3_max', 'type': 'object'},\n",
       "   {'name': 'o3_min', 'type': 'object'},\n",
       "   {'name': 'pm10_avg', 'type': 'object'},\n",
       "   {'name': 'pm10_max', 'type': 'object'},\n",
       "   {'name': 'pm10_min', 'type': 'object'},\n",
       "   {'name': 'pm25_avg', 'type': 'object'},\n",
       "   {'name': 'pm25_max', 'type': 'object'},\n",
       "   {'name': 'pm25_min', 'type': 'object'},\n",
       "   {'name': 'uvi_avg', 'type': 'object'},\n",
       "   {'name': 'uvi_max', 'type': 'object'},\n",
       "   {'name': 'uvi_min', 'type': 'object'},\n",
       "   {'name': 'tempmax', 'type': 'object'},\n",
       "   {'name': 'tempmin', 'type': 'object'},\n",
       "   {'name': 'temp', 'type': 'object'},\n",
       "   {'name': 'feelslikemax', 'type': 'object'},\n",
       "   {'name': 'feelslikemin', 'type': 'object'},\n",
       "   {'name': 'feelslike', 'type': 'object'},\n",
       "   {'name': 'dew', 'type': 'object'},\n",
       "   {'name': 'humidity', 'type': 'object'},\n",
       "   {'name': 'precip', 'type': 'object'},\n",
       "   {'name': 'precipprob', 'type': 'object'},\n",
       "   {'name': 'precipcover', 'type': 'object'},\n",
       "   {'name': 'snow', 'type': 'object'},\n",
       "   {'name': 'snowdepth', 'type': 'object'},\n",
       "   {'name': 'windgust', 'type': 'object'},\n",
       "   {'name': 'windspeed', 'type': 'object'},\n",
       "   {'name': 'winddir', 'type': 'object'},\n",
       "   {'name': 'pressure', 'type': 'object'},\n",
       "   {'name': 'cloudcover', 'type': 'object'},\n",
       "   {'name': 'visibility', 'type': 'object'},\n",
       "   {'name': 'solarradiation', 'type': 'object'},\n",
       "   {'name': 'solarenergy', 'type': 'object'},\n",
       "   {'name': 'uvindex', 'type': 'object'},\n",
       "   {'name': 'conditions', 'type': 'object'}]},\n",
       " 'output_schema': {'columnar_schema': [{'name': 'aqi', 'type': 'object'}]}}"
      ]
     },
     "execution_count": 15,
     "metadata": {},
     "output_type": "execute_result"
    }
   ],
   "source": [
    "from hsml.schema import Schema\n",
    "from hsml.model_schema import ModelSchema\n",
    "\n",
    "input_schema = Schema(train_data.drop('aqi',axis=1))\n",
    "output_schema = Schema(train_data.aqi)\n",
    "model_schema = ModelSchema(input_schema=input_schema, output_schema=output_schema)\n",
    "\n",
    "model_schema.to_dict()"
   ]
  },
  {
   "cell_type": "code",
   "execution_count": 16,
   "id": "b0444d0f",
   "metadata": {},
   "outputs": [
    {
     "data": {
      "application/vnd.jupyter.widget-view+json": {
       "model_id": "3d55ced1398d41f6bb936e6253a4a4df",
       "version_major": 2,
       "version_minor": 0
      },
      "text/plain": [
       "  0%|          | 0/6 [00:00<?, ?it/s]"
      ]
     },
     "metadata": {},
     "output_type": "display_data"
    },
    {
     "name": "stdout",
     "output_type": "stream",
     "text": [
      "Model created, explore it at https://c.app.hopsworks.ai:443/p/167/models/pytorch_model/1\n"
     ]
    },
    {
     "data": {
      "text/plain": [
       "Model(name: 'pytorch_model', version: 1)"
      ]
     },
     "execution_count": 16,
     "metadata": {},
     "output_type": "execute_result"
    }
   ],
   "source": [
    "model_dir = \"./model\"\n",
    "torch.save(model, model_dir)\n",
    "\n",
    "model_hops = mr.torch.create_model(\n",
    "    name = \"pytorch_model\",\n",
    "    model_schema = model_schema\n",
    ")\n",
    "\n",
    "model_hops.save(model_dir)"
   ]
  },
  {
   "cell_type": "markdown",
   "id": "246e05ca",
   "metadata": {},
   "source": [
    "## <span style=\"color:#ff5f27;\">🚀 Fetch and test the model </span>"
   ]
  },
  {
   "cell_type": "code",
   "execution_count": 116,
   "id": "27ecd2b8",
   "metadata": {},
   "outputs": [
    {
     "data": {
      "text/plain": [
       "LSTMModel(\n",
       "  (lstm): LSTM(41, 16, num_layers=32, batch_first=True)\n",
       "  (linear): Linear(in_features=16, out_features=1, bias=True)\n",
       ")"
      ]
     },
     "execution_count": 116,
     "metadata": {},
     "output_type": "execute_result"
    }
   ],
   "source": [
    "model"
   ]
  },
  {
   "cell_type": "code",
   "execution_count": 17,
   "id": "27736a89",
   "metadata": {},
   "outputs": [
    {
     "name": "stdout",
     "output_type": "stream",
     "text": [
      "Downloading file ... "
     ]
    },
    {
     "data": {
      "text/plain": [
       "LSTMModel(\n",
       "  (lstm): LSTM(41, 16, num_layers=32, batch_first=True)\n",
       "  (linear): Linear(in_features=16, out_features=1, bias=True)\n",
       ")"
      ]
     },
     "execution_count": 17,
     "metadata": {},
     "output_type": "execute_result"
    }
   ],
   "source": [
    "model = mr.get_model(\"pytorch_model\", version = 1)\n",
    "model_dir = model.download()\n",
    "\n",
    "model = torch.load(model_dir + '/model')\n",
    "model"
   ]
  },
  {
   "cell_type": "code",
   "execution_count": 18,
   "id": "5aa69d85",
   "metadata": {},
   "outputs": [],
   "source": [
    "def predict(data_loader, model):\n",
    "\n",
    "    output = torch.tensor([])\n",
    "    model.eval()\n",
    "    with torch.no_grad():\n",
    "        for X, _ in data_loader:\n",
    "            y_star = model(X).int()\n",
    "            output = torch.cat((output, y_star), 0)\n",
    "\n",
    "    return output"
   ]
  },
  {
   "cell_type": "code",
   "execution_count": 119,
   "id": "a2151657",
   "metadata": {},
   "outputs": [
    {
     "data": {
      "text/plain": [
       "tensor([12., 12., 12., 12.])"
      ]
     },
     "execution_count": 119,
     "metadata": {},
     "output_type": "execute_result"
    }
   ],
   "source": [
    "predict(loader_test, model)"
   ]
  },
  {
   "cell_type": "code",
   "execution_count": 19,
   "id": "adc3fa6b",
   "metadata": {},
   "outputs": [
    {
     "data": {
      "text/plain": [
       "tensor([12., 12., 12., 12., 12., 12., 12., 12., 12., 12., 12., 12., 12., 12.,\n",
       "        12., 12., 12., 12., 12., 12., 12., 12., 12., 12., 12., 12., 12., 12.,\n",
       "        12., 12., 12., 12., 12., 12., 12., 12.])"
      ]
     },
     "execution_count": 19,
     "metadata": {},
     "output_type": "execute_result"
    }
   ],
   "source": [
    "predict(loader_train,model)"
   ]
  },
  {
   "cell_type": "markdown",
   "id": "337d3a73",
   "metadata": {},
   "source": [
    "---"
   ]
  },
  {
   "cell_type": "markdown",
   "id": "d275ae09",
   "metadata": {},
   "source": [
    "## sklearn GradientBossing "
   ]
  },
  {
   "cell_type": "code",
   "execution_count": 127,
   "id": "2d9ab111",
   "metadata": {},
   "outputs": [],
   "source": [
    "import pandas as pd\n",
    "import numpy as np\n",
    "import matplotlib.pyplot as plt\n",
    "\n",
    "from sklearn.neighbors import KNeighborsClassifier\n",
    "from sklearn.metrics import f1_score"
   ]
  },
  {
   "cell_type": "code",
   "execution_count": 129,
   "id": "ddc706b8",
   "metadata": {},
   "outputs": [],
   "source": [
    "import warnings\n",
    "\n",
    "# Mute warnings\n",
    "warnings.filterwarnings(\"ignore\")"
   ]
  },
  {
   "cell_type": "code",
   "execution_count": 130,
   "id": "b24fa6a2",
   "metadata": {},
   "outputs": [
    {
     "data": {
      "text/plain": [
       "Index(['city', 'aqi', 'date', 'iaqi_h', 'iaqi_p', 'iaqi_pm10', 'iaqi_t',\n",
       "       'o3_avg', 'o3_max', 'o3_min', 'pm10_avg', 'pm10_max', 'pm10_min',\n",
       "       'pm25_avg', 'pm25_max', 'pm25_min', 'uvi_avg', 'uvi_max', 'uvi_min',\n",
       "       'tempmax', 'tempmin', 'temp', 'feelslikemax', 'feelslikemin',\n",
       "       'feelslike', 'dew', 'humidity', 'precip', 'precipprob', 'precipcover',\n",
       "       'snow', 'snowdepth', 'windgust', 'windspeed', 'winddir', 'pressure',\n",
       "       'cloudcover', 'visibility', 'solarradiation', 'solarenergy', 'uvindex',\n",
       "       'conditions'],\n",
       "      dtype='object')"
      ]
     },
     "execution_count": 130,
     "metadata": {},
     "output_type": "execute_result"
    }
   ],
   "source": [
    "train_data.columns"
   ]
  },
  {
   "cell_type": "code",
   "execution_count": 133,
   "id": "5b937dec",
   "metadata": {},
   "outputs": [],
   "source": [
    "train_data = train_data.sort_values(by=[\"date\", 'city'], ascending=[False, True]).reset_index(drop=True)"
   ]
  },
  {
   "cell_type": "code",
   "execution_count": 24,
   "id": "89dc80fe",
   "metadata": {},
   "outputs": [
    {
     "data": {
      "text/html": [
       "<div>\n",
       "<style scoped>\n",
       "    .dataframe tbody tr th:only-of-type {\n",
       "        vertical-align: middle;\n",
       "    }\n",
       "\n",
       "    .dataframe tbody tr th {\n",
       "        vertical-align: top;\n",
       "    }\n",
       "\n",
       "    .dataframe thead th {\n",
       "        text-align: right;\n",
       "    }\n",
       "</style>\n",
       "<table border=\"1\" class=\"dataframe\">\n",
       "  <thead>\n",
       "    <tr style=\"text-align: right;\">\n",
       "      <th></th>\n",
       "      <th>city</th>\n",
       "      <th>aqi</th>\n",
       "      <th>date</th>\n",
       "      <th>iaqi_h</th>\n",
       "      <th>iaqi_p</th>\n",
       "      <th>iaqi_pm10</th>\n",
       "      <th>iaqi_t</th>\n",
       "      <th>o3_avg</th>\n",
       "      <th>o3_max</th>\n",
       "      <th>o3_min</th>\n",
       "      <th>...</th>\n",
       "      <th>windgust</th>\n",
       "      <th>windspeed</th>\n",
       "      <th>winddir</th>\n",
       "      <th>pressure</th>\n",
       "      <th>cloudcover</th>\n",
       "      <th>visibility</th>\n",
       "      <th>solarradiation</th>\n",
       "      <th>solarenergy</th>\n",
       "      <th>uvindex</th>\n",
       "      <th>conditions</th>\n",
       "    </tr>\n",
       "  </thead>\n",
       "  <tbody>\n",
       "    <tr>\n",
       "      <th>0</th>\n",
       "      <td>0</td>\n",
       "      <td>23</td>\n",
       "      <td>1663200000000</td>\n",
       "      <td>0.205862</td>\n",
       "      <td>-1.500788</td>\n",
       "      <td>-0.228696</td>\n",
       "      <td>-0.59269</td>\n",
       "      <td>1.672842</td>\n",
       "      <td>1.39878</td>\n",
       "      <td>1.624368</td>\n",
       "      <td>...</td>\n",
       "      <td>2.277062</td>\n",
       "      <td>1.92903</td>\n",
       "      <td>1.342326</td>\n",
       "      <td>-1.299829</td>\n",
       "      <td>-1.261723</td>\n",
       "      <td>0.602495</td>\n",
       "      <td>0.450284</td>\n",
       "      <td>0.438934</td>\n",
       "      <td>0.285561</td>\n",
       "      <td>1</td>\n",
       "    </tr>\n",
       "    <tr>\n",
       "      <th>1</th>\n",
       "      <td>1</td>\n",
       "      <td>4</td>\n",
       "      <td>1663200000000</td>\n",
       "      <td>0.507451</td>\n",
       "      <td>-1.928735</td>\n",
       "      <td>-0.41581</td>\n",
       "      <td>-1.195735</td>\n",
       "      <td>1.242683</td>\n",
       "      <td>0.67249</td>\n",
       "      <td>0.998943</td>\n",
       "      <td>...</td>\n",
       "      <td>0.043206</td>\n",
       "      <td>-0.100903</td>\n",
       "      <td>1.017476</td>\n",
       "      <td>-2.087421</td>\n",
       "      <td>-0.299781</td>\n",
       "      <td>0.602495</td>\n",
       "      <td>-0.930962</td>\n",
       "      <td>-0.946148</td>\n",
       "      <td>-0.796565</td>\n",
       "      <td>0</td>\n",
       "    </tr>\n",
       "    <tr>\n",
       "      <th>2</th>\n",
       "      <td>2</td>\n",
       "      <td>6</td>\n",
       "      <td>1663200000000</td>\n",
       "      <td>1.11063</td>\n",
       "      <td>-2.374514</td>\n",
       "      <td>-0.602925</td>\n",
       "      <td>-1.30538</td>\n",
       "      <td>1.242683</td>\n",
       "      <td>1.156683</td>\n",
       "      <td>0.842587</td>\n",
       "      <td>...</td>\n",
       "      <td>0.580986</td>\n",
       "      <td>0.066986</td>\n",
       "      <td>-0.471174</td>\n",
       "      <td>-2.223213</td>\n",
       "      <td>0.997219</td>\n",
       "      <td>-0.972176</td>\n",
       "      <td>-1.22815</td>\n",
       "      <td>-1.219262</td>\n",
       "      <td>-1.337628</td>\n",
       "      <td>2</td>\n",
       "    </tr>\n",
       "    <tr>\n",
       "      <th>3</th>\n",
       "      <td>3</td>\n",
       "      <td>6</td>\n",
       "      <td>1663200000000</td>\n",
       "      <td>1.155868</td>\n",
       "      <td>-0.635977</td>\n",
       "      <td>-0.79004</td>\n",
       "      <td>-0.099289</td>\n",
       "      <td>0.167284</td>\n",
       "      <td>0.430394</td>\n",
       "      <td>-0.095551</td>\n",
       "      <td>...</td>\n",
       "      <td>-1.173004</td>\n",
       "      <td>-1.428754</td>\n",
       "      <td>0.200879</td>\n",
       "      <td>-0.729503</td>\n",
       "      <td>1.143131</td>\n",
       "      <td>1.262841</td>\n",
       "      <td>-1.731342</td>\n",
       "      <td>-1.745984</td>\n",
       "      <td>-1.878691</td>\n",
       "      <td>2</td>\n",
       "    </tr>\n",
       "    <tr>\n",
       "      <th>4</th>\n",
       "      <td>0</td>\n",
       "      <td>25</td>\n",
       "      <td>1663113600000</td>\n",
       "      <td>0.090253</td>\n",
       "      <td>-1.055009</td>\n",
       "      <td>-0.228696</td>\n",
       "      <td>0.010355</td>\n",
       "      <td>1.672842</td>\n",
       "      <td>1.156683</td>\n",
       "      <td>1.780725</td>\n",
       "      <td>...</td>\n",
       "      <td>1.739282</td>\n",
       "      <td>1.913767</td>\n",
       "      <td>1.322955</td>\n",
       "      <td>-1.028245</td>\n",
       "      <td>-0.002552</td>\n",
       "      <td>0.602495</td>\n",
       "      <td>-1.057605</td>\n",
       "      <td>-1.043689</td>\n",
       "      <td>-1.337628</td>\n",
       "      <td>1</td>\n",
       "    </tr>\n",
       "  </tbody>\n",
       "</table>\n",
       "<p>5 rows × 42 columns</p>\n",
       "</div>"
      ],
      "text/plain": [
       "  city aqi           date    iaqi_h    iaqi_p iaqi_pm10    iaqi_t    o3_avg  \\\n",
       "0    0  23  1663200000000  0.205862 -1.500788 -0.228696  -0.59269  1.672842   \n",
       "1    1   4  1663200000000  0.507451 -1.928735  -0.41581 -1.195735  1.242683   \n",
       "2    2   6  1663200000000   1.11063 -2.374514 -0.602925  -1.30538  1.242683   \n",
       "3    3   6  1663200000000  1.155868 -0.635977  -0.79004 -0.099289  0.167284   \n",
       "4    0  25  1663113600000  0.090253 -1.055009 -0.228696  0.010355  1.672842   \n",
       "\n",
       "     o3_max    o3_min  ...  windgust windspeed   winddir  pressure cloudcover  \\\n",
       "0   1.39878  1.624368  ...  2.277062   1.92903  1.342326 -1.299829  -1.261723   \n",
       "1   0.67249  0.998943  ...  0.043206 -0.100903  1.017476 -2.087421  -0.299781   \n",
       "2  1.156683  0.842587  ...  0.580986  0.066986 -0.471174 -2.223213   0.997219   \n",
       "3  0.430394 -0.095551  ... -1.173004 -1.428754  0.200879 -0.729503   1.143131   \n",
       "4  1.156683  1.780725  ...  1.739282  1.913767  1.322955 -1.028245  -0.002552   \n",
       "\n",
       "  visibility solarradiation solarenergy   uvindex conditions  \n",
       "0   0.602495       0.450284    0.438934  0.285561          1  \n",
       "1   0.602495      -0.930962   -0.946148 -0.796565          0  \n",
       "2  -0.972176       -1.22815   -1.219262 -1.337628          2  \n",
       "3   1.262841      -1.731342   -1.745984 -1.878691          2  \n",
       "4   0.602495      -1.057605   -1.043689 -1.337628          1  \n",
       "\n",
       "[5 rows x 42 columns]"
      ]
     },
     "execution_count": 24,
     "metadata": {},
     "output_type": "execute_result"
    }
   ],
   "source": [
    "test = train_data.sort_values(by=[\"date\", 'city'], ascending=[False, True]).head(20).reset_index(drop=True)\n",
    "test.head()"
   ]
  },
  {
   "cell_type": "code",
   "execution_count": 141,
   "id": "57857938",
   "metadata": {},
   "outputs": [],
   "source": [
    "train_data[\"aqi_next_day\"] = train_data.groupby('city')['aqi'].shift(1)"
   ]
  },
  {
   "cell_type": "code",
   "execution_count": 153,
   "id": "c7f526ae",
   "metadata": {
    "scrolled": false
   },
   "outputs": [
    {
     "data": {
      "text/html": [
       "<div>\n",
       "<style scoped>\n",
       "    .dataframe tbody tr th:only-of-type {\n",
       "        vertical-align: middle;\n",
       "    }\n",
       "\n",
       "    .dataframe tbody tr th {\n",
       "        vertical-align: top;\n",
       "    }\n",
       "\n",
       "    .dataframe thead th {\n",
       "        text-align: right;\n",
       "    }\n",
       "</style>\n",
       "<table border=\"1\" class=\"dataframe\">\n",
       "  <thead>\n",
       "    <tr style=\"text-align: right;\">\n",
       "      <th></th>\n",
       "      <th>city</th>\n",
       "      <th>aqi</th>\n",
       "      <th>date</th>\n",
       "      <th>iaqi_h</th>\n",
       "      <th>iaqi_p</th>\n",
       "      <th>iaqi_pm10</th>\n",
       "      <th>iaqi_t</th>\n",
       "      <th>o3_avg</th>\n",
       "      <th>o3_max</th>\n",
       "      <th>o3_min</th>\n",
       "      <th>...</th>\n",
       "      <th>windspeed</th>\n",
       "      <th>winddir</th>\n",
       "      <th>pressure</th>\n",
       "      <th>cloudcover</th>\n",
       "      <th>visibility</th>\n",
       "      <th>solarradiation</th>\n",
       "      <th>solarenergy</th>\n",
       "      <th>uvindex</th>\n",
       "      <th>conditions</th>\n",
       "      <th>aqi_next_day</th>\n",
       "    </tr>\n",
       "  </thead>\n",
       "  <tbody>\n",
       "    <tr>\n",
       "      <th>0</th>\n",
       "      <td>0</td>\n",
       "      <td>7</td>\n",
       "      <td>1663718400000</td>\n",
       "      <td>0.454083</td>\n",
       "      <td>1.195838</td>\n",
       "      <td>-0.509993</td>\n",
       "      <td>-2.081702</td>\n",
       "      <td>-0.843871</td>\n",
       "      <td>-0.879904</td>\n",
       "      <td>-0.371219</td>\n",
       "      <td>...</td>\n",
       "      <td>-0.894416</td>\n",
       "      <td>-0.016729</td>\n",
       "      <td>1.352183</td>\n",
       "      <td>-2.705794</td>\n",
       "      <td>0.481224</td>\n",
       "      <td>1.070238</td>\n",
       "      <td>1.054494</td>\n",
       "      <td>0.985821</td>\n",
       "      <td>3</td>\n",
       "      <td>NaN</td>\n",
       "    </tr>\n",
       "    <tr>\n",
       "      <th>1</th>\n",
       "      <td>1</td>\n",
       "      <td>9</td>\n",
       "      <td>1663718400000</td>\n",
       "      <td>1.114657</td>\n",
       "      <td>1.287410</td>\n",
       "      <td>0.770920</td>\n",
       "      <td>-2.659991</td>\n",
       "      <td>-1.077559</td>\n",
       "      <td>-1.565213</td>\n",
       "      <td>-0.013258</td>\n",
       "      <td>...</td>\n",
       "      <td>-1.647902</td>\n",
       "      <td>0.751254</td>\n",
       "      <td>1.249014</td>\n",
       "      <td>-2.429295</td>\n",
       "      <td>0.481224</td>\n",
       "      <td>0.580380</td>\n",
       "      <td>0.553767</td>\n",
       "      <td>0.419498</td>\n",
       "      <td>0</td>\n",
       "      <td>NaN</td>\n",
       "    </tr>\n",
       "    <tr>\n",
       "      <th>2</th>\n",
       "      <td>2</td>\n",
       "      <td>6</td>\n",
       "      <td>1663718400000</td>\n",
       "      <td>0.013701</td>\n",
       "      <td>1.112590</td>\n",
       "      <td>-0.296508</td>\n",
       "      <td>-1.905701</td>\n",
       "      <td>-0.376496</td>\n",
       "      <td>-1.336777</td>\n",
       "      <td>0.165723</td>\n",
       "      <td>...</td>\n",
       "      <td>-1.075253</td>\n",
       "      <td>0.376752</td>\n",
       "      <td>1.137247</td>\n",
       "      <td>-0.746045</td>\n",
       "      <td>0.481224</td>\n",
       "      <td>0.062827</td>\n",
       "      <td>0.053040</td>\n",
       "      <td>-0.146824</td>\n",
       "      <td>0</td>\n",
       "      <td>NaN</td>\n",
       "    </tr>\n",
       "    <tr>\n",
       "      <th>3</th>\n",
       "      <td>0</td>\n",
       "      <td>19</td>\n",
       "      <td>1663632000000</td>\n",
       "      <td>0.178844</td>\n",
       "      <td>0.413309</td>\n",
       "      <td>-0.083022</td>\n",
       "      <td>-0.397120</td>\n",
       "      <td>-0.376496</td>\n",
       "      <td>-0.651467</td>\n",
       "      <td>-0.192239</td>\n",
       "      <td>...</td>\n",
       "      <td>-0.186139</td>\n",
       "      <td>1.490138</td>\n",
       "      <td>0.715974</td>\n",
       "      <td>-1.750174</td>\n",
       "      <td>0.481224</td>\n",
       "      <td>0.592497</td>\n",
       "      <td>0.573796</td>\n",
       "      <td>0.419498</td>\n",
       "      <td>0</td>\n",
       "      <td>7</td>\n",
       "    </tr>\n",
       "    <tr>\n",
       "      <th>4</th>\n",
       "      <td>1</td>\n",
       "      <td>4</td>\n",
       "      <td>1663632000000</td>\n",
       "      <td>0.399035</td>\n",
       "      <td>0.371686</td>\n",
       "      <td>-0.296508</td>\n",
       "      <td>-0.774265</td>\n",
       "      <td>-1.077559</td>\n",
       "      <td>-0.423031</td>\n",
       "      <td>-0.550200</td>\n",
       "      <td>...</td>\n",
       "      <td>0.416650</td>\n",
       "      <td>1.587559</td>\n",
       "      <td>0.509636</td>\n",
       "      <td>-0.202748</td>\n",
       "      <td>0.509843</td>\n",
       "      <td>-0.470305</td>\n",
       "      <td>-0.487745</td>\n",
       "      <td>-0.146824</td>\n",
       "      <td>1</td>\n",
       "      <td>9</td>\n",
       "    </tr>\n",
       "  </tbody>\n",
       "</table>\n",
       "<p>5 rows × 43 columns</p>\n",
       "</div>"
      ],
      "text/plain": [
       "  city aqi           date    iaqi_h    iaqi_p  iaqi_pm10    iaqi_t    o3_avg  \\\n",
       "0    0   7  1663718400000  0.454083  1.195838  -0.509993 -2.081702 -0.843871   \n",
       "1    1   9  1663718400000  1.114657  1.287410   0.770920 -2.659991 -1.077559   \n",
       "2    2   6  1663718400000  0.013701  1.112590  -0.296508 -1.905701 -0.376496   \n",
       "3    0  19  1663632000000  0.178844  0.413309  -0.083022 -0.397120 -0.376496   \n",
       "4    1   4  1663632000000  0.399035  0.371686  -0.296508 -0.774265 -1.077559   \n",
       "\n",
       "     o3_max    o3_min  ...  windspeed   winddir  pressure  cloudcover  \\\n",
       "0 -0.879904 -0.371219  ...  -0.894416 -0.016729  1.352183   -2.705794   \n",
       "1 -1.565213 -0.013258  ...  -1.647902  0.751254  1.249014   -2.429295   \n",
       "2 -1.336777  0.165723  ...  -1.075253  0.376752  1.137247   -0.746045   \n",
       "3 -0.651467 -0.192239  ...  -0.186139  1.490138  0.715974   -1.750174   \n",
       "4 -0.423031 -0.550200  ...   0.416650  1.587559  0.509636   -0.202748   \n",
       "\n",
       "   visibility  solarradiation  solarenergy   uvindex  conditions  aqi_next_day  \n",
       "0    0.481224        1.070238     1.054494  0.985821           3           NaN  \n",
       "1    0.481224        0.580380     0.553767  0.419498           0           NaN  \n",
       "2    0.481224        0.062827     0.053040 -0.146824           0           NaN  \n",
       "3    0.481224        0.592497     0.573796  0.419498           0             7  \n",
       "4    0.509843       -0.470305    -0.487745 -0.146824           1             9  \n",
       "\n",
       "[5 rows x 43 columns]"
      ]
     },
     "execution_count": 153,
     "metadata": {},
     "output_type": "execute_result"
    }
   ],
   "source": [
    "train_data.head(5)"
   ]
  },
  {
   "cell_type": "code",
   "execution_count": 154,
   "id": "03548664",
   "metadata": {},
   "outputs": [
    {
     "data": {
      "text/plain": [
       "(54, 43)"
      ]
     },
     "execution_count": 154,
     "metadata": {},
     "output_type": "execute_result"
    }
   ],
   "source": [
    "train_data.shape"
   ]
  },
  {
   "cell_type": "code",
   "execution_count": 156,
   "id": "54e73700",
   "metadata": {},
   "outputs": [],
   "source": [
    "X = train_data.dropna()"
   ]
  },
  {
   "cell_type": "code",
   "execution_count": 157,
   "id": "ba2e29d1",
   "metadata": {},
   "outputs": [],
   "source": [
    "y = X.pop(\"aqi_next_day\")"
   ]
  },
  {
   "cell_type": "code",
   "execution_count": 164,
   "id": "b96b0b6a",
   "metadata": {},
   "outputs": [
    {
     "data": {
      "text/html": [
       "<style>#sk-container-id-1 {color: black;background-color: white;}#sk-container-id-1 pre{padding: 0;}#sk-container-id-1 div.sk-toggleable {background-color: white;}#sk-container-id-1 label.sk-toggleable__label {cursor: pointer;display: block;width: 100%;margin-bottom: 0;padding: 0.3em;box-sizing: border-box;text-align: center;}#sk-container-id-1 label.sk-toggleable__label-arrow:before {content: \"▸\";float: left;margin-right: 0.25em;color: #696969;}#sk-container-id-1 label.sk-toggleable__label-arrow:hover:before {color: black;}#sk-container-id-1 div.sk-estimator:hover label.sk-toggleable__label-arrow:before {color: black;}#sk-container-id-1 div.sk-toggleable__content {max-height: 0;max-width: 0;overflow: hidden;text-align: left;background-color: #f0f8ff;}#sk-container-id-1 div.sk-toggleable__content pre {margin: 0.2em;color: black;border-radius: 0.25em;background-color: #f0f8ff;}#sk-container-id-1 input.sk-toggleable__control:checked~div.sk-toggleable__content {max-height: 200px;max-width: 100%;overflow: auto;}#sk-container-id-1 input.sk-toggleable__control:checked~label.sk-toggleable__label-arrow:before {content: \"▾\";}#sk-container-id-1 div.sk-estimator input.sk-toggleable__control:checked~label.sk-toggleable__label {background-color: #d4ebff;}#sk-container-id-1 div.sk-label input.sk-toggleable__control:checked~label.sk-toggleable__label {background-color: #d4ebff;}#sk-container-id-1 input.sk-hidden--visually {border: 0;clip: rect(1px 1px 1px 1px);clip: rect(1px, 1px, 1px, 1px);height: 1px;margin: -1px;overflow: hidden;padding: 0;position: absolute;width: 1px;}#sk-container-id-1 div.sk-estimator {font-family: monospace;background-color: #f0f8ff;border: 1px dotted black;border-radius: 0.25em;box-sizing: border-box;margin-bottom: 0.5em;}#sk-container-id-1 div.sk-estimator:hover {background-color: #d4ebff;}#sk-container-id-1 div.sk-parallel-item::after {content: \"\";width: 100%;border-bottom: 1px solid gray;flex-grow: 1;}#sk-container-id-1 div.sk-label:hover label.sk-toggleable__label {background-color: #d4ebff;}#sk-container-id-1 div.sk-serial::before {content: \"\";position: absolute;border-left: 1px solid gray;box-sizing: border-box;top: 0;bottom: 0;left: 50%;z-index: 0;}#sk-container-id-1 div.sk-serial {display: flex;flex-direction: column;align-items: center;background-color: white;padding-right: 0.2em;padding-left: 0.2em;position: relative;}#sk-container-id-1 div.sk-item {position: relative;z-index: 1;}#sk-container-id-1 div.sk-parallel {display: flex;align-items: stretch;justify-content: center;background-color: white;position: relative;}#sk-container-id-1 div.sk-item::before, #sk-container-id-1 div.sk-parallel-item::before {content: \"\";position: absolute;border-left: 1px solid gray;box-sizing: border-box;top: 0;bottom: 0;left: 50%;z-index: -1;}#sk-container-id-1 div.sk-parallel-item {display: flex;flex-direction: column;z-index: 1;position: relative;background-color: white;}#sk-container-id-1 div.sk-parallel-item:first-child::after {align-self: flex-end;width: 50%;}#sk-container-id-1 div.sk-parallel-item:last-child::after {align-self: flex-start;width: 50%;}#sk-container-id-1 div.sk-parallel-item:only-child::after {width: 0;}#sk-container-id-1 div.sk-dashed-wrapped {border: 1px dashed gray;margin: 0 0.4em 0.5em 0.4em;box-sizing: border-box;padding-bottom: 0.4em;background-color: white;}#sk-container-id-1 div.sk-label label {font-family: monospace;font-weight: bold;display: inline-block;line-height: 1.2em;}#sk-container-id-1 div.sk-label-container {text-align: center;}#sk-container-id-1 div.sk-container {/* jupyter's `normalize.less` sets `[hidden] { display: none; }` but bootstrap.min.css set `[hidden] { display: none !important; }` so we also need the `!important` here to be able to override the default hidden behavior on the sphinx rendered scikit-learn.org. See: https://github.com/scikit-learn/scikit-learn/issues/21755 */display: inline-block !important;position: relative;}#sk-container-id-1 div.sk-text-repr-fallback {display: none;}</style><div id=\"sk-container-id-1\" class=\"sk-top-container\"><div class=\"sk-text-repr-fallback\"><pre>GradientBoostingRegressor()</pre><b>In a Jupyter environment, please rerun this cell to show the HTML representation or trust the notebook. <br />On GitHub, the HTML representation is unable to render, please try loading this page with nbviewer.org.</b></div><div class=\"sk-container\" hidden><div class=\"sk-item\"><div class=\"sk-estimator sk-toggleable\"><input class=\"sk-toggleable__control sk-hidden--visually\" id=\"sk-estimator-id-1\" type=\"checkbox\" checked><label for=\"sk-estimator-id-1\" class=\"sk-toggleable__label sk-toggleable__label-arrow\">GradientBoostingRegressor</label><div class=\"sk-toggleable__content\"><pre>GradientBoostingRegressor()</pre></div></div></div></div></div>"
      ],
      "text/plain": [
       "GradientBoostingRegressor()"
      ]
     },
     "execution_count": 164,
     "metadata": {},
     "output_type": "execute_result"
    }
   ],
   "source": [
    "from sklearn.ensemble import GradientBoostingRegressor\n",
    "\n",
    "gb = GradientBoostingRegressor()\n",
    "gb.fit(X, y)"
   ]
  },
  {
   "cell_type": "code",
   "execution_count": 166,
   "id": "fa5209bb",
   "metadata": {},
   "outputs": [
    {
     "data": {
      "text/plain": [
       "city                          0\n",
       "aqi                          19\n",
       "date              1663632000000\n",
       "iaqi_h                 0.178844\n",
       "iaqi_p                 0.413309\n",
       "iaqi_pm10             -0.083022\n",
       "iaqi_t                 -0.39712\n",
       "o3_avg                -0.376496\n",
       "o3_max                -0.651467\n",
       "o3_min                -0.192239\n",
       "pm10_avg              -0.176988\n",
       "pm10_max               -0.35667\n",
       "pm10_min              -0.594113\n",
       "pm25_avg               -0.46819\n",
       "pm25_max              -0.523035\n",
       "pm25_min              -0.497913\n",
       "uvi_avg               -0.282843\n",
       "uvi_max               -0.282843\n",
       "uvi_min               -0.282843\n",
       "tempmax                0.155714\n",
       "tempmin               -0.069925\n",
       "temp                   0.048407\n",
       "feelslikemax           0.155714\n",
       "feelslikemin          -0.190487\n",
       "feelslike              0.056074\n",
       "dew                   -0.193809\n",
       "humidity              -0.356076\n",
       "precip                -0.540161\n",
       "precipprob            -1.071247\n",
       "precipcover           -0.771696\n",
       "snow                          0\n",
       "snowdepth                     0\n",
       "windgust              -0.135472\n",
       "windspeed             -0.186139\n",
       "winddir                1.490138\n",
       "pressure               0.715974\n",
       "cloudcover            -1.750174\n",
       "visibility             0.481224\n",
       "solarradiation         0.592497\n",
       "solarenergy            0.573796\n",
       "uvindex                0.419498\n",
       "conditions                    0\n",
       "Name: 3, dtype: object"
      ]
     },
     "execution_count": 166,
     "metadata": {},
     "output_type": "execute_result"
    }
   ],
   "source": [
    "X.iloc[0]"
   ]
  },
  {
   "cell_type": "code",
   "execution_count": 173,
   "id": "70bf9a79",
   "metadata": {},
   "outputs": [
    {
     "data": {
      "text/plain": [
       "array([7.22552946])"
      ]
     },
     "execution_count": 173,
     "metadata": {},
     "output_type": "execute_result"
    }
   ],
   "source": [
    "gb.predict(X.iloc[0].values.reshape(1, -1))"
   ]
  },
  {
   "cell_type": "code",
   "execution_count": 174,
   "id": "24123ef7",
   "metadata": {},
   "outputs": [
    {
     "data": {
      "text/plain": [
       "7"
      ]
     },
     "execution_count": 174,
     "metadata": {},
     "output_type": "execute_result"
    }
   ],
   "source": [
    "y.iloc[0]"
   ]
  },
  {
   "cell_type": "code",
   "execution_count": 175,
   "id": "e6f132b1",
   "metadata": {},
   "outputs": [
    {
     "data": {
      "text/plain": [
       "array([3.15480916])"
      ]
     },
     "execution_count": 175,
     "metadata": {},
     "output_type": "execute_result"
    }
   ],
   "source": [
    "gb.predict(X.iloc[5].values.reshape(1, -1))"
   ]
  },
  {
   "cell_type": "code",
   "execution_count": 176,
   "id": "79d2538c",
   "metadata": {},
   "outputs": [
    {
     "data": {
      "text/plain": [
       "3"
      ]
     },
     "execution_count": 176,
     "metadata": {},
     "output_type": "execute_result"
    }
   ],
   "source": [
    "y.iloc[5]"
   ]
  },
  {
   "cell_type": "markdown",
   "id": "f63c2cf2",
   "metadata": {},
   "source": [
    "## <span style='color:#ff5f27'>👮🏼‍♀️ Model Registry</span>"
   ]
  },
  {
   "cell_type": "code",
   "execution_count": 177,
   "id": "c553b659",
   "metadata": {},
   "outputs": [
    {
     "name": "stdout",
     "output_type": "stream",
     "text": [
      "Connected. Call `.close()` to terminate connection gracefully.\n"
     ]
    }
   ],
   "source": [
    "mr = project.get_model_registry()"
   ]
  },
  {
   "cell_type": "code",
   "execution_count": 178,
   "id": "cd3f3751",
   "metadata": {
    "scrolled": true
   },
   "outputs": [
    {
     "data": {
      "text/plain": [
       "{'input_schema': {'columnar_schema': [{'name': 'city', 'type': 'object'},\n",
       "   {'name': 'aqi', 'type': 'object'},\n",
       "   {'name': 'date', 'type': 'object'},\n",
       "   {'name': 'iaqi_h', 'type': 'float64'},\n",
       "   {'name': 'iaqi_p', 'type': 'float64'},\n",
       "   {'name': 'iaqi_pm10', 'type': 'float64'},\n",
       "   {'name': 'iaqi_t', 'type': 'float64'},\n",
       "   {'name': 'o3_avg', 'type': 'float64'},\n",
       "   {'name': 'o3_max', 'type': 'float64'},\n",
       "   {'name': 'o3_min', 'type': 'float64'},\n",
       "   {'name': 'pm10_avg', 'type': 'float64'},\n",
       "   {'name': 'pm10_max', 'type': 'float64'},\n",
       "   {'name': 'pm10_min', 'type': 'float64'},\n",
       "   {'name': 'pm25_avg', 'type': 'float64'},\n",
       "   {'name': 'pm25_max', 'type': 'float64'},\n",
       "   {'name': 'pm25_min', 'type': 'float64'},\n",
       "   {'name': 'uvi_avg', 'type': 'float64'},\n",
       "   {'name': 'uvi_max', 'type': 'float64'},\n",
       "   {'name': 'uvi_min', 'type': 'float64'},\n",
       "   {'name': 'tempmax', 'type': 'float64'},\n",
       "   {'name': 'tempmin', 'type': 'float64'},\n",
       "   {'name': 'temp', 'type': 'float64'},\n",
       "   {'name': 'feelslikemax', 'type': 'float64'},\n",
       "   {'name': 'feelslikemin', 'type': 'float64'},\n",
       "   {'name': 'feelslike', 'type': 'float64'},\n",
       "   {'name': 'dew', 'type': 'float64'},\n",
       "   {'name': 'humidity', 'type': 'float64'},\n",
       "   {'name': 'precip', 'type': 'float64'},\n",
       "   {'name': 'precipprob', 'type': 'float64'},\n",
       "   {'name': 'precipcover', 'type': 'float64'},\n",
       "   {'name': 'snow', 'type': 'object'},\n",
       "   {'name': 'snowdepth', 'type': 'object'},\n",
       "   {'name': 'windgust', 'type': 'float64'},\n",
       "   {'name': 'windspeed', 'type': 'float64'},\n",
       "   {'name': 'winddir', 'type': 'float64'},\n",
       "   {'name': 'pressure', 'type': 'float64'},\n",
       "   {'name': 'cloudcover', 'type': 'float64'},\n",
       "   {'name': 'visibility', 'type': 'float64'},\n",
       "   {'name': 'solarradiation', 'type': 'float64'},\n",
       "   {'name': 'solarenergy', 'type': 'float64'},\n",
       "   {'name': 'uvindex', 'type': 'float64'},\n",
       "   {'name': 'conditions', 'type': 'object'}]},\n",
       " 'output_schema': {'columnar_schema': [{'name': 'aqi_next_day',\n",
       "    'type': 'object'}]}}"
      ]
     },
     "execution_count": 178,
     "metadata": {},
     "output_type": "execute_result"
    }
   ],
   "source": [
    "from hsml.schema import Schema\n",
    "from hsml.model_schema import ModelSchema\n",
    "\n",
    "input_schema = Schema(X)\n",
    "output_schema = Schema(y)\n",
    "model_schema = ModelSchema(input_schema=input_schema, output_schema=output_schema)\n",
    "\n",
    "model_schema.to_dict()"
   ]
  },
  {
   "cell_type": "code",
   "execution_count": 180,
   "id": "d2777f5e",
   "metadata": {},
   "outputs": [
    {
     "data": {
      "text/plain": [
       "['model.pkl']"
      ]
     },
     "execution_count": 180,
     "metadata": {},
     "output_type": "execute_result"
    }
   ],
   "source": [
    "import joblib\n",
    "\n",
    "joblib.dump(gb, 'model.pkl')"
   ]
  },
  {
   "cell_type": "code",
   "execution_count": 181,
   "id": "41f6811e",
   "metadata": {},
   "outputs": [
    {
     "data": {
      "application/vnd.jupyter.widget-view+json": {
       "model_id": "b1e3f00e5eac4e32bc7934fbf52df455",
       "version_major": 2,
       "version_minor": 0
      },
      "text/plain": [
       "  0%|          | 0/6 [00:00<?, ?it/s]"
      ]
     },
     "metadata": {},
     "output_type": "display_data"
    },
    {
     "name": "stdout",
     "output_type": "stream",
     "text": [
      "Model created, explore it at https://c.app.hopsworks.ai:443/p/167/models/gradient_boost_model/1\n"
     ]
    },
    {
     "data": {
      "text/plain": [
       "Model(name: 'gradient_boost_model', version: 1)"
      ]
     },
     "execution_count": 181,
     "metadata": {},
     "output_type": "execute_result"
    }
   ],
   "source": [
    "model = mr.sklearn.create_model(\n",
    "    name=\"gradient_boost_model\",\n",
    "    # we have very few of observations\n",
    "    metrics={\"f1\": \"0.5\"},\n",
    "    description=\"Gradient Boost Regressor.\",\n",
    "    input_example=X.sample(),\n",
    "    model_schema=model_schema\n",
    ")\n",
    "\n",
    "model.save('model.pkl')"
   ]
  },
  {
   "cell_type": "markdown",
   "id": "f5858e9a",
   "metadata": {},
   "source": [
    "## <span style=\"color:#ff5f27;\">🚀 Fetch and test the model </span>"
   ]
  }
 ],
 "metadata": {
  "kernelspec": {
   "display_name": "Python 3 (ipykernel)",
   "language": "python",
   "name": "python3"
  },
  "language_info": {
   "codemirror_mode": {
    "name": "ipython",
    "version": 3
   },
   "file_extension": ".py",
   "mimetype": "text/x-python",
   "name": "python",
   "nbconvert_exporter": "python",
   "pygments_lexer": "ipython3",
   "version": "3.8.0"
  }
 },
 "nbformat": 4,
 "nbformat_minor": 5
}
