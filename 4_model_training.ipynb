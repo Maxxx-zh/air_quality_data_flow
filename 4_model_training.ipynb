{
 "cells": [
  {
   "cell_type": "markdown",
   "id": "dbd751f5",
   "metadata": {},
   "source": [
    "# <span style=\"font-width:bold; font-size: 3rem; color:#1EB182;\"><img src=\"images/icon102.png\" width=\"38px\"></img> **Hopsworks Feature Store** </span><span style=\"font-width:bold; font-size: 3rem; color:#333;\">- Part 04: Batch Predictions</span>\n",
    "\n",
    "\n",
    "## 🗒️ In this notebook we will see how to create a training dataset from the feature groups: \n",
    "\n",
    "1. Loading the training data.\n",
    "2. Train the model.\n",
    "3. Register model in Hopsworks model registry.\n",
    "\n",
    "![part3](images/03_model.png) "
   ]
  },
  {
   "cell_type": "markdown",
   "id": "e05af617",
   "metadata": {},
   "source": [
    "## <span style=\"color:#ff5f27;\"> 🔮 Connecting to Hopsworks Feature Store </span>"
   ]
  },
  {
   "cell_type": "code",
   "execution_count": 1,
   "id": "6539d56a",
   "metadata": {},
   "outputs": [
    {
     "name": "stdout",
     "output_type": "stream",
     "text": [
      "Connected. Call `.close()` to terminate connection gracefully.\n",
      "\n",
      "Logged in to project, explore it here https://c.app.hopsworks.ai:443/p/167\n",
      "Connected. Call `.close()` to terminate connection gracefully.\n"
     ]
    }
   ],
   "source": [
    "import hopsworks\n",
    "\n",
    "project = hopsworks.login()\n",
    "\n",
    "fs = project.get_feature_store() "
   ]
  },
  {
   "cell_type": "markdown",
   "id": "f9d64a5d",
   "metadata": {},
   "source": [
    "## <span style=\"color:#ff5f27;\"> 🪝 Feature View and Training Dataset Retrieval </span>"
   ]
  },
  {
   "cell_type": "code",
   "execution_count": 2,
   "id": "360857d2",
   "metadata": {},
   "outputs": [],
   "source": [
    "feature_view = fs.get_feature_view(\n",
    "    name = 'air_quality_fv',\n",
    "    version = 1\n",
    ")"
   ]
  },
  {
   "cell_type": "code",
   "execution_count": 3,
   "id": "b04e30a7",
   "metadata": {},
   "outputs": [
    {
     "data": {
      "text/html": [
       "<div>\n",
       "<style scoped>\n",
       "    .dataframe tbody tr th:only-of-type {\n",
       "        vertical-align: middle;\n",
       "    }\n",
       "\n",
       "    .dataframe tbody tr th {\n",
       "        vertical-align: top;\n",
       "    }\n",
       "\n",
       "    .dataframe thead th {\n",
       "        text-align: right;\n",
       "    }\n",
       "</style>\n",
       "<table border=\"1\" class=\"dataframe\">\n",
       "  <thead>\n",
       "    <tr style=\"text-align: right;\">\n",
       "      <th></th>\n",
       "      <th>city</th>\n",
       "      <th>aqi</th>\n",
       "      <th>date</th>\n",
       "      <th>iaqi_h</th>\n",
       "      <th>iaqi_p</th>\n",
       "      <th>iaqi_pm10</th>\n",
       "      <th>iaqi_t</th>\n",
       "      <th>o3_avg</th>\n",
       "      <th>o3_max</th>\n",
       "      <th>o3_min</th>\n",
       "      <th>...</th>\n",
       "      <th>windgust</th>\n",
       "      <th>windspeed</th>\n",
       "      <th>winddir</th>\n",
       "      <th>pressure</th>\n",
       "      <th>cloudcover</th>\n",
       "      <th>visibility</th>\n",
       "      <th>solarradiation</th>\n",
       "      <th>solarenergy</th>\n",
       "      <th>uvindex</th>\n",
       "      <th>conditions</th>\n",
       "    </tr>\n",
       "  </thead>\n",
       "  <tbody>\n",
       "    <tr>\n",
       "      <th>0</th>\n",
       "      <td>2</td>\n",
       "      <td>16</td>\n",
       "      <td>1663027200000</td>\n",
       "      <td>0.296339</td>\n",
       "      <td>-0.769711</td>\n",
       "      <td>-0.228696</td>\n",
       "      <td>0.174822</td>\n",
       "      <td>-0.262875</td>\n",
       "      <td>-0.295896</td>\n",
       "      <td>-0.095551</td>\n",
       "      <td>...</td>\n",
       "      <td>1.292511</td>\n",
       "      <td>0.49434</td>\n",
       "      <td>-0.629129</td>\n",
       "      <td>-0.94677</td>\n",
       "      <td>1.251215</td>\n",
       "      <td>-1.073768</td>\n",
       "      <td>-1.719523</td>\n",
       "      <td>-1.726476</td>\n",
       "      <td>-1.878691</td>\n",
       "      <td>2</td>\n",
       "    </tr>\n",
       "    <tr>\n",
       "      <th>1</th>\n",
       "      <td>1</td>\n",
       "      <td>4</td>\n",
       "      <td>1662584400000</td>\n",
       "      <td>0.809041</td>\n",
       "      <td>1.236292</td>\n",
       "      <td>-0.41581</td>\n",
       "      <td>-2.566292</td>\n",
       "      <td>-0.047795</td>\n",
       "      <td>0.430394</td>\n",
       "      <td>0.217162</td>\n",
       "      <td>...</td>\n",
       "      <td>-0.875157</td>\n",
       "      <td>-0.986137</td>\n",
       "      <td>-0.688734</td>\n",
       "      <td>1.13537</td>\n",
       "      <td>-1.721077</td>\n",
       "      <td>0.602495</td>\n",
       "      <td>0.423267</td>\n",
       "      <td>0.419426</td>\n",
       "      <td>0.285561</td>\n",
       "      <td>0</td>\n",
       "    </tr>\n",
       "    <tr>\n",
       "      <th>2</th>\n",
       "      <td>1</td>\n",
       "      <td>19</td>\n",
       "      <td>1662940800000</td>\n",
       "      <td>-0.899964</td>\n",
       "      <td>0.344735</td>\n",
       "      <td>2.390909</td>\n",
       "      <td>0.723045</td>\n",
       "      <td>0.167284</td>\n",
       "      <td>-0.295896</td>\n",
       "      <td>0.68623</td>\n",
       "      <td>...</td>\n",
       "      <td>-0.610403</td>\n",
       "      <td>-0.512995</td>\n",
       "      <td>-0.757281</td>\n",
       "      <td>0.284408</td>\n",
       "      <td>-0.321398</td>\n",
       "      <td>-1.937297</td>\n",
       "      <td>-0.079925</td>\n",
       "      <td>-0.04877</td>\n",
       "      <td>0.285561</td>\n",
       "      <td>0</td>\n",
       "    </tr>\n",
       "    <tr>\n",
       "      <th>3</th>\n",
       "      <td>2</td>\n",
       "      <td>8</td>\n",
       "      <td>1662584400000</td>\n",
       "      <td>-0.764249</td>\n",
       "      <td>1.28087</td>\n",
       "      <td>-0.41581</td>\n",
       "      <td>-0.949035</td>\n",
       "      <td>-0.262875</td>\n",
       "      <td>-0.295896</td>\n",
       "      <td>0.373518</td>\n",
       "      <td>...</td>\n",
       "      <td>-0.941345</td>\n",
       "      <td>-1.154026</td>\n",
       "      <td>-0.092678</td>\n",
       "      <td>1.244003</td>\n",
       "      <td>0.402761</td>\n",
       "      <td>0.602495</td>\n",
       "      <td>0.134522</td>\n",
       "      <td>0.107295</td>\n",
       "      <td>0.285561</td>\n",
       "      <td>0</td>\n",
       "    </tr>\n",
       "    <tr>\n",
       "      <th>4</th>\n",
       "      <td>1</td>\n",
       "      <td>16</td>\n",
       "      <td>1662930000000</td>\n",
       "      <td>-1.101023</td>\n",
       "      <td>0.344735</td>\n",
       "      <td>1.829565</td>\n",
       "      <td>0.997157</td>\n",
       "      <td>0.167284</td>\n",
       "      <td>-0.295896</td>\n",
       "      <td>0.68623</td>\n",
       "      <td>...</td>\n",
       "      <td>-0.701412</td>\n",
       "      <td>-0.757197</td>\n",
       "      <td>-0.761751</td>\n",
       "      <td>0.293461</td>\n",
       "      <td>0.073106</td>\n",
       "      <td>-1.327747</td>\n",
       "      <td>0.011257</td>\n",
       "      <td>0.029262</td>\n",
       "      <td>0.285561</td>\n",
       "      <td>0</td>\n",
       "    </tr>\n",
       "  </tbody>\n",
       "</table>\n",
       "<p>5 rows × 42 columns</p>\n",
       "</div>"
      ],
      "text/plain": [
       "  city aqi           date    iaqi_h    iaqi_p iaqi_pm10    iaqi_t    o3_avg  \\\n",
       "0    2  16  1663027200000  0.296339 -0.769711 -0.228696  0.174822 -0.262875   \n",
       "1    1   4  1662584400000  0.809041  1.236292  -0.41581 -2.566292 -0.047795   \n",
       "2    1  19  1662940800000 -0.899964  0.344735  2.390909  0.723045  0.167284   \n",
       "3    2   8  1662584400000 -0.764249   1.28087  -0.41581 -0.949035 -0.262875   \n",
       "4    1  16  1662930000000 -1.101023  0.344735  1.829565  0.997157  0.167284   \n",
       "\n",
       "     o3_max    o3_min  ...  windgust windspeed   winddir  pressure cloudcover  \\\n",
       "0 -0.295896 -0.095551  ...  1.292511   0.49434 -0.629129  -0.94677   1.251215   \n",
       "1  0.430394  0.217162  ... -0.875157 -0.986137 -0.688734   1.13537  -1.721077   \n",
       "2 -0.295896   0.68623  ... -0.610403 -0.512995 -0.757281  0.284408  -0.321398   \n",
       "3 -0.295896  0.373518  ... -0.941345 -1.154026 -0.092678  1.244003   0.402761   \n",
       "4 -0.295896   0.68623  ... -0.701412 -0.757197 -0.761751  0.293461   0.073106   \n",
       "\n",
       "  visibility solarradiation solarenergy   uvindex conditions  \n",
       "0  -1.073768      -1.719523   -1.726476 -1.878691          2  \n",
       "1   0.602495       0.423267    0.419426  0.285561          0  \n",
       "2  -1.937297      -0.079925    -0.04877  0.285561          0  \n",
       "3   0.602495       0.134522    0.107295  0.285561          0  \n",
       "4  -1.327747       0.011257    0.029262  0.285561          0  \n",
       "\n",
       "[5 rows x 42 columns]"
      ]
     },
     "execution_count": 3,
     "metadata": {},
     "output_type": "execute_result"
    }
   ],
   "source": [
    "train_data = feature_view.get_training_data(1)[0]\n",
    "train_data.head()"
   ]
  },
  {
   "cell_type": "markdown",
   "id": "d74d0201",
   "metadata": {},
   "source": [
    "---\n",
    "\n",
    "## <span style=\"color:#ff5f27;\"> 🧬 SequenceDataset </span>"
   ]
  },
  {
   "cell_type": "code",
   "execution_count": 4,
   "id": "63bd9532",
   "metadata": {},
   "outputs": [],
   "source": [
    "import numpy as np\n",
    "import pandas as pd\n",
    "\n",
    "import torch\n",
    "import torch.nn as nn\n",
    "from torch.utils.data import Dataset, DataLoader"
   ]
  },
  {
   "cell_type": "code",
   "execution_count": 5,
   "id": "aa920d69",
   "metadata": {},
   "outputs": [],
   "source": [
    "class SequenceDataset(Dataset):\n",
    "    def __init__(self, data, target, sequence_length=2):\n",
    "        self.features = [column for column in [*data.columns] if column != target]\n",
    "        self.target = target\n",
    "        self.sequence_length = sequence_length\n",
    "        self.X = torch.tensor(data.drop(target, axis = 1).values.astype(np.float32)) \n",
    "        self.y = torch.tensor(data[self.target])\n",
    "        \n",
    "    def __repr__(self):\n",
    "        return f'Features: {self.features}\\nTarget: {self.target}'\n",
    "    \n",
    "    def __len__(self):\n",
    "        return self.X.shape[0]\n",
    "    \n",
    "    def __getitem__(self,i):\n",
    "        if i < self.sequence_length:\n",
    "            dist = self.sequence_length - i+1\n",
    "            X = [*[self.X[0] for i in range(dist-2)],*self.X[:i+1]]\n",
    "            return torch.tensor([[*obs] for obs in X]).float(),self.y[i].float()\n",
    "        return self.X[i+1 - self.sequence_length:i+1].float(),self.y[i].float()"
   ]
  },
  {
   "cell_type": "code",
   "execution_count": 7,
   "id": "9154ae89",
   "metadata": {},
   "outputs": [
    {
     "name": "stdout",
     "output_type": "stream",
     "text": [
      "tensor([ 2.0000e+00,  1.6630e+12,  2.9634e-01, -7.6971e-01, -2.2870e-01,\n",
      "         1.7482e-01, -2.6288e-01, -2.9590e-01, -9.5551e-02, -1.1894e+00,\n",
      "        -1.5127e+00, -1.3768e+00, -9.3865e-01, -1.1514e+00, -7.9609e-01,\n",
      "        -3.5355e-01, -3.5355e-01, -3.5355e-01, -9.8886e-01,  5.5164e-01,\n",
      "        -1.7699e-01, -9.8886e-01,  5.9449e-01, -8.3310e-02,  8.8902e-01,\n",
      "         1.2962e+00,  3.0990e+00,  1.2638e+00,  2.6862e+00,  0.0000e+00,\n",
      "         0.0000e+00,  1.2925e+00,  4.9434e-01, -6.2913e-01, -9.4677e-01,\n",
      "         1.2512e+00, -1.0738e+00, -1.7195e+00, -1.7265e+00, -1.8787e+00,\n",
      "         2.0000e+00])\n",
      "tensor(16)\n"
     ]
    }
   ],
   "source": [
    "df_torch = SequenceDataset(\n",
    "    data = train_data,\n",
    "    target = 'aqi',\n",
    "    sequence_length = 5\n",
    ")\n",
    "\n",
    "print(df_torch.X[0])\n",
    "print(df_torch.y[0])"
   ]
  },
  {
   "cell_type": "code",
   "execution_count": 8,
   "id": "57ab40ca",
   "metadata": {},
   "outputs": [
    {
     "data": {
      "text/plain": [
       "(tensor([[ 2.0000e+00,  1.6630e+12,  2.9634e-01, -7.6971e-01, -2.2870e-01,\n",
       "           1.7482e-01, -2.6288e-01, -2.9590e-01, -9.5551e-02, -1.1894e+00,\n",
       "          -1.5127e+00, -1.3768e+00, -9.3865e-01, -1.1514e+00, -7.9609e-01,\n",
       "          -3.5355e-01, -3.5355e-01, -3.5355e-01, -9.8886e-01,  5.5164e-01,\n",
       "          -1.7699e-01, -9.8886e-01,  5.9449e-01, -8.3310e-02,  8.8902e-01,\n",
       "           1.2962e+00,  3.0990e+00,  1.2638e+00,  2.6862e+00,  0.0000e+00,\n",
       "           0.0000e+00,  1.2925e+00,  4.9434e-01, -6.2913e-01, -9.4677e-01,\n",
       "           1.2512e+00, -1.0738e+00, -1.7195e+00, -1.7265e+00, -1.8787e+00,\n",
       "           2.0000e+00],\n",
       "         [ 2.0000e+00,  1.6630e+12,  2.9634e-01, -7.6971e-01, -2.2870e-01,\n",
       "           1.7482e-01, -2.6288e-01, -2.9590e-01, -9.5551e-02, -1.1894e+00,\n",
       "          -1.5127e+00, -1.3768e+00, -9.3865e-01, -1.1514e+00, -7.9609e-01,\n",
       "          -3.5355e-01, -3.5355e-01, -3.5355e-01, -9.8886e-01,  5.5164e-01,\n",
       "          -1.7699e-01, -9.8886e-01,  5.9449e-01, -8.3310e-02,  8.8902e-01,\n",
       "           1.2962e+00,  3.0990e+00,  1.2638e+00,  2.6862e+00,  0.0000e+00,\n",
       "           0.0000e+00,  1.2925e+00,  4.9434e-01, -6.2913e-01, -9.4677e-01,\n",
       "           1.2512e+00, -1.0738e+00, -1.7195e+00, -1.7265e+00, -1.8787e+00,\n",
       "           2.0000e+00],\n",
       "         [ 2.0000e+00,  1.6630e+12,  2.9634e-01, -7.6971e-01, -2.2870e-01,\n",
       "           1.7482e-01, -2.6288e-01, -2.9590e-01, -9.5551e-02, -1.1894e+00,\n",
       "          -1.5127e+00, -1.3768e+00, -9.3865e-01, -1.1514e+00, -7.9609e-01,\n",
       "          -3.5355e-01, -3.5355e-01, -3.5355e-01, -9.8886e-01,  5.5164e-01,\n",
       "          -1.7699e-01, -9.8886e-01,  5.9449e-01, -8.3310e-02,  8.8902e-01,\n",
       "           1.2962e+00,  3.0990e+00,  1.2638e+00,  2.6862e+00,  0.0000e+00,\n",
       "           0.0000e+00,  1.2925e+00,  4.9434e-01, -6.2913e-01, -9.4677e-01,\n",
       "           1.2512e+00, -1.0738e+00, -1.7195e+00, -1.7265e+00, -1.8787e+00,\n",
       "           2.0000e+00],\n",
       "         [ 1.0000e+00,  1.6626e+12,  8.0904e-01,  1.2363e+00, -4.1581e-01,\n",
       "          -2.5663e+00, -4.7795e-02,  4.3039e-01,  2.1716e-01, -3.5798e-01,\n",
       "          -2.9577e-01, -8.4382e-01, -5.1091e-01, -4.5017e-01, -3.0197e-01,\n",
       "           2.8284e+00,  2.8284e+00,  2.8284e+00, -2.8270e-01, -1.2183e+00,\n",
       "          -9.4933e-01, -2.8270e-01, -1.1463e+00, -8.6570e-01, -9.4565e-01,\n",
       "          -4.3875e-01, -5.2007e-01, -6.5182e-01, -6.4840e-01,  0.0000e+00,\n",
       "           0.0000e+00, -8.7516e-01, -9.8614e-01, -6.8873e-01,  1.1354e+00,\n",
       "          -1.7211e+00,  6.0250e-01,  4.2327e-01,  4.1943e-01,  2.8556e-01,\n",
       "           0.0000e+00],\n",
       "         [ 1.0000e+00,  1.6629e+12, -8.9996e-01,  3.4474e-01,  2.3909e+00,\n",
       "           7.2305e-01,  1.6728e-01, -2.9590e-01,  6.8623e-01, -3.5798e-01,\n",
       "          -6.0000e-01,  2.2206e-01, -5.1091e-01, -6.8391e-01, -3.0197e-01,\n",
       "          -3.5355e-01, -3.5355e-01, -3.5355e-01,  1.0466e+00, -8.5828e-01,\n",
       "          -1.2872e-01,  1.0466e+00, -6.0871e-01, -8.3310e-02,  3.9638e-02,\n",
       "           2.4799e-01, -5.2007e-01, -1.1012e+00, -6.4840e-01,  0.0000e+00,\n",
       "           0.0000e+00, -6.1040e-01, -5.1299e-01, -7.5728e-01,  2.8441e-01,\n",
       "          -3.2140e-01, -1.9373e+00, -7.9925e-02, -4.8770e-02,  2.8556e-01,\n",
       "           0.0000e+00]]),\n",
       " tensor(19.))"
      ]
     },
     "execution_count": 8,
     "metadata": {},
     "output_type": "execute_result"
    }
   ],
   "source": [
    "df_torch[2]"
   ]
  },
  {
   "cell_type": "code",
   "execution_count": 9,
   "id": "40dcb399",
   "metadata": {},
   "outputs": [
    {
     "data": {
      "text/plain": [
       "(tensor([[ 1.0000e+00,  1.6626e+12,  8.0904e-01,  1.2363e+00, -4.1581e-01,\n",
       "          -2.5663e+00, -4.7795e-02,  4.3039e-01,  2.1716e-01, -3.5798e-01,\n",
       "          -2.9577e-01, -8.4382e-01, -5.1091e-01, -4.5017e-01, -3.0197e-01,\n",
       "           2.8284e+00,  2.8284e+00,  2.8284e+00, -2.8270e-01, -1.2183e+00,\n",
       "          -9.4933e-01, -2.8270e-01, -1.1463e+00, -8.6570e-01, -9.4565e-01,\n",
       "          -4.3875e-01, -5.2007e-01, -6.5182e-01, -6.4840e-01,  0.0000e+00,\n",
       "           0.0000e+00, -8.7516e-01, -9.8614e-01, -6.8873e-01,  1.1354e+00,\n",
       "          -1.7211e+00,  6.0250e-01,  4.2327e-01,  4.1943e-01,  2.8556e-01,\n",
       "           0.0000e+00],\n",
       "         [ 1.0000e+00,  1.6629e+12, -8.9996e-01,  3.4474e-01,  2.3909e+00,\n",
       "           7.2305e-01,  1.6728e-01, -2.9590e-01,  6.8623e-01, -3.5798e-01,\n",
       "          -6.0000e-01,  2.2206e-01, -5.1091e-01, -6.8391e-01, -3.0197e-01,\n",
       "          -3.5355e-01, -3.5355e-01, -3.5355e-01,  1.0466e+00, -8.5828e-01,\n",
       "          -1.2872e-01,  1.0466e+00, -6.0871e-01, -8.3310e-02,  3.9638e-02,\n",
       "           2.4799e-01, -5.2007e-01, -1.1012e+00, -6.4840e-01,  0.0000e+00,\n",
       "           0.0000e+00, -6.1040e-01, -5.1299e-01, -7.5728e-01,  2.8441e-01,\n",
       "          -3.2140e-01, -1.9373e+00, -7.9925e-02, -4.8770e-02,  2.8556e-01,\n",
       "           0.0000e+00],\n",
       "         [ 2.0000e+00,  1.6626e+12, -7.6425e-01,  1.2809e+00, -4.1581e-01,\n",
       "          -9.4903e-01, -2.6288e-01, -2.9590e-01,  3.7352e-01, -1.6051e+00,\n",
       "          -1.2084e+00, -1.3768e+00, -1.1525e+00, -1.1514e+00, -1.4549e+00,\n",
       "          -3.5355e-01, -3.5355e-01, -3.5355e-01, -1.4458e+00, -6.4830e-01,\n",
       "          -1.3355e+00, -1.4458e+00, -4.2951e-01, -1.1265e+00, -8.0975e-01,\n",
       "          -1.4056e-02, -5.2007e-01, -1.1012e+00, -6.4840e-01,  0.0000e+00,\n",
       "           0.0000e+00, -9.4134e-01, -1.1540e+00, -9.2678e-02,  1.2440e+00,\n",
       "           4.0276e-01,  6.0250e-01,  1.3452e-01,  1.0730e-01,  2.8556e-01,\n",
       "           0.0000e+00],\n",
       "         [ 1.0000e+00,  1.6629e+12, -1.1010e+00,  3.4474e-01,  1.8296e+00,\n",
       "           9.9716e-01,  1.6728e-01, -2.9590e-01,  6.8623e-01, -3.5798e-01,\n",
       "          -6.0000e-01,  2.2206e-01, -5.1091e-01, -6.8391e-01, -3.0197e-01,\n",
       "          -3.5355e-01, -3.5355e-01, -3.5355e-01,  1.0466e+00, -8.5828e-01,\n",
       "          -1.7699e-01,  1.0466e+00, -6.0871e-01, -1.2678e-01,  7.3613e-02,\n",
       "           3.2028e-01, -5.2007e-01, -1.1012e+00, -6.4840e-01,  0.0000e+00,\n",
       "           0.0000e+00, -7.0141e-01, -7.5720e-01, -7.6175e-01,  2.9346e-01,\n",
       "           7.3106e-02, -1.3277e+00,  1.1257e-02,  2.9262e-02,  2.8556e-01,\n",
       "           0.0000e+00],\n",
       "         [ 2.0000e+00,  1.6631e+12,  1.1106e+00, -1.9198e+00,  3.3265e-01,\n",
       "          -4.5563e-01, -4.7795e-01, -1.0222e+00, -9.5551e-02, -1.1894e+00,\n",
       "          -9.0422e-01, -1.3768e+00, -7.2478e-01, -7.6183e-01, -7.9609e-01,\n",
       "          -3.5355e-01, -3.5355e-01, -3.5355e-01, -1.3212e+00,  5.5164e-01,\n",
       "          -2.2527e-01, -1.3212e+00,  5.9449e-01, -1.2678e-01,  9.2300e-01,\n",
       "           1.4317e+00,  5.1739e-01,  1.2638e+00,  2.1304e+00,  0.0000e+00,\n",
       "           0.0000e+00, -7.9242e-01,  1.1964e+00, -7.2599e-01, -1.9426e+00,\n",
       "           1.2026e+00, -2.1024e-01, -1.3379e+00, -1.3558e+00, -1.3376e+00,\n",
       "           2.0000e+00]]),\n",
       " tensor(16.))"
      ]
     },
     "execution_count": 9,
     "metadata": {},
     "output_type": "execute_result"
    }
   ],
   "source": [
    "df_torch[5]"
   ]
  },
  {
   "cell_type": "markdown",
   "id": "6bd2af0b",
   "metadata": {},
   "source": [
    "---\n",
    "\n",
    "## <span style=\"color:#ff5f27;\">🧑🏻‍🔬 DataLoader </span>"
   ]
  },
  {
   "cell_type": "code",
   "execution_count": 10,
   "id": "487973e2",
   "metadata": {},
   "outputs": [
    {
     "name": "stdout",
     "output_type": "stream",
     "text": [
      "Features shape: torch.Size([3, 5, 41])\n",
      "Target shape: torch.Size([3])\n"
     ]
    }
   ],
   "source": [
    "loader_train = DataLoader(df_torch,batch_size = 3)\n",
    "\n",
    "X, y = next(iter(loader_train))\n",
    "\n",
    "print(\"Features shape:\", X.shape)\n",
    "print(\"Target shape:\", y.shape)"
   ]
  },
  {
   "cell_type": "markdown",
   "id": "37069211",
   "metadata": {},
   "source": [
    "---\n",
    "\n",
    "## <span style=\"color:#ff5f27;\">🤖 Model Building </span>"
   ]
  },
  {
   "cell_type": "code",
   "execution_count": 11,
   "id": "76ee5e11",
   "metadata": {},
   "outputs": [],
   "source": [
    "class LSTMModel(nn.Module):\n",
    "    def __init__(self,n_features,num_layers,hidden_size):\n",
    "        super().__init__()\n",
    "        self.n_features=n_features\n",
    "        self.num_layers=num_layers\n",
    "        self.hidden_size=hidden_size\n",
    "        \n",
    "        self.lstm = nn.LSTM(\n",
    "            input_size=n_features,\n",
    "            hidden_size=hidden_size,\n",
    "            batch_first=True,\n",
    "            num_layers=self.num_layers\n",
    "        )\n",
    "        \n",
    "        self.linear = nn.Linear(\n",
    "            in_features=hidden_size,\n",
    "            out_features=1\n",
    "        )\n",
    "        \n",
    "    def forward(self, x):\n",
    "        batch_size = x.shape[0]\n",
    "        h0 = torch.zeros(self.num_layers, batch_size, self.hidden_size).requires_grad_()\n",
    "        c0 = torch.zeros(self.num_layers, batch_size, self.hidden_size).requires_grad_()\n",
    "        \n",
    "        _, (hn, _) = self.lstm(x, (h0, c0))\n",
    "        out = self.linear(hn[0]).flatten()  \n",
    "\n",
    "        return out"
   ]
  },
  {
   "cell_type": "code",
   "execution_count": 12,
   "id": "1023c0e6",
   "metadata": {},
   "outputs": [],
   "source": [
    "model = LSTMModel(\n",
    "    n_features=len(df_torch.X[0]),\n",
    "    num_layers=32,\n",
    "    hidden_size=16\n",
    ")\n",
    "\n",
    "learning_rate = 0.05\n",
    "optimizer = torch.optim.Adam(model.parameters(), lr=learning_rate)\n",
    "loss_function = nn.MSELoss()"
   ]
  },
  {
   "cell_type": "markdown",
   "id": "9f6939e9",
   "metadata": {},
   "source": [
    "---\n",
    "\n",
    "## <span style=\"color:#ff5f27;\">👨🏻‍⚖️ Model Evaluation </span>"
   ]
  },
  {
   "cell_type": "code",
   "execution_count": 13,
   "id": "19c00f46",
   "metadata": {},
   "outputs": [],
   "source": [
    "def train_model(data_loader, model, loss_function, optimizer):\n",
    "    num_batches = len(data_loader)\n",
    "    total_loss = .0\n",
    "    model.train()\n",
    "\n",
    "    for X, y in data_loader:\n",
    "        output = model(X)\n",
    "\n",
    "        loss = loss_function(output, y)\n",
    "\n",
    "        optimizer.zero_grad()\n",
    "        loss.backward()\n",
    "        optimizer.step()\n",
    "\n",
    "        total_loss += loss.item()\n",
    "\n",
    "    avg_loss = total_loss / num_batches\n",
    "    print(f\"Train loss: {avg_loss}\")\n",
    "\n",
    "def test_model(data_loader, model, loss_function):\n",
    "\n",
    "    num_batches = len(data_loader)\n",
    "    total_loss = 0\n",
    "\n",
    "    model.eval()\n",
    "    with torch.no_grad():\n",
    "        for X, y in data_loader:\n",
    "            output = model(X)\n",
    "            total_loss += loss_function(output, y).item()\n",
    "\n",
    "    avg_loss = total_loss / num_batches\n",
    "    print(f\"Test loss: {avg_loss}\\n\")"
   ]
  },
  {
   "cell_type": "code",
   "execution_count": 14,
   "id": "5e8c0236",
   "metadata": {},
   "outputs": [
    {
     "name": "stdout",
     "output_type": "stream",
     "text": [
      "Epoch 0\n",
      "---------\n",
      "Train loss: 230.4072945912679\n",
      "Epoch 1\n",
      "---------\n",
      "Train loss: 199.49027304848036\n",
      "Epoch 2\n",
      "---------\n",
      "Train loss: 173.50038990626732\n",
      "Epoch 3\n",
      "---------\n",
      "Train loss: 152.3059850037098\n",
      "Epoch 4\n",
      "---------\n",
      "Train loss: 135.46838302413622\n",
      "Epoch 5\n",
      "---------\n",
      "Train loss: 122.38609488805135\n",
      "Epoch 6\n",
      "---------\n",
      "Train loss: 112.42339372634888\n",
      "Epoch 7\n",
      "---------\n",
      "Train loss: 104.97926163673401\n",
      "Epoch 8\n",
      "---------\n",
      "Train loss: 99.51896635691325\n",
      "Epoch 9\n",
      "---------\n",
      "Train loss: 95.58588027954102\n"
     ]
    }
   ],
   "source": [
    "for epoch in range(10):\n",
    "    print(f\"Epoch {epoch}\\n---------\")\n",
    "    train_model(loader_train, model, loss_function, optimizer=optimizer)"
   ]
  },
  {
   "cell_type": "markdown",
   "id": "4c5afe76",
   "metadata": {},
   "source": [
    "## <span style='color:#ff5f27'>👮🏼‍♀️ Model Registry</span>"
   ]
  },
  {
   "cell_type": "code",
   "execution_count": 15,
   "id": "11f567bc",
   "metadata": {},
   "outputs": [
    {
     "name": "stdout",
     "output_type": "stream",
     "text": [
      "Connected. Call `.close()` to terminate connection gracefully.\n"
     ]
    }
   ],
   "source": [
    "mr = project.get_model_registry()"
   ]
  },
  {
   "cell_type": "code",
   "execution_count": 17,
   "id": "10c3663f",
   "metadata": {},
   "outputs": [
    {
     "data": {
      "text/plain": [
       "{'input_schema': {'columnar_schema': [{'name': 'city', 'type': 'object'},\n",
       "   {'name': 'date', 'type': 'object'},\n",
       "   {'name': 'iaqi_h', 'type': 'object'},\n",
       "   {'name': 'iaqi_p', 'type': 'object'},\n",
       "   {'name': 'iaqi_pm10', 'type': 'object'},\n",
       "   {'name': 'iaqi_t', 'type': 'object'},\n",
       "   {'name': 'o3_avg', 'type': 'object'},\n",
       "   {'name': 'o3_max', 'type': 'object'},\n",
       "   {'name': 'o3_min', 'type': 'object'},\n",
       "   {'name': 'pm10_avg', 'type': 'object'},\n",
       "   {'name': 'pm10_max', 'type': 'object'},\n",
       "   {'name': 'pm10_min', 'type': 'object'},\n",
       "   {'name': 'pm25_avg', 'type': 'object'},\n",
       "   {'name': 'pm25_max', 'type': 'object'},\n",
       "   {'name': 'pm25_min', 'type': 'object'},\n",
       "   {'name': 'uvi_avg', 'type': 'object'},\n",
       "   {'name': 'uvi_max', 'type': 'object'},\n",
       "   {'name': 'uvi_min', 'type': 'object'},\n",
       "   {'name': 'tempmax', 'type': 'object'},\n",
       "   {'name': 'tempmin', 'type': 'object'},\n",
       "   {'name': 'temp', 'type': 'object'},\n",
       "   {'name': 'feelslikemax', 'type': 'object'},\n",
       "   {'name': 'feelslikemin', 'type': 'object'},\n",
       "   {'name': 'feelslike', 'type': 'object'},\n",
       "   {'name': 'dew', 'type': 'object'},\n",
       "   {'name': 'humidity', 'type': 'object'},\n",
       "   {'name': 'precip', 'type': 'object'},\n",
       "   {'name': 'precipprob', 'type': 'object'},\n",
       "   {'name': 'precipcover', 'type': 'object'},\n",
       "   {'name': 'snow', 'type': 'object'},\n",
       "   {'name': 'snowdepth', 'type': 'object'},\n",
       "   {'name': 'windgust', 'type': 'object'},\n",
       "   {'name': 'windspeed', 'type': 'object'},\n",
       "   {'name': 'winddir', 'type': 'object'},\n",
       "   {'name': 'pressure', 'type': 'object'},\n",
       "   {'name': 'cloudcover', 'type': 'object'},\n",
       "   {'name': 'visibility', 'type': 'object'},\n",
       "   {'name': 'solarradiation', 'type': 'object'},\n",
       "   {'name': 'solarenergy', 'type': 'object'},\n",
       "   {'name': 'uvindex', 'type': 'object'},\n",
       "   {'name': 'conditions', 'type': 'object'}]},\n",
       " 'output_schema': {'columnar_schema': [{'name': 'aqi', 'type': 'object'}]}}"
      ]
     },
     "execution_count": 17,
     "metadata": {},
     "output_type": "execute_result"
    }
   ],
   "source": [
    "from hsml.schema import Schema\n",
    "from hsml.model_schema import ModelSchema\n",
    "\n",
    "input_schema = Schema(train_data.drop('aqi',axis=1))\n",
    "output_schema = Schema(train_data.aqi)\n",
    "model_schema = ModelSchema(input_schema=input_schema, output_schema=output_schema)\n",
    "\n",
    "model_schema.to_dict()"
   ]
  },
  {
   "cell_type": "code",
   "execution_count": 20,
   "id": "b0444d0f",
   "metadata": {},
   "outputs": [
    {
     "data": {
      "application/vnd.jupyter.widget-view+json": {
       "model_id": "6ec9b7c0524649aa92966f91be2fb7f3",
       "version_major": 2,
       "version_minor": 0
      },
      "text/plain": [
       "  0%|          | 0/6 [00:00<?, ?it/s]"
      ]
     },
     "metadata": {},
     "output_type": "display_data"
    },
    {
     "name": "stdout",
     "output_type": "stream",
     "text": [
      "Model created, explore it at https://c.app.hopsworks.ai:443/p/167/models/pytorch_model/1\n"
     ]
    },
    {
     "data": {
      "text/plain": [
       "Model(name: 'pytorch_model', version: 1)"
      ]
     },
     "execution_count": 20,
     "metadata": {},
     "output_type": "execute_result"
    }
   ],
   "source": [
    "model_dir = \"./model\"\n",
    "torch.save(model, model_dir)\n",
    "\n",
    "model_hops = mr.sklearn.create_model(\n",
    "    name = \"pytorch_model\",\n",
    "    #input_example = df_torch[5],\n",
    "    model_schema = model_schema\n",
    ")\n",
    "\n",
    "model_hops.save(model_dir)"
   ]
  },
  {
   "cell_type": "markdown",
   "id": "246e05ca",
   "metadata": {},
   "source": [
    "## <span style=\"color:#ff5f27;\">🚀 Fetch and test the model </span>"
   ]
  },
  {
   "cell_type": "code",
   "execution_count": 28,
   "id": "27736a89",
   "metadata": {},
   "outputs": [
    {
     "name": "stdout",
     "output_type": "stream",
     "text": [
      "Downloading file ... "
     ]
    },
    {
     "data": {
      "text/plain": [
       "LSTMModel(\n",
       "  (lstm): LSTM(41, 16, num_layers=32, batch_first=True)\n",
       "  (linear): Linear(in_features=16, out_features=1, bias=True)\n",
       ")"
      ]
     },
     "execution_count": 28,
     "metadata": {},
     "output_type": "execute_result"
    }
   ],
   "source": [
    "model = mr.get_model(\"pytorch_model\", version = 1)\n",
    "model_dir = model.download()\n",
    "\n",
    "model = torch.load(model_dir + '/model')\n",
    "model"
   ]
  },
  {
   "cell_type": "code",
   "execution_count": 29,
   "id": "5aa69d85",
   "metadata": {},
   "outputs": [],
   "source": [
    "def predict(data_loader, model):\n",
    "\n",
    "    output = torch.tensor([])\n",
    "    model.eval()\n",
    "    with torch.no_grad():\n",
    "        for X, _ in data_loader:\n",
    "            y_star = model(X).int()\n",
    "            output = torch.cat((output, y_star), 0)\n",
    "\n",
    "    return output"
   ]
  },
  {
   "cell_type": "code",
   "execution_count": 30,
   "id": "adc3fa6b",
   "metadata": {},
   "outputs": [
    {
     "data": {
      "text/plain": [
       "tensor([10., 10., 10., 10., 10., 10., 10., 10., 10., 10., 10., 10., 10., 10.,\n",
       "        10., 10., 10., 10., 10., 10., 10., 10., 10., 10., 10., 10., 10., 10.,\n",
       "        10., 10., 10., 10., 10., 10., 10., 10.])"
      ]
     },
     "execution_count": 30,
     "metadata": {},
     "output_type": "execute_result"
    }
   ],
   "source": [
    "predict(loader_train,model)"
   ]
  },
  {
   "cell_type": "markdown",
   "id": "337d3a73",
   "metadata": {},
   "source": [
    "---"
   ]
  }
 ],
 "metadata": {
  "kernelspec": {
   "display_name": "Python 3 (ipykernel)",
   "language": "python",
   "name": "python3"
  },
  "language_info": {
   "codemirror_mode": {
    "name": "ipython",
    "version": 3
   },
   "file_extension": ".py",
   "mimetype": "text/x-python",
   "name": "python",
   "nbconvert_exporter": "python",
   "pygments_lexer": "ipython3",
   "version": "3.9.12"
  }
 },
 "nbformat": 4,
 "nbformat_minor": 5
}
