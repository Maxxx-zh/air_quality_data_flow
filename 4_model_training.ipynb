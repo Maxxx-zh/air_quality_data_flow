{
 "cells": [
  {
   "cell_type": "markdown",
   "id": "dbd751f5",
   "metadata": {},
   "source": [
    "# <span style=\"font-width:bold; font-size: 3rem; color:#1EB182;\"><img src=\"images/icon102.png\" width=\"38px\"></img> **Hopsworks Feature Store** </span><span style=\"font-width:bold; font-size: 3rem; color:#333;\">- Part 04: Batch Predictions</span>\n",
    "\n",
    "\n",
    "## 🗒️ In this notebook we will see how to create a training dataset from the feature groups: \n",
    "\n",
    "1. Loading the training data.\n",
    "2. Train the model.\n",
    "3. Register model in Hopsworks model registry.\n",
    "\n",
    "![part3](images/03_model.png) "
   ]
  },
  {
   "cell_type": "markdown",
   "id": "e05af617",
   "metadata": {},
   "source": [
    "## <span style=\"color:#ff5f27;\"> 🔮 Connecting to Hopsworks Feature Store </span>"
   ]
  },
  {
   "cell_type": "code",
   "execution_count": null,
   "id": "6539d56a",
   "metadata": {},
   "outputs": [],
   "source": [
    "import hopsworks\n",
    "\n",
    "project = hopsworks.login()\n",
    "\n",
    "fs = project.get_feature_store() "
   ]
  },
  {
   "cell_type": "markdown",
   "id": "f9d64a5d",
   "metadata": {},
   "source": [
    "## <span style=\"color:#ff5f27;\"> 🪝 Feature View and Training Dataset Retrieval </span>"
   ]
  },
  {
   "cell_type": "code",
   "execution_count": null,
   "id": "360857d2",
   "metadata": {},
   "outputs": [],
   "source": [
    "feature_view = fs.get_feature_view(\n",
    "    name = 'air_quality_fv',\n",
    "    version = 1\n",
    ")"
   ]
  },
  {
   "cell_type": "code",
   "execution_count": null,
   "id": "b04e30a7",
   "metadata": {
    "scrolled": true
   },
   "outputs": [],
   "source": [
    "train_data = feature_view.get_training_data(1)[0]\n",
    "train_data.head()"
   ]
  },
  {
   "cell_type": "markdown",
   "id": "d74d0201",
   "metadata": {},
   "source": [
    "---\n",
    "\n",
    "## <span style=\"color:#ff5f27;\"> 🧬 SequenceDataset </span>"
   ]
  },
  {
   "cell_type": "code",
   "execution_count": null,
   "id": "80ee6b8b",
   "metadata": {},
   "outputs": [],
   "source": [
    "!pip install torch"
   ]
  },
  {
   "cell_type": "code",
   "execution_count": null,
   "id": "63bd9532",
   "metadata": {},
   "outputs": [],
   "source": [
    "import numpy as np\n",
    "import pandas as pd\n",
    "\n",
    "import torch\n",
    "import torch.nn as nn\n",
    "from torch.utils.data import Dataset, DataLoader"
   ]
  },
  {
   "cell_type": "code",
   "execution_count": null,
   "id": "aa920d69",
   "metadata": {},
   "outputs": [],
   "source": [
    "class SequenceDataset(Dataset):\n",
    "    def __init__(self, data, target, sequence_length=2):\n",
    "        self.features = [column for column in [*data.columns] if column != target]\n",
    "        self.target = target\n",
    "        self.sequence_length = sequence_length\n",
    "        self.X = torch.tensor(data.drop(target, axis = 1).values.astype(np.float32)) \n",
    "        self.y = torch.tensor(data[self.target])\n",
    "        \n",
    "    def __repr__(self):\n",
    "        return f'Features: {self.features}\\nTarget: {self.target}'\n",
    "    \n",
    "    def __len__(self):\n",
    "        return self.X.shape[0]\n",
    "    \n",
    "    def __getitem__(self,i):\n",
    "        if i < self.sequence_length:\n",
    "            dist = self.sequence_length - i+1\n",
    "            X = [*[self.X[0] for i in range(dist-2)],*self.X[:i+1]]\n",
    "            return torch.tensor([[*obs] for obs in X]).float(),self.y[i].float()\n",
    "        return self.X[i+1 - self.sequence_length:i+1].float(),self.y[i].float()"
   ]
  },
  {
   "cell_type": "code",
   "execution_count": null,
   "id": "9154ae89",
   "metadata": {},
   "outputs": [],
   "source": [
    "df_torch = SequenceDataset(\n",
    "    data = train_data,\n",
    "    target = 'aqi',\n",
    "    sequence_length = 5\n",
    ")\n",
    "\n",
    "print(df_torch.X[0])\n",
    "print(df_torch.y[0])"
   ]
  },
  {
   "cell_type": "code",
   "execution_count": null,
   "id": "57ab40ca",
   "metadata": {},
   "outputs": [],
   "source": [
    "df_torch[2]"
   ]
  },
  {
   "cell_type": "code",
   "execution_count": null,
   "id": "40dcb399",
   "metadata": {},
   "outputs": [],
   "source": [
    "df_torch[5]"
   ]
  },
  {
   "cell_type": "markdown",
   "id": "6bd2af0b",
   "metadata": {},
   "source": [
    "---\n",
    "\n",
    "## <span style=\"color:#ff5f27;\">🧑🏻‍🔬 DataLoader </span>"
   ]
  },
  {
   "cell_type": "code",
   "execution_count": null,
   "id": "1e0fd825",
   "metadata": {},
   "outputs": [],
   "source": [
    "train_data.sort_values(by=[\"date\", 'city']).head(4)"
   ]
  },
  {
   "cell_type": "code",
   "execution_count": null,
   "id": "487973e2",
   "metadata": {},
   "outputs": [],
   "source": [
    "loader_train = DataLoader(df_torch,batch_size = 3)\n",
    "\n",
    "X, y = next(iter(loader_train))\n",
    "\n",
    "print(\"Features shape:\", X.shape)\n",
    "print(\"Target shape:\", y.shape)"
   ]
  },
  {
   "cell_type": "markdown",
   "id": "37069211",
   "metadata": {},
   "source": [
    "---\n",
    "\n",
    "## <span style=\"color:#ff5f27;\">🤖 Model Building </span>"
   ]
  },
  {
   "cell_type": "code",
   "execution_count": null,
   "id": "76ee5e11",
   "metadata": {},
   "outputs": [],
   "source": [
    "class LSTMModel(nn.Module):\n",
    "    def __init__(self,n_features,num_layers,hidden_size):\n",
    "        super().__init__()\n",
    "        self.n_features=n_features\n",
    "        self.num_layers=num_layers\n",
    "        self.hidden_size=hidden_size\n",
    "        \n",
    "        self.lstm = nn.LSTM(\n",
    "            input_size=n_features,\n",
    "            hidden_size=hidden_size,\n",
    "            batch_first=True,\n",
    "            num_layers=self.num_layers\n",
    "        )\n",
    "        \n",
    "        self.linear = nn.Linear(\n",
    "            in_features=hidden_size,\n",
    "            out_features=1\n",
    "        )\n",
    "        \n",
    "    def forward(self, x):\n",
    "        batch_size = x.shape[0]\n",
    "        h0 = torch.zeros(self.num_layers, batch_size, self.hidden_size).requires_grad_()\n",
    "        c0 = torch.zeros(self.num_layers, batch_size, self.hidden_size).requires_grad_()\n",
    "        \n",
    "        _, (hn, _) = self.lstm(x, (h0, c0))\n",
    "        out = self.linear(hn[0]).flatten()  \n",
    "\n",
    "        return out"
   ]
  },
  {
   "cell_type": "code",
   "execution_count": null,
   "id": "1023c0e6",
   "metadata": {},
   "outputs": [],
   "source": [
    "model = LSTMModel(\n",
    "    n_features=len(df_torch.X[0]),\n",
    "    num_layers=32,\n",
    "    hidden_size=16\n",
    ")\n",
    "\n",
    "learning_rate = 0.05\n",
    "optimizer = torch.optim.Adam(model.parameters(), lr=learning_rate)\n",
    "loss_function = nn.MSELoss()"
   ]
  },
  {
   "cell_type": "markdown",
   "id": "9f6939e9",
   "metadata": {},
   "source": [
    "---\n",
    "\n",
    "## <span style=\"color:#ff5f27;\">👨🏻‍⚖️ Model Evaluation </span>"
   ]
  },
  {
   "cell_type": "code",
   "execution_count": null,
   "id": "19c00f46",
   "metadata": {},
   "outputs": [],
   "source": [
    "def train_model(data_loader, model, loss_function, optimizer):\n",
    "    num_batches = len(data_loader)\n",
    "    total_loss = .0\n",
    "    model.train()\n",
    "\n",
    "    for X, y in data_loader:\n",
    "        output = model(X)\n",
    "\n",
    "        loss = loss_function(output, y)\n",
    "\n",
    "        optimizer.zero_grad()\n",
    "        loss.backward()\n",
    "        optimizer.step()\n",
    "\n",
    "        total_loss += loss.item()\n",
    "\n",
    "    avg_loss = total_loss / num_batches\n",
    "    print(f\"Train loss: {avg_loss}\")\n",
    "\n",
    "def test_model(data_loader, model, loss_function):\n",
    "\n",
    "    num_batches = len(data_loader)\n",
    "    total_loss = 0\n",
    "\n",
    "    model.eval()\n",
    "    with torch.no_grad():\n",
    "        for X, y in data_loader:\n",
    "            output = model(X)\n",
    "            total_loss += loss_function(output, y).item()\n",
    "\n",
    "    avg_loss = total_loss / num_batches\n",
    "    print(f\"Test loss: {avg_loss}\\n\")"
   ]
  },
  {
   "cell_type": "code",
   "execution_count": null,
   "id": "5e8c0236",
   "metadata": {},
   "outputs": [],
   "source": [
    "for epoch in range(10):\n",
    "    print(f\"Epoch {epoch}\\n---------\")\n",
    "    train_model(loader_train, model, loss_function, optimizer=optimizer)"
   ]
  },
  {
   "cell_type": "markdown",
   "id": "4c5afe76",
   "metadata": {},
   "source": [
    "## <span style='color:#ff5f27'>👮🏼‍♀️ Model Registry</span>"
   ]
  },
  {
   "cell_type": "code",
   "execution_count": null,
   "id": "11f567bc",
   "metadata": {},
   "outputs": [],
   "source": [
    "mr = project.get_model_registry()"
   ]
  },
  {
   "cell_type": "code",
   "execution_count": null,
   "id": "10c3663f",
   "metadata": {},
   "outputs": [],
   "source": [
    "from hsml.schema import Schema\n",
    "from hsml.model_schema import ModelSchema\n",
    "\n",
    "input_schema = Schema(train_data.drop('aqi',axis=1))\n",
    "output_schema = Schema(train_data.aqi)\n",
    "model_schema = ModelSchema(input_schema=input_schema, output_schema=output_schema)\n",
    "\n",
    "model_schema.to_dict()"
   ]
  },
  {
   "cell_type": "code",
   "execution_count": null,
   "id": "b0444d0f",
   "metadata": {},
   "outputs": [],
   "source": [
    "model_dir = \"./model\"\n",
    "torch.save(model, model_dir)\n",
    "\n",
    "model_hops = mr.sklearn.create_model(\n",
    "    name = \"pytorch_model\",\n",
    "    #input_example = df_torch[5],\n",
    "    model_schema = model_schema\n",
    ")\n",
    "\n",
    "model_hops.save(model_dir)"
   ]
  },
  {
   "cell_type": "markdown",
   "id": "246e05ca",
   "metadata": {},
   "source": [
    "## <span style=\"color:#ff5f27;\">🚀 Fetch and test the model </span>"
   ]
  },
  {
   "cell_type": "code",
   "execution_count": null,
   "id": "27736a89",
   "metadata": {},
   "outputs": [],
   "source": [
    "model = mr.get_model(\"pytorch_model\", version = 1)\n",
    "model_dir = model.download()\n",
    "\n",
    "model = torch.load(model_dir + '/model')\n",
    "model"
   ]
  },
  {
   "cell_type": "code",
   "execution_count": null,
   "id": "5aa69d85",
   "metadata": {},
   "outputs": [],
   "source": [
    "def predict(data_loader, model):\n",
    "\n",
    "    output = torch.tensor([])\n",
    "    model.eval()\n",
    "    with torch.no_grad():\n",
    "        for X, _ in data_loader:\n",
    "            y_star = model(X).int()\n",
    "            output = torch.cat((output, y_star), 0)\n",
    "\n",
    "    return output"
   ]
  },
  {
   "cell_type": "code",
   "execution_count": null,
   "id": "adc3fa6b",
   "metadata": {},
   "outputs": [],
   "source": [
    "predict(loader_train,model)"
   ]
  },
  {
   "cell_type": "markdown",
   "id": "337d3a73",
   "metadata": {},
   "source": [
    "---"
   ]
  }
 ],
 "metadata": {
  "kernelspec": {
   "display_name": "Python 3 (ipykernel)",
   "language": "python",
   "name": "python3"
  },
  "language_info": {
   "codemirror_mode": {
    "name": "ipython",
    "version": 3
   },
   "file_extension": ".py",
   "mimetype": "text/x-python",
   "name": "python",
   "nbconvert_exporter": "python",
   "pygments_lexer": "ipython3",
   "version": "3.8.0"
  }
 },
 "nbformat": 4,
 "nbformat_minor": 5
}
