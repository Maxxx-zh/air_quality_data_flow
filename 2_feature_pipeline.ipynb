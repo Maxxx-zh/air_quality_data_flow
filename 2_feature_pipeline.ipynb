{
 "cells": [
  {
   "cell_type": "markdown",
   "id": "dd094af7",
   "metadata": {},
   "source": [
    "# <span style=\"font-width:bold; font-size: 3rem; color:#1EB182;\"><img src=\"images/icon102.png\" width=\"38px\"></img> **Hopsworks Feature Store** </span><span style=\"font-width:bold; font-size: 3rem; color:#333;\">- Part 02: Feature Pipeline</span>\n",
    "\n",
    "## 🗒️ This notebook is divided in 3 sections:\n",
    "1. Parsing Data.\n",
    "2. Preparing dataframes.\n",
    "3. Feature Group Insertion."
   ]
  },
  {
   "cell_type": "markdown",
   "id": "a7dcc328",
   "metadata": {},
   "source": [
    "## <span style='color:#ff5f27'> 📝 Imports"
   ]
  },
  {
   "cell_type": "code",
   "execution_count": 1,
   "id": "364e961e",
   "metadata": {},
   "outputs": [],
   "source": [
    "import pandas as pd\n",
    "from datetime import datetime\n",
    "import time \n",
    "import requests\n",
    "import os \n",
    "\n",
    "from features import *"
   ]
  },
  {
   "cell_type": "markdown",
   "id": "114041a3",
   "metadata": {},
   "source": [
    "## <span style='color:#ff5f27'> 👮🏻‍♂️ API Keys"
   ]
  },
  {
   "cell_type": "code",
   "execution_count": 2,
   "id": "010c9b4a",
   "metadata": {},
   "outputs": [],
   "source": [
    "AIR_QUALITY_API_KEY = os.getenv('AIR_QUALITY_API_KEY')\n",
    "WEATHER_API_KEY = os.getenv('WEATHER_API_KEY')\n",
    "\n",
    "date_today = datetime.now().strftime(\"%Y-%m-%d\")"
   ]
  },
  {
   "cell_type": "markdown",
   "id": "5c5be1bc",
   "metadata": {},
   "source": [
    "## <span style='color:#ff5f27'> 🕵🏻‍♂️ Parsing"
   ]
  },
  {
   "cell_type": "code",
   "execution_count": 3,
   "id": "5cc510eb",
   "metadata": {},
   "outputs": [],
   "source": [
    "cities = ['Kyiv','Stockholm','Sundsvall','Malmo']\n",
    "\n",
    "data_air_quality = [get_air_quality_data(city,AIR_QUALITY_API_KEY) for city in cities]\n",
    "\n",
    "data_weather = [get_weather_data(city,date_today,WEATHER_API_KEY) for city in cities]"
   ]
  },
  {
   "cell_type": "markdown",
   "id": "cca6814a",
   "metadata": {},
   "source": [
    "## <span style='color:#ff5f27'> 🧑🏻‍🏫 Dataset Preparation"
   ]
  },
  {
   "cell_type": "markdown",
   "id": "2f172f7b",
   "metadata": {},
   "source": [
    "#### <span style='color:#ff5f27'> 👩🏻‍🔬 Air Quality Data"
   ]
  },
  {
   "cell_type": "code",
   "execution_count": 4,
   "id": "7d3f552e",
   "metadata": {},
   "outputs": [
    {
     "data": {
      "text/html": [
       "<div>\n",
       "<style scoped>\n",
       "    .dataframe tbody tr th:only-of-type {\n",
       "        vertical-align: middle;\n",
       "    }\n",
       "\n",
       "    .dataframe tbody tr th {\n",
       "        vertical-align: top;\n",
       "    }\n",
       "\n",
       "    .dataframe thead th {\n",
       "        text-align: right;\n",
       "    }\n",
       "</style>\n",
       "<table border=\"1\" class=\"dataframe\">\n",
       "  <thead>\n",
       "    <tr style=\"text-align: right;\">\n",
       "      <th></th>\n",
       "      <th>city</th>\n",
       "      <th>aqi</th>\n",
       "      <th>date</th>\n",
       "      <th>iaqi_h</th>\n",
       "      <th>iaqi_p</th>\n",
       "      <th>iaqi_pm10</th>\n",
       "      <th>iaqi_t</th>\n",
       "      <th>o3_avg</th>\n",
       "      <th>o3_max</th>\n",
       "      <th>o3_min</th>\n",
       "      <th>pm10_avg</th>\n",
       "      <th>pm10_max</th>\n",
       "      <th>pm10_min</th>\n",
       "      <th>pm25_avg</th>\n",
       "      <th>pm25_max</th>\n",
       "      <th>pm25_min</th>\n",
       "      <th>uvi_avg</th>\n",
       "      <th>uvi_max</th>\n",
       "      <th>uvi_min</th>\n",
       "    </tr>\n",
       "  </thead>\n",
       "  <tbody>\n",
       "    <tr>\n",
       "      <th>0</th>\n",
       "      <td>Kyiv</td>\n",
       "      <td>5</td>\n",
       "      <td>1662843600000</td>\n",
       "      <td>99.9</td>\n",
       "      <td>1007.8</td>\n",
       "      <td>2</td>\n",
       "      <td>13.37</td>\n",
       "      <td>22</td>\n",
       "      <td>28</td>\n",
       "      <td>18</td>\n",
       "      <td>8</td>\n",
       "      <td>11</td>\n",
       "      <td>6</td>\n",
       "      <td>29</td>\n",
       "      <td>41</td>\n",
       "      <td>19</td>\n",
       "      <td>0</td>\n",
       "      <td>0</td>\n",
       "      <td>0</td>\n",
       "    </tr>\n",
       "    <tr>\n",
       "      <th>1</th>\n",
       "      <td>Stockholm</td>\n",
       "      <td>16</td>\n",
       "      <td>1662843600000</td>\n",
       "      <td>71.0</td>\n",
       "      <td>1017.3</td>\n",
       "      <td>16</td>\n",
       "      <td>16.10</td>\n",
       "      <td>24</td>\n",
       "      <td>29</td>\n",
       "      <td>20</td>\n",
       "      <td>5</td>\n",
       "      <td>7</td>\n",
       "      <td>4</td>\n",
       "      <td>12</td>\n",
       "      <td>18</td>\n",
       "      <td>8</td>\n",
       "      <td>0</td>\n",
       "      <td>0</td>\n",
       "      <td>0</td>\n",
       "    </tr>\n",
       "    <tr>\n",
       "      <th>2</th>\n",
       "      <td>Sundsvall</td>\n",
       "      <td>19</td>\n",
       "      <td>1662843600000</td>\n",
       "      <td>68.0</td>\n",
       "      <td>1013.6</td>\n",
       "      <td>12</td>\n",
       "      <td>15.00</td>\n",
       "      <td>23</td>\n",
       "      <td>29</td>\n",
       "      <td>16</td>\n",
       "      <td>4</td>\n",
       "      <td>5</td>\n",
       "      <td>2</td>\n",
       "      <td>10</td>\n",
       "      <td>12</td>\n",
       "      <td>6</td>\n",
       "      <td>0</td>\n",
       "      <td>0</td>\n",
       "      <td>0</td>\n",
       "    </tr>\n",
       "    <tr>\n",
       "      <th>3</th>\n",
       "      <td>Malmo</td>\n",
       "      <td>-</td>\n",
       "      <td>1662757200000</td>\n",
       "      <td>76.2</td>\n",
       "      <td>1014.3</td>\n",
       "      <td>7</td>\n",
       "      <td>16.60</td>\n",
       "      <td>25</td>\n",
       "      <td>35</td>\n",
       "      <td>20</td>\n",
       "      <td>11</td>\n",
       "      <td>14</td>\n",
       "      <td>8</td>\n",
       "      <td>35</td>\n",
       "      <td>46</td>\n",
       "      <td>25</td>\n",
       "      <td>0</td>\n",
       "      <td>0</td>\n",
       "      <td>0</td>\n",
       "    </tr>\n",
       "  </tbody>\n",
       "</table>\n",
       "</div>"
      ],
      "text/plain": [
       "        city aqi           date  iaqi_h  iaqi_p  iaqi_pm10  iaqi_t  o3_avg  \\\n",
       "0       Kyiv   5  1662843600000    99.9  1007.8          2   13.37      22   \n",
       "1  Stockholm  16  1662843600000    71.0  1017.3         16   16.10      24   \n",
       "2  Sundsvall  19  1662843600000    68.0  1013.6         12   15.00      23   \n",
       "3      Malmo   -  1662757200000    76.2  1014.3          7   16.60      25   \n",
       "\n",
       "   o3_max  o3_min  pm10_avg  pm10_max  pm10_min  pm25_avg  pm25_max  pm25_min  \\\n",
       "0      28      18         8        11         6        29        41        19   \n",
       "1      29      20         5         7         4        12        18         8   \n",
       "2      29      16         4         5         2        10        12         6   \n",
       "3      35      20        11        14         8        35        46        25   \n",
       "\n",
       "   uvi_avg  uvi_max  uvi_min  \n",
       "0        0        0        0  \n",
       "1        0        0        0  \n",
       "2        0        0        0  \n",
       "3        0        0        0  "
      ]
     },
     "execution_count": 4,
     "metadata": {},
     "output_type": "execute_result"
    }
   ],
   "source": [
    "df_air_quality = get_air_quality_df(data_air_quality)\n",
    "\n",
    "df_air_quality.head()"
   ]
  },
  {
   "cell_type": "code",
   "execution_count": 5,
   "id": "12c8281f",
   "metadata": {},
   "outputs": [],
   "source": [
    "df_air_quality.aqi = df_air_quality.aqi.replace('-',24)"
   ]
  },
  {
   "cell_type": "markdown",
   "id": "5441afc6",
   "metadata": {},
   "source": [
    "#### <span style='color:#ff5f27'> 🌦 Weather Data"
   ]
  },
  {
   "cell_type": "code",
   "execution_count": 6,
   "id": "be60bd25",
   "metadata": {},
   "outputs": [
    {
     "data": {
      "text/html": [
       "<div>\n",
       "<style scoped>\n",
       "    .dataframe tbody tr th:only-of-type {\n",
       "        vertical-align: middle;\n",
       "    }\n",
       "\n",
       "    .dataframe tbody tr th {\n",
       "        vertical-align: top;\n",
       "    }\n",
       "\n",
       "    .dataframe thead th {\n",
       "        text-align: right;\n",
       "    }\n",
       "</style>\n",
       "<table border=\"1\" class=\"dataframe\">\n",
       "  <thead>\n",
       "    <tr style=\"text-align: right;\">\n",
       "      <th></th>\n",
       "      <th>city</th>\n",
       "      <th>date</th>\n",
       "      <th>tempmax</th>\n",
       "      <th>tempmin</th>\n",
       "      <th>temp</th>\n",
       "      <th>feelslikemax</th>\n",
       "      <th>feelslikemin</th>\n",
       "      <th>feelslike</th>\n",
       "      <th>dew</th>\n",
       "      <th>humidity</th>\n",
       "      <th>...</th>\n",
       "      <th>windgust</th>\n",
       "      <th>windspeed</th>\n",
       "      <th>winddir</th>\n",
       "      <th>pressure</th>\n",
       "      <th>cloudcover</th>\n",
       "      <th>visibility</th>\n",
       "      <th>solarradiation</th>\n",
       "      <th>solarenergy</th>\n",
       "      <th>uvindex</th>\n",
       "      <th>conditions</th>\n",
       "    </tr>\n",
       "  </thead>\n",
       "  <tbody>\n",
       "    <tr>\n",
       "      <th>0</th>\n",
       "      <td>Kyiv</td>\n",
       "      <td>1662843600000</td>\n",
       "      <td>16.7</td>\n",
       "      <td>12.0</td>\n",
       "      <td>13.9</td>\n",
       "      <td>16.7</td>\n",
       "      <td>12.0</td>\n",
       "      <td>13.9</td>\n",
       "      <td>11.3</td>\n",
       "      <td>85.2</td>\n",
       "      <td>...</td>\n",
       "      <td>43.9</td>\n",
       "      <td>19.1</td>\n",
       "      <td>185.4</td>\n",
       "      <td>1009.9</td>\n",
       "      <td>91.9</td>\n",
       "      <td>22.4</td>\n",
       "      <td>69.9</td>\n",
       "      <td>5.9</td>\n",
       "      <td>3.0</td>\n",
       "      <td>Rain, Overcast</td>\n",
       "    </tr>\n",
       "    <tr>\n",
       "      <th>1</th>\n",
       "      <td>Stockholm</td>\n",
       "      <td>1662843600000</td>\n",
       "      <td>16.0</td>\n",
       "      <td>9.0</td>\n",
       "      <td>12.6</td>\n",
       "      <td>16.0</td>\n",
       "      <td>8.7</td>\n",
       "      <td>12.5</td>\n",
       "      <td>8.5</td>\n",
       "      <td>77.0</td>\n",
       "      <td>...</td>\n",
       "      <td>19.4</td>\n",
       "      <td>9.2</td>\n",
       "      <td>141.6</td>\n",
       "      <td>1016.7</td>\n",
       "      <td>73.6</td>\n",
       "      <td>11.8</td>\n",
       "      <td>72.0</td>\n",
       "      <td>6.2</td>\n",
       "      <td>4.0</td>\n",
       "      <td>Partially cloudy</td>\n",
       "    </tr>\n",
       "    <tr>\n",
       "      <th>2</th>\n",
       "      <td>Sundsvall</td>\n",
       "      <td>1662843600000</td>\n",
       "      <td>17.0</td>\n",
       "      <td>8.0</td>\n",
       "      <td>11.5</td>\n",
       "      <td>17.0</td>\n",
       "      <td>7.5</td>\n",
       "      <td>11.4</td>\n",
       "      <td>7.9</td>\n",
       "      <td>79.8</td>\n",
       "      <td>...</td>\n",
       "      <td>18.7</td>\n",
       "      <td>16.1</td>\n",
       "      <td>253.8</td>\n",
       "      <td>1016.3</td>\n",
       "      <td>75.0</td>\n",
       "      <td>11.8</td>\n",
       "      <td>155.0</td>\n",
       "      <td>13.4</td>\n",
       "      <td>5.0</td>\n",
       "      <td>Partially cloudy</td>\n",
       "    </tr>\n",
       "    <tr>\n",
       "      <th>3</th>\n",
       "      <td>Malmo</td>\n",
       "      <td>1662843600000</td>\n",
       "      <td>17.4</td>\n",
       "      <td>13.6</td>\n",
       "      <td>15.3</td>\n",
       "      <td>17.4</td>\n",
       "      <td>13.6</td>\n",
       "      <td>15.3</td>\n",
       "      <td>12.8</td>\n",
       "      <td>85.7</td>\n",
       "      <td>...</td>\n",
       "      <td>31.0</td>\n",
       "      <td>14.2</td>\n",
       "      <td>215.6</td>\n",
       "      <td>1016.1</td>\n",
       "      <td>70.8</td>\n",
       "      <td>11.3</td>\n",
       "      <td>66.3</td>\n",
       "      <td>5.7</td>\n",
       "      <td>4.0</td>\n",
       "      <td>Partially cloudy</td>\n",
       "    </tr>\n",
       "  </tbody>\n",
       "</table>\n",
       "<p>4 rows × 25 columns</p>\n",
       "</div>"
      ],
      "text/plain": [
       "        city           date  tempmax  tempmin  temp  feelslikemax  \\\n",
       "0       Kyiv  1662843600000     16.7     12.0  13.9          16.7   \n",
       "1  Stockholm  1662843600000     16.0      9.0  12.6          16.0   \n",
       "2  Sundsvall  1662843600000     17.0      8.0  11.5          17.0   \n",
       "3      Malmo  1662843600000     17.4     13.6  15.3          17.4   \n",
       "\n",
       "   feelslikemin  feelslike   dew  humidity  ...  windgust  windspeed  winddir  \\\n",
       "0          12.0       13.9  11.3      85.2  ...      43.9       19.1    185.4   \n",
       "1           8.7       12.5   8.5      77.0  ...      19.4        9.2    141.6   \n",
       "2           7.5       11.4   7.9      79.8  ...      18.7       16.1    253.8   \n",
       "3          13.6       15.3  12.8      85.7  ...      31.0       14.2    215.6   \n",
       "\n",
       "   pressure  cloudcover  visibility  solarradiation  solarenergy  uvindex  \\\n",
       "0    1009.9        91.9        22.4            69.9          5.9      3.0   \n",
       "1    1016.7        73.6        11.8            72.0          6.2      4.0   \n",
       "2    1016.3        75.0        11.8           155.0         13.4      5.0   \n",
       "3    1016.1        70.8        11.3            66.3          5.7      4.0   \n",
       "\n",
       "         conditions  \n",
       "0    Rain, Overcast  \n",
       "1  Partially cloudy  \n",
       "2  Partially cloudy  \n",
       "3  Partially cloudy  \n",
       "\n",
       "[4 rows x 25 columns]"
      ]
     },
     "execution_count": 6,
     "metadata": {},
     "output_type": "execute_result"
    }
   ],
   "source": [
    "df_weather = get_weather_df(data_weather)\n",
    "\n",
    "df_weather.head()"
   ]
  },
  {
   "cell_type": "markdown",
   "id": "10c2618b",
   "metadata": {},
   "source": [
    "## <span style=\"color:#ff5f27;\"> 🔮 Connecting to Hopsworks Feature Store </span>"
   ]
  },
  {
   "cell_type": "code",
   "execution_count": 7,
   "id": "4530f803",
   "metadata": {},
   "outputs": [
    {
     "name": "stdout",
     "output_type": "stream",
     "text": [
      "Connected. Call `.close()` to terminate connection gracefully.\n",
      "\n",
      "Logged in to project, explore it here https://c.app.hopsworks.ai:443/p/167\n",
      "Connected. Call `.close()` to terminate connection gracefully.\n"
     ]
    }
   ],
   "source": [
    "import hopsworks\n",
    "\n",
    "project = hopsworks.login()\n",
    "\n",
    "fs = project.get_feature_store() "
   ]
  },
  {
   "cell_type": "markdown",
   "id": "5737ca2f",
   "metadata": {},
   "source": [
    "## <span style=\"color:#ff5f27;\">🪄 Retrieving Feature Groups</span>"
   ]
  },
  {
   "cell_type": "code",
   "execution_count": 8,
   "id": "4e4f3e0c",
   "metadata": {},
   "outputs": [],
   "source": [
    "air_quality_fg = fs.get_or_create_feature_group(\n",
    "    name = 'air_quality_fg',\n",
    "    version = 1\n",
    ")\n",
    "weather_fg = fs.get_or_create_feature_group(\n",
    "    name = 'weather_fg',\n",
    "    version = 1\n",
    ")"
   ]
  },
  {
   "cell_type": "markdown",
   "id": "4efe32a4",
   "metadata": {},
   "source": [
    "### <span style=\"color:#ff5f27;\"> ⚜️ Index column preparation </span>"
   ]
  },
  {
   "cell_type": "code",
   "execution_count": 9,
   "id": "5e3af0c5",
   "metadata": {},
   "outputs": [
    {
     "name": "stdout",
     "output_type": "stream",
     "text": [
      "2022-09-11 21:34:08,256 INFO: USE `maksym00_featurestore`\n",
      "2022-09-11 21:34:09,316 INFO: SELECT `fg0`.`index` `index`, `fg0`.`city` `city`, `fg0`.`aqi` `aqi`, `fg0`.`date` `date`, `fg0`.`iaqi_h` `iaqi_h`, `fg0`.`iaqi_p` `iaqi_p`, `fg0`.`iaqi_pm10` `iaqi_pm10`, `fg0`.`iaqi_t` `iaqi_t`, `fg0`.`o3_avg` `o3_avg`, `fg0`.`o3_max` `o3_max`, `fg0`.`o3_min` `o3_min`, `fg0`.`pm10_avg` `pm10_avg`, `fg0`.`pm10_max` `pm10_max`, `fg0`.`pm10_min` `pm10_min`, `fg0`.`pm25_avg` `pm25_avg`, `fg0`.`pm25_max` `pm25_max`, `fg0`.`pm25_min` `pm25_min`, `fg0`.`uvi_avg` `uvi_avg`, `fg0`.`uvi_max` `uvi_max`, `fg0`.`uvi_min` `uvi_min`\n",
      "FROM `maksym00_featurestore`.`air_quality_fg_1` `fg0`\n"
     ]
    },
    {
     "name": "stderr",
     "output_type": "stream",
     "text": [
      "UserWarning: pandas only support SQLAlchemy connectable(engine/connection) ordatabase string URI or sqlite3 DBAPI2 connectionother DBAPI2 objects are not tested, please consider using SQLAlchemy\n"
     ]
    }
   ],
   "source": [
    "index_latest = air_quality_fg.read()['index'].max()"
   ]
  },
  {
   "cell_type": "code",
   "execution_count": 11,
   "id": "67148d0a",
   "metadata": {},
   "outputs": [],
   "source": [
    "prepare_index(df_air_quality,index_latest)\n",
    "prepare_index(df_weather,index_latest)"
   ]
  },
  {
   "cell_type": "markdown",
   "id": "5aef353d",
   "metadata": {},
   "source": [
    "## <span style=\"color:#ff5f27;\">🧬 Inserting into Feature Groups</span>"
   ]
  },
  {
   "cell_type": "code",
   "execution_count": 14,
   "id": "f81bb922",
   "metadata": {},
   "outputs": [
    {
     "data": {
      "application/vnd.jupyter.widget-view+json": {
       "model_id": "ae89e8e013894648a649d19a29f155dd",
       "version_major": 2,
       "version_minor": 0
      },
      "text/plain": [
       "Uploading Dataframe: 0.00% |          | Rows 0/4 | Elapsed Time: 00:00 | Remaining Time: ?"
      ]
     },
     "metadata": {},
     "output_type": "display_data"
    },
    {
     "name": "stdout",
     "output_type": "stream",
     "text": [
      "Launching offline feature group backfill job...\n",
      "Backfill Job started successfully, you can follow the progress at \n",
      "https://c.app.hopsworks.ai/p/167/jobs/named/air_quality_fg_1_offline_fg_backfill/executions\n"
     ]
    },
    {
     "data": {
      "text/plain": [
       "(<hsfs.core.job.Job at 0x7fa7f9eb5f10>, None)"
      ]
     },
     "execution_count": 14,
     "metadata": {},
     "output_type": "execute_result"
    }
   ],
   "source": [
    "air_quality_fg.insert(df_air_quality)"
   ]
  },
  {
   "cell_type": "code",
   "execution_count": 15,
   "id": "be0c498e",
   "metadata": {},
   "outputs": [
    {
     "data": {
      "application/vnd.jupyter.widget-view+json": {
       "model_id": "dc1c278c44c946a7a063794ac774c115",
       "version_major": 2,
       "version_minor": 0
      },
      "text/plain": [
       "Uploading Dataframe: 0.00% |          | Rows 0/4 | Elapsed Time: 00:00 | Remaining Time: ?"
      ]
     },
     "metadata": {},
     "output_type": "display_data"
    },
    {
     "name": "stdout",
     "output_type": "stream",
     "text": [
      "Launching offline feature group backfill job...\n",
      "Backfill Job started successfully, you can follow the progress at \n",
      "https://c.app.hopsworks.ai/p/167/jobs/named/weather_fg_1_offline_fg_backfill/executions\n"
     ]
    },
    {
     "data": {
      "text/plain": [
       "(<hsfs.core.job.Job at 0x7fa7f9ec05e0>, None)"
      ]
     },
     "execution_count": 15,
     "metadata": {},
     "output_type": "execute_result"
    }
   ],
   "source": [
    "weather_fg.insert(df_weather)"
   ]
  },
  {
   "cell_type": "markdown",
   "id": "b3b7d4c4",
   "metadata": {},
   "source": [
    "---"
   ]
  }
 ],
 "metadata": {
  "kernelspec": {
   "display_name": "Python 3 (ipykernel)",
   "language": "python",
   "name": "python3"
  },
  "language_info": {
   "codemirror_mode": {
    "name": "ipython",
    "version": 3
   },
   "file_extension": ".py",
   "mimetype": "text/x-python",
   "name": "python",
   "nbconvert_exporter": "python",
   "pygments_lexer": "ipython3",
   "version": "3.9.12"
  },
  "vscode": {
   "interpreter": {
    "hash": "190ea7959a836f4799545ea0f3718ade3abee093b15861ffdc25233d6ab7050e"
   }
  }
 },
 "nbformat": 4,
 "nbformat_minor": 5
}
