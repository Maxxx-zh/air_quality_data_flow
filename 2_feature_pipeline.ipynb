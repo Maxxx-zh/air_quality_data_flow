{
 "cells": [
  {
   "cell_type": "markdown",
   "id": "dd094af7",
   "metadata": {},
   "source": [
    "# <span style=\"font-width:bold; font-size: 3rem; color:#1EB182;\"><img src=\"images/icon102.png\" width=\"38px\"></img> **Hopsworks Feature Store** </span><span style=\"font-width:bold; font-size: 3rem; color:#333;\">- Part 02: Feature Pipeline</span>\n",
    "\n",
    "## 🗒️ This notebook is divided in 3 sections:\n",
    "1. Parsing Data.\n",
    "2. Preparing dataframes.\n",
    "3. Feature Group Insertion."
   ]
  },
  {
   "cell_type": "markdown",
   "id": "a7dcc328",
   "metadata": {},
   "source": [
    "## <span style='color:#ff5f27'> 📝 Imports"
   ]
  },
  {
   "cell_type": "code",
   "execution_count": 1,
   "id": "364e961e",
   "metadata": {},
   "outputs": [],
   "source": [
    "import pandas as pd\n",
    "from datetime import datetime\n",
    "import time \n",
    "import requests\n",
    "import os \n",
    "\n",
    "from features import *"
   ]
  },
  {
   "cell_type": "markdown",
   "id": "114041a3",
   "metadata": {},
   "source": [
    "## <span style='color:#ff5f27'> 👮🏻‍♂️ API Keys"
   ]
  },
  {
   "cell_type": "code",
   "execution_count": 2,
   "id": "010c9b4a",
   "metadata": {},
   "outputs": [],
   "source": [
    "AIR_QUALITY_API_KEY = os.getenv('AIR_QUALITY_API_KEY')\n",
    "WEATHER_API_KEY = os.getenv('WEATHER_API_KEY')\n",
    "\n",
    "date_today = datetime.now().strftime(\"%Y-%m-%d\")"
   ]
  },
  {
   "cell_type": "markdown",
   "id": "5c5be1bc",
   "metadata": {},
   "source": [
    "## <span style='color:#ff5f27'> 🕵🏻‍♂️ Parsing"
   ]
  },
  {
   "cell_type": "code",
   "execution_count": 3,
   "id": "5cc510eb",
   "metadata": {},
   "outputs": [],
   "source": [
    "cities = ['Kyiv','Stockholm','Sundsvall','Malmo']\n",
    "\n",
    "data_air_quality = [get_air_quality_data(city,AIR_QUALITY_API_KEY) for city in cities]\n",
    "\n",
    "data_weather = [get_weather_data(city,date_today,WEATHER_API_KEY) for city in cities]"
   ]
  },
  {
   "cell_type": "markdown",
   "id": "cca6814a",
   "metadata": {},
   "source": [
    "## <span style='color:#ff5f27'> 🧑🏻‍🏫 Dataset Preparation"
   ]
  },
  {
   "cell_type": "markdown",
   "id": "2f172f7b",
   "metadata": {},
   "source": [
    "#### <span style='color:#ff5f27'> 👩🏻‍🔬 Air Quality Data"
   ]
  },
  {
   "cell_type": "code",
   "execution_count": 4,
   "id": "7d3f552e",
   "metadata": {},
   "outputs": [
    {
     "data": {
      "text/html": [
       "<div>\n",
       "<style scoped>\n",
       "    .dataframe tbody tr th:only-of-type {\n",
       "        vertical-align: middle;\n",
       "    }\n",
       "\n",
       "    .dataframe tbody tr th {\n",
       "        vertical-align: top;\n",
       "    }\n",
       "\n",
       "    .dataframe thead th {\n",
       "        text-align: right;\n",
       "    }\n",
       "</style>\n",
       "<table border=\"1\" class=\"dataframe\">\n",
       "  <thead>\n",
       "    <tr style=\"text-align: right;\">\n",
       "      <th></th>\n",
       "      <th>city</th>\n",
       "      <th>aqi</th>\n",
       "      <th>date</th>\n",
       "      <th>iaqi_h</th>\n",
       "      <th>iaqi_p</th>\n",
       "      <th>iaqi_pm10</th>\n",
       "      <th>iaqi_t</th>\n",
       "      <th>o3_avg</th>\n",
       "      <th>o3_max</th>\n",
       "      <th>o3_min</th>\n",
       "      <th>pm10_avg</th>\n",
       "      <th>pm10_max</th>\n",
       "      <th>pm10_min</th>\n",
       "      <th>pm25_avg</th>\n",
       "      <th>pm25_max</th>\n",
       "      <th>pm25_min</th>\n",
       "      <th>uvi_avg</th>\n",
       "      <th>uvi_max</th>\n",
       "      <th>uvi_min</th>\n",
       "    </tr>\n",
       "  </thead>\n",
       "  <tbody>\n",
       "    <tr>\n",
       "      <th>0</th>\n",
       "      <td>Kyiv</td>\n",
       "      <td>2</td>\n",
       "      <td>1662930000000</td>\n",
       "      <td>99.9</td>\n",
       "      <td>1006.4</td>\n",
       "      <td>1</td>\n",
       "      <td>13.4</td>\n",
       "      <td>14</td>\n",
       "      <td>22</td>\n",
       "      <td>7</td>\n",
       "      <td>10</td>\n",
       "      <td>12</td>\n",
       "      <td>7</td>\n",
       "      <td>38</td>\n",
       "      <td>45</td>\n",
       "      <td>24</td>\n",
       "      <td>0</td>\n",
       "      <td>0</td>\n",
       "      <td>0</td>\n",
       "    </tr>\n",
       "    <tr>\n",
       "      <th>1</th>\n",
       "      <td>Stockholm</td>\n",
       "      <td>16</td>\n",
       "      <td>1662930000000</td>\n",
       "      <td>55.0</td>\n",
       "      <td>1014.0</td>\n",
       "      <td>16</td>\n",
       "      <td>18.0</td>\n",
       "      <td>22</td>\n",
       "      <td>27</td>\n",
       "      <td>19</td>\n",
       "      <td>6</td>\n",
       "      <td>7</td>\n",
       "      <td>5</td>\n",
       "      <td>15</td>\n",
       "      <td>18</td>\n",
       "      <td>11</td>\n",
       "      <td>0</td>\n",
       "      <td>0</td>\n",
       "      <td>0</td>\n",
       "    </tr>\n",
       "    <tr>\n",
       "      <th>2</th>\n",
       "      <td>Sundsvall</td>\n",
       "      <td>30</td>\n",
       "      <td>1662930000000</td>\n",
       "      <td>47.3</td>\n",
       "      <td>1010.8</td>\n",
       "      <td>20</td>\n",
       "      <td>18.1</td>\n",
       "      <td>21</td>\n",
       "      <td>29</td>\n",
       "      <td>15</td>\n",
       "      <td>5</td>\n",
       "      <td>6</td>\n",
       "      <td>3</td>\n",
       "      <td>11</td>\n",
       "      <td>13</td>\n",
       "      <td>8</td>\n",
       "      <td>0</td>\n",
       "      <td>0</td>\n",
       "      <td>0</td>\n",
       "    </tr>\n",
       "    <tr>\n",
       "      <th>3</th>\n",
       "      <td>Malmo</td>\n",
       "      <td>18</td>\n",
       "      <td>1662930000000</td>\n",
       "      <td>65.5</td>\n",
       "      <td>1013.3</td>\n",
       "      <td>5</td>\n",
       "      <td>20.0</td>\n",
       "      <td>19</td>\n",
       "      <td>27</td>\n",
       "      <td>10</td>\n",
       "      <td>10</td>\n",
       "      <td>12</td>\n",
       "      <td>8</td>\n",
       "      <td>29</td>\n",
       "      <td>35</td>\n",
       "      <td>23</td>\n",
       "      <td>0</td>\n",
       "      <td>0</td>\n",
       "      <td>0</td>\n",
       "    </tr>\n",
       "  </tbody>\n",
       "</table>\n",
       "</div>"
      ],
      "text/plain": [
       "        city  aqi           date  iaqi_h  iaqi_p  iaqi_pm10  iaqi_t  o3_avg  \\\n",
       "0       Kyiv    2  1662930000000    99.9  1006.4          1    13.4      14   \n",
       "1  Stockholm   16  1662930000000    55.0  1014.0         16    18.0      22   \n",
       "2  Sundsvall   30  1662930000000    47.3  1010.8         20    18.1      21   \n",
       "3      Malmo   18  1662930000000    65.5  1013.3          5    20.0      19   \n",
       "\n",
       "   o3_max  o3_min  pm10_avg  pm10_max  pm10_min  pm25_avg  pm25_max  pm25_min  \\\n",
       "0      22       7        10        12         7        38        45        24   \n",
       "1      27      19         6         7         5        15        18        11   \n",
       "2      29      15         5         6         3        11        13         8   \n",
       "3      27      10        10        12         8        29        35        23   \n",
       "\n",
       "   uvi_avg  uvi_max  uvi_min  \n",
       "0        0        0        0  \n",
       "1        0        0        0  \n",
       "2        0        0        0  \n",
       "3        0        0        0  "
      ]
     },
     "execution_count": 4,
     "metadata": {},
     "output_type": "execute_result"
    }
   ],
   "source": [
    "df_air_quality = get_air_quality_df(data_air_quality)\n",
    "\n",
    "df_air_quality.head()"
   ]
  },
  {
   "cell_type": "markdown",
   "id": "5441afc6",
   "metadata": {},
   "source": [
    "#### <span style='color:#ff5f27'> 🌦 Weather Data"
   ]
  },
  {
   "cell_type": "code",
   "execution_count": 5,
   "id": "be60bd25",
   "metadata": {},
   "outputs": [
    {
     "data": {
      "text/html": [
       "<div>\n",
       "<style scoped>\n",
       "    .dataframe tbody tr th:only-of-type {\n",
       "        vertical-align: middle;\n",
       "    }\n",
       "\n",
       "    .dataframe tbody tr th {\n",
       "        vertical-align: top;\n",
       "    }\n",
       "\n",
       "    .dataframe thead th {\n",
       "        text-align: right;\n",
       "    }\n",
       "</style>\n",
       "<table border=\"1\" class=\"dataframe\">\n",
       "  <thead>\n",
       "    <tr style=\"text-align: right;\">\n",
       "      <th></th>\n",
       "      <th>city</th>\n",
       "      <th>date</th>\n",
       "      <th>tempmax</th>\n",
       "      <th>tempmin</th>\n",
       "      <th>temp</th>\n",
       "      <th>feelslikemax</th>\n",
       "      <th>feelslikemin</th>\n",
       "      <th>feelslike</th>\n",
       "      <th>dew</th>\n",
       "      <th>humidity</th>\n",
       "      <th>...</th>\n",
       "      <th>windgust</th>\n",
       "      <th>windspeed</th>\n",
       "      <th>winddir</th>\n",
       "      <th>pressure</th>\n",
       "      <th>cloudcover</th>\n",
       "      <th>visibility</th>\n",
       "      <th>solarradiation</th>\n",
       "      <th>solarenergy</th>\n",
       "      <th>uvindex</th>\n",
       "      <th>conditions</th>\n",
       "    </tr>\n",
       "  </thead>\n",
       "  <tbody>\n",
       "    <tr>\n",
       "      <th>0</th>\n",
       "      <td>Kyiv</td>\n",
       "      <td>1662930000000</td>\n",
       "      <td>13.9</td>\n",
       "      <td>11.3</td>\n",
       "      <td>12.5</td>\n",
       "      <td>13.9</td>\n",
       "      <td>11.3</td>\n",
       "      <td>12.5</td>\n",
       "      <td>10.7</td>\n",
       "      <td>88.9</td>\n",
       "      <td>...</td>\n",
       "      <td>24.1</td>\n",
       "      <td>10.1</td>\n",
       "      <td>256.9</td>\n",
       "      <td>1007.5</td>\n",
       "      <td>98.6</td>\n",
       "      <td>19.6</td>\n",
       "      <td>29.4</td>\n",
       "      <td>2.5</td>\n",
       "      <td>1.0</td>\n",
       "      <td>Rain, Overcast</td>\n",
       "    </tr>\n",
       "    <tr>\n",
       "      <th>1</th>\n",
       "      <td>Stockholm</td>\n",
       "      <td>1662930000000</td>\n",
       "      <td>18.9</td>\n",
       "      <td>6.0</td>\n",
       "      <td>12.3</td>\n",
       "      <td>18.9</td>\n",
       "      <td>6.0</td>\n",
       "      <td>12.2</td>\n",
       "      <td>8.6</td>\n",
       "      <td>80.9</td>\n",
       "      <td>...</td>\n",
       "      <td>25.9</td>\n",
       "      <td>11.2</td>\n",
       "      <td>133.9</td>\n",
       "      <td>1014.8</td>\n",
       "      <td>77.5</td>\n",
       "      <td>13.0</td>\n",
       "      <td>119.3</td>\n",
       "      <td>10.4</td>\n",
       "      <td>5.0</td>\n",
       "      <td>Partially cloudy</td>\n",
       "    </tr>\n",
       "    <tr>\n",
       "      <th>2</th>\n",
       "      <td>Sundsvall</td>\n",
       "      <td>1662930000000</td>\n",
       "      <td>16.3</td>\n",
       "      <td>4.9</td>\n",
       "      <td>10.3</td>\n",
       "      <td>16.3</td>\n",
       "      <td>2.4</td>\n",
       "      <td>9.5</td>\n",
       "      <td>7.0</td>\n",
       "      <td>80.4</td>\n",
       "      <td>...</td>\n",
       "      <td>25.9</td>\n",
       "      <td>12.6</td>\n",
       "      <td>248.1</td>\n",
       "      <td>1012.5</td>\n",
       "      <td>95.1</td>\n",
       "      <td>15.2</td>\n",
       "      <td>112.1</td>\n",
       "      <td>9.5</td>\n",
       "      <td>5.0</td>\n",
       "      <td>Overcast</td>\n",
       "    </tr>\n",
       "    <tr>\n",
       "      <th>3</th>\n",
       "      <td>Malmo</td>\n",
       "      <td>1662930000000</td>\n",
       "      <td>18.5</td>\n",
       "      <td>8.5</td>\n",
       "      <td>14.1</td>\n",
       "      <td>18.5</td>\n",
       "      <td>8.5</td>\n",
       "      <td>14.1</td>\n",
       "      <td>11.6</td>\n",
       "      <td>85.6</td>\n",
       "      <td>...</td>\n",
       "      <td>23.0</td>\n",
       "      <td>10.4</td>\n",
       "      <td>221.7</td>\n",
       "      <td>1015.7</td>\n",
       "      <td>71.7</td>\n",
       "      <td>14.1</td>\n",
       "      <td>168.8</td>\n",
       "      <td>14.7</td>\n",
       "      <td>7.0</td>\n",
       "      <td>Partially cloudy</td>\n",
       "    </tr>\n",
       "  </tbody>\n",
       "</table>\n",
       "<p>4 rows × 25 columns</p>\n",
       "</div>"
      ],
      "text/plain": [
       "        city           date  tempmax  tempmin  temp  feelslikemax  \\\n",
       "0       Kyiv  1662930000000     13.9     11.3  12.5          13.9   \n",
       "1  Stockholm  1662930000000     18.9      6.0  12.3          18.9   \n",
       "2  Sundsvall  1662930000000     16.3      4.9  10.3          16.3   \n",
       "3      Malmo  1662930000000     18.5      8.5  14.1          18.5   \n",
       "\n",
       "   feelslikemin  feelslike   dew  humidity  ...  windgust  windspeed  winddir  \\\n",
       "0          11.3       12.5  10.7      88.9  ...      24.1       10.1    256.9   \n",
       "1           6.0       12.2   8.6      80.9  ...      25.9       11.2    133.9   \n",
       "2           2.4        9.5   7.0      80.4  ...      25.9       12.6    248.1   \n",
       "3           8.5       14.1  11.6      85.6  ...      23.0       10.4    221.7   \n",
       "\n",
       "   pressure  cloudcover  visibility  solarradiation  solarenergy  uvindex  \\\n",
       "0    1007.5        98.6        19.6            29.4          2.5      1.0   \n",
       "1    1014.8        77.5        13.0           119.3         10.4      5.0   \n",
       "2    1012.5        95.1        15.2           112.1          9.5      5.0   \n",
       "3    1015.7        71.7        14.1           168.8         14.7      7.0   \n",
       "\n",
       "         conditions  \n",
       "0    Rain, Overcast  \n",
       "1  Partially cloudy  \n",
       "2          Overcast  \n",
       "3  Partially cloudy  \n",
       "\n",
       "[4 rows x 25 columns]"
      ]
     },
     "execution_count": 5,
     "metadata": {},
     "output_type": "execute_result"
    }
   ],
   "source": [
    "df_weather = get_weather_df(data_weather)\n",
    "\n",
    "df_weather.head()"
   ]
  },
  {
   "cell_type": "markdown",
   "id": "10c2618b",
   "metadata": {},
   "source": [
    "## <span style=\"color:#ff5f27;\"> 🔮 Connecting to Hopsworks Feature Store </span>"
   ]
  },
  {
   "cell_type": "code",
   "execution_count": 6,
   "id": "4530f803",
   "metadata": {},
   "outputs": [
    {
     "name": "stdout",
     "output_type": "stream",
     "text": [
      "Connected. Call `.close()` to terminate connection gracefully.\n",
      "\n",
      "Logged in to project, explore it here https://c.app.hopsworks.ai:443/p/167\n",
      "Connected. Call `.close()` to terminate connection gracefully.\n"
     ]
    }
   ],
   "source": [
    "import hopsworks\n",
    "\n",
    "project = hopsworks.login()\n",
    "\n",
    "fs = project.get_feature_store() "
   ]
  },
  {
   "cell_type": "markdown",
   "id": "5737ca2f",
   "metadata": {},
   "source": [
    "## <span style=\"color:#ff5f27;\">🪄 Retrieving Feature Groups</span>"
   ]
  },
  {
   "cell_type": "code",
   "execution_count": 7,
   "id": "4e4f3e0c",
   "metadata": {},
   "outputs": [],
   "source": [
    "air_quality_fg = fs.get_or_create_feature_group(\n",
    "    name = 'air_quality_fg',\n",
    "    version = 1\n",
    ")\n",
    "weather_fg = fs.get_or_create_feature_group(\n",
    "    name = 'weather_fg',\n",
    "    version = 1\n",
    ")"
   ]
  },
  {
   "cell_type": "markdown",
   "id": "5aef353d",
   "metadata": {},
   "source": [
    "## <span style=\"color:#ff5f27;\">🧬 Inserting into Feature Groups</span>"
   ]
  },
  {
   "cell_type": "code",
   "execution_count": 8,
   "id": "f81bb922",
   "metadata": {},
   "outputs": [
    {
     "data": {
      "application/vnd.jupyter.widget-view+json": {
       "model_id": "30e3fbb8350146079e3b51bc79981869",
       "version_major": 2,
       "version_minor": 0
      },
      "text/plain": [
       "Uploading Dataframe: 0.00% |          | Rows 0/4 | Elapsed Time: 00:00 | Remaining Time: ?"
      ]
     },
     "metadata": {},
     "output_type": "display_data"
    },
    {
     "name": "stdout",
     "output_type": "stream",
     "text": [
      "Launching offline feature group backfill job...\n",
      "Backfill Job started successfully, you can follow the progress at \n",
      "https://c.app.hopsworks.ai/p/167/jobs/named/air_quality_fg_1_offline_fg_backfill/executions\n"
     ]
    },
    {
     "data": {
      "text/plain": [
       "(<hsfs.core.job.Job at 0x7f7d0a4ced90>, None)"
      ]
     },
     "execution_count": 8,
     "metadata": {},
     "output_type": "execute_result"
    }
   ],
   "source": [
    "air_quality_fg.insert(df_air_quality)"
   ]
  },
  {
   "cell_type": "code",
   "execution_count": 9,
   "id": "be0c498e",
   "metadata": {},
   "outputs": [
    {
     "data": {
      "application/vnd.jupyter.widget-view+json": {
       "model_id": "18c8b6d43752443dad6190c4fa1c83a5",
       "version_major": 2,
       "version_minor": 0
      },
      "text/plain": [
       "Uploading Dataframe: 0.00% |          | Rows 0/4 | Elapsed Time: 00:00 | Remaining Time: ?"
      ]
     },
     "metadata": {},
     "output_type": "display_data"
    },
    {
     "name": "stdout",
     "output_type": "stream",
     "text": [
      "Launching offline feature group backfill job...\n",
      "Backfill Job started successfully, you can follow the progress at \n",
      "https://c.app.hopsworks.ai/p/167/jobs/named/weather_fg_1_offline_fg_backfill/executions\n"
     ]
    },
    {
     "data": {
      "text/plain": [
       "(<hsfs.core.job.Job at 0x7f7d0a197df0>, None)"
      ]
     },
     "execution_count": 9,
     "metadata": {},
     "output_type": "execute_result"
    }
   ],
   "source": [
    "weather_fg.insert(df_weather)"
   ]
  },
  {
   "cell_type": "markdown",
   "id": "b3b7d4c4",
   "metadata": {},
   "source": [
    "---"
   ]
  }
 ],
 "metadata": {
  "kernelspec": {
   "display_name": "Python 3 (ipykernel)",
   "language": "python",
   "name": "python3"
  },
  "language_info": {
   "codemirror_mode": {
    "name": "ipython",
    "version": 3
   },
   "file_extension": ".py",
   "mimetype": "text/x-python",
   "name": "python",
   "nbconvert_exporter": "python",
   "pygments_lexer": "ipython3",
   "version": "3.9.12"
  },
  "vscode": {
   "interpreter": {
    "hash": "190ea7959a836f4799545ea0f3718ade3abee093b15861ffdc25233d6ab7050e"
   }
  }
 },
 "nbformat": 4,
 "nbformat_minor": 5
}
